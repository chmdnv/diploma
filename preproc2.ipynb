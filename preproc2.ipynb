{
 "cells": [
  {
   "cell_type": "code",
   "execution_count": 1,
   "id": "fa7792e1-fe43-4e87-9b2d-0b6d47667772",
   "metadata": {},
   "outputs": [],
   "source": [
    "import pandas as pd\n",
    "import matplotlib.pyplot as plt\n",
    "import math\n",
    "import joblib\n",
    "import dill\n",
    "from numpy import nan\n",
    "import random"
   ]
  },
  {
   "cell_type": "code",
   "execution_count": 2,
   "id": "7c06bc50-98d7-4f8e-a61b-6d642854a697",
   "metadata": {},
   "outputs": [],
   "source": [
    "from sklearn.preprocessing import OneHotEncoder, LabelEncoder, StandardScaler"
   ]
  },
  {
   "cell_type": "code",
   "execution_count": 3,
   "id": "f72ecfc3-59a2-4d6d-8425-30fe2db43152",
   "metadata": {},
   "outputs": [],
   "source": [
    "from geo_request import get_coords"
   ]
  },
  {
   "cell_type": "markdown",
   "id": "af70005f-aa4f-439c-88b8-097585272cf9",
   "metadata": {
    "tags": []
   },
   "source": [
    "# Data loading\n",
    "---"
   ]
  },
  {
   "cell_type": "code",
   "execution_count": 4,
   "id": "3e8b6f32-3f92-4be9-9394-592c77c4fde9",
   "metadata": {},
   "outputs": [
    {
     "data": {
      "text/html": [
       "<div>\n",
       "<style scoped>\n",
       "    .dataframe tbody tr th:only-of-type {\n",
       "        vertical-align: middle;\n",
       "    }\n",
       "\n",
       "    .dataframe tbody tr th {\n",
       "        vertical-align: top;\n",
       "    }\n",
       "\n",
       "    .dataframe thead th {\n",
       "        text-align: right;\n",
       "    }\n",
       "</style>\n",
       "<table border=\"1\" class=\"dataframe\">\n",
       "  <thead>\n",
       "    <tr style=\"text-align: right;\">\n",
       "      <th></th>\n",
       "      <th>session_id</th>\n",
       "      <th>client_id</th>\n",
       "      <th>visit_date</th>\n",
       "      <th>visit_time</th>\n",
       "      <th>visit_number</th>\n",
       "      <th>utm_source</th>\n",
       "      <th>utm_medium</th>\n",
       "      <th>utm_campaign</th>\n",
       "      <th>utm_adcontent</th>\n",
       "      <th>utm_keyword</th>\n",
       "      <th>device_category</th>\n",
       "      <th>device_os</th>\n",
       "      <th>device_brand</th>\n",
       "      <th>device_model</th>\n",
       "      <th>device_screen_resolution</th>\n",
       "      <th>device_browser</th>\n",
       "      <th>geo_country</th>\n",
       "      <th>geo_city</th>\n",
       "    </tr>\n",
       "  </thead>\n",
       "  <tbody>\n",
       "    <tr>\n",
       "      <th>0</th>\n",
       "      <td>9055434745589932991.1637753792.1637753792</td>\n",
       "      <td>2108382700.1637753791</td>\n",
       "      <td>2021-11-24</td>\n",
       "      <td>14:36:32</td>\n",
       "      <td>1</td>\n",
       "      <td>ZpYIoDJMcFzVoPFsHGJL</td>\n",
       "      <td>banner</td>\n",
       "      <td>LEoPHuyFvzoNfnzGgfcd</td>\n",
       "      <td>vCIpmpaGBnIQhyYNkXqp</td>\n",
       "      <td>puhZPIYqKXeFPaUviSjo</td>\n",
       "      <td>mobile</td>\n",
       "      <td>Android</td>\n",
       "      <td>Huawei</td>\n",
       "      <td>NaN</td>\n",
       "      <td>360x720</td>\n",
       "      <td>Chrome</td>\n",
       "      <td>Russia</td>\n",
       "      <td>Zlatoust</td>\n",
       "    </tr>\n",
       "    <tr>\n",
       "      <th>1</th>\n",
       "      <td>905544597018549464.1636867290.1636867290</td>\n",
       "      <td>210838531.1636867288</td>\n",
       "      <td>2021-11-14</td>\n",
       "      <td>08:21:30</td>\n",
       "      <td>1</td>\n",
       "      <td>MvfHsxITijuriZxsqZqt</td>\n",
       "      <td>cpm</td>\n",
       "      <td>FTjNLDyTrXaWYgZymFkV</td>\n",
       "      <td>xhoenQgDQsgfEPYNPwKO</td>\n",
       "      <td>IGUCNvHlhfHpROGclCit</td>\n",
       "      <td>mobile</td>\n",
       "      <td>Android</td>\n",
       "      <td>Samsung</td>\n",
       "      <td>NaN</td>\n",
       "      <td>385x854</td>\n",
       "      <td>Samsung Internet</td>\n",
       "      <td>Russia</td>\n",
       "      <td>Moscow</td>\n",
       "    </tr>\n",
       "    <tr>\n",
       "      <th>2</th>\n",
       "      <td>9055446045651783499.1640648526.1640648526</td>\n",
       "      <td>2108385331.1640648523</td>\n",
       "      <td>2021-12-28</td>\n",
       "      <td>02:42:06</td>\n",
       "      <td>1</td>\n",
       "      <td>ZpYIoDJMcFzVoPFsHGJL</td>\n",
       "      <td>banner</td>\n",
       "      <td>LEoPHuyFvzoNfnzGgfcd</td>\n",
       "      <td>vCIpmpaGBnIQhyYNkXqp</td>\n",
       "      <td>puhZPIYqKXeFPaUviSjo</td>\n",
       "      <td>mobile</td>\n",
       "      <td>Android</td>\n",
       "      <td>Huawei</td>\n",
       "      <td>NaN</td>\n",
       "      <td>360x720</td>\n",
       "      <td>Chrome</td>\n",
       "      <td>Russia</td>\n",
       "      <td>Krasnoyarsk</td>\n",
       "    </tr>\n",
       "    <tr>\n",
       "      <th>3</th>\n",
       "      <td>9055447046360770272.1622255328.1622255328</td>\n",
       "      <td>2108385564.1622255328</td>\n",
       "      <td>2021-05-29</td>\n",
       "      <td>05:00:00</td>\n",
       "      <td>1</td>\n",
       "      <td>kjsLglQLzykiRbcDiGcD</td>\n",
       "      <td>cpc</td>\n",
       "      <td>NaN</td>\n",
       "      <td>NOBKLgtuvqYWkXQHeYWM</td>\n",
       "      <td>NaN</td>\n",
       "      <td>mobile</td>\n",
       "      <td>NaN</td>\n",
       "      <td>Xiaomi</td>\n",
       "      <td>NaN</td>\n",
       "      <td>393x786</td>\n",
       "      <td>Chrome</td>\n",
       "      <td>Russia</td>\n",
       "      <td>Moscow</td>\n",
       "    </tr>\n",
       "    <tr>\n",
       "      <th>4</th>\n",
       "      <td>9055447046360770272.1622255345.1622255345</td>\n",
       "      <td>2108385564.1622255328</td>\n",
       "      <td>2021-05-29</td>\n",
       "      <td>05:00:00</td>\n",
       "      <td>2</td>\n",
       "      <td>kjsLglQLzykiRbcDiGcD</td>\n",
       "      <td>cpc</td>\n",
       "      <td>NaN</td>\n",
       "      <td>NaN</td>\n",
       "      <td>NaN</td>\n",
       "      <td>mobile</td>\n",
       "      <td>NaN</td>\n",
       "      <td>Xiaomi</td>\n",
       "      <td>NaN</td>\n",
       "      <td>393x786</td>\n",
       "      <td>Chrome</td>\n",
       "      <td>Russia</td>\n",
       "      <td>Moscow</td>\n",
       "    </tr>\n",
       "    <tr>\n",
       "      <th>...</th>\n",
       "      <td>...</td>\n",
       "      <td>...</td>\n",
       "      <td>...</td>\n",
       "      <td>...</td>\n",
       "      <td>...</td>\n",
       "      <td>...</td>\n",
       "      <td>...</td>\n",
       "      <td>...</td>\n",
       "      <td>...</td>\n",
       "      <td>...</td>\n",
       "      <td>...</td>\n",
       "      <td>...</td>\n",
       "      <td>...</td>\n",
       "      <td>...</td>\n",
       "      <td>...</td>\n",
       "      <td>...</td>\n",
       "      <td>...</td>\n",
       "      <td>...</td>\n",
       "    </tr>\n",
       "    <tr>\n",
       "      <th>1860037</th>\n",
       "      <td>9055415581448263752.1640159305.1640159305</td>\n",
       "      <td>2108378238.1640159304</td>\n",
       "      <td>2021-12-22</td>\n",
       "      <td>10:48:25</td>\n",
       "      <td>1</td>\n",
       "      <td>BHcvLfOaCWvWTykYqHVe</td>\n",
       "      <td>cpc</td>\n",
       "      <td>NaN</td>\n",
       "      <td>NaN</td>\n",
       "      <td>VlqBmecIOXWjCWUmQkLd</td>\n",
       "      <td>desktop</td>\n",
       "      <td>Windows</td>\n",
       "      <td>NaN</td>\n",
       "      <td>NaN</td>\n",
       "      <td>1920x1080</td>\n",
       "      <td>Chrome</td>\n",
       "      <td>Russia</td>\n",
       "      <td>Moscow</td>\n",
       "    </tr>\n",
       "    <tr>\n",
       "      <th>1860038</th>\n",
       "      <td>9055421130527858185.1622007305.1622007305</td>\n",
       "      <td>2108379530.1622007305</td>\n",
       "      <td>2021-05-26</td>\n",
       "      <td>08:00:00</td>\n",
       "      <td>1</td>\n",
       "      <td>fDLlAcSmythWSCVMvqvL</td>\n",
       "      <td>(none)</td>\n",
       "      <td>LTuZkdKfxRGVceoWkVyg</td>\n",
       "      <td>JNHcPlZPxEMWDnRiyoBf</td>\n",
       "      <td>NaN</td>\n",
       "      <td>mobile</td>\n",
       "      <td>NaN</td>\n",
       "      <td>Apple</td>\n",
       "      <td>NaN</td>\n",
       "      <td>390x844</td>\n",
       "      <td>Safari</td>\n",
       "      <td>Russia</td>\n",
       "      <td>Stavropol</td>\n",
       "    </tr>\n",
       "    <tr>\n",
       "      <th>1860039</th>\n",
       "      <td>9055422955903931195.1636979515.1636979515</td>\n",
       "      <td>2108379955.1636979515</td>\n",
       "      <td>2021-11-15</td>\n",
       "      <td>15:31:55</td>\n",
       "      <td>1</td>\n",
       "      <td>fDLlAcSmythWSCVMvqvL</td>\n",
       "      <td>(none)</td>\n",
       "      <td>LTuZkdKfxRGVceoWkVyg</td>\n",
       "      <td>JNHcPlZPxEMWDnRiyoBf</td>\n",
       "      <td>puhZPIYqKXeFPaUviSjo</td>\n",
       "      <td>mobile</td>\n",
       "      <td>iOS</td>\n",
       "      <td>Apple</td>\n",
       "      <td>NaN</td>\n",
       "      <td>375x667</td>\n",
       "      <td>Safari</td>\n",
       "      <td>Russia</td>\n",
       "      <td>Moscow</td>\n",
       "    </tr>\n",
       "    <tr>\n",
       "      <th>1860040</th>\n",
       "      <td>905543020766873816.1638189404.1638189404</td>\n",
       "      <td>210838164.1638189272</td>\n",
       "      <td>2021-11-29</td>\n",
       "      <td>15:36:44</td>\n",
       "      <td>1</td>\n",
       "      <td>ZpYIoDJMcFzVoPFsHGJL</td>\n",
       "      <td>banner</td>\n",
       "      <td>LEoPHuyFvzoNfnzGgfcd</td>\n",
       "      <td>JNHcPlZPxEMWDnRiyoBf</td>\n",
       "      <td>puhZPIYqKXeFPaUviSjo</td>\n",
       "      <td>mobile</td>\n",
       "      <td>Android</td>\n",
       "      <td>Xiaomi</td>\n",
       "      <td>NaN</td>\n",
       "      <td>393x851</td>\n",
       "      <td>Chrome</td>\n",
       "      <td>Russia</td>\n",
       "      <td>Chelyabinsk</td>\n",
       "    </tr>\n",
       "    <tr>\n",
       "      <th>1860041</th>\n",
       "      <td>9055430416266113553.1640968742.1640968742</td>\n",
       "      <td>2108381692.1640968721</td>\n",
       "      <td>2021-12-31</td>\n",
       "      <td>19:39:02</td>\n",
       "      <td>1</td>\n",
       "      <td>fgymSoTvjKPEgaIJqsiH</td>\n",
       "      <td>cpm</td>\n",
       "      <td>FTjNLDyTrXaWYgZymFkV</td>\n",
       "      <td>yYdBRbPmBMUZHXwqGxNx</td>\n",
       "      <td>oKjXDUsycmahkgMhGdAR</td>\n",
       "      <td>desktop</td>\n",
       "      <td>Linux</td>\n",
       "      <td>NaN</td>\n",
       "      <td>NaN</td>\n",
       "      <td>1366x768</td>\n",
       "      <td>Chrome</td>\n",
       "      <td>Russia</td>\n",
       "      <td>Moscow</td>\n",
       "    </tr>\n",
       "  </tbody>\n",
       "</table>\n",
       "<p>1860042 rows × 18 columns</p>\n",
       "</div>"
      ],
      "text/plain": [
       "                                        session_id              client_id  \\\n",
       "0        9055434745589932991.1637753792.1637753792  2108382700.1637753791   \n",
       "1         905544597018549464.1636867290.1636867290   210838531.1636867288   \n",
       "2        9055446045651783499.1640648526.1640648526  2108385331.1640648523   \n",
       "3        9055447046360770272.1622255328.1622255328  2108385564.1622255328   \n",
       "4        9055447046360770272.1622255345.1622255345  2108385564.1622255328   \n",
       "...                                            ...                    ...   \n",
       "1860037  9055415581448263752.1640159305.1640159305  2108378238.1640159304   \n",
       "1860038  9055421130527858185.1622007305.1622007305  2108379530.1622007305   \n",
       "1860039  9055422955903931195.1636979515.1636979515  2108379955.1636979515   \n",
       "1860040   905543020766873816.1638189404.1638189404   210838164.1638189272   \n",
       "1860041  9055430416266113553.1640968742.1640968742  2108381692.1640968721   \n",
       "\n",
       "         visit_date visit_time  visit_number            utm_source utm_medium  \\\n",
       "0        2021-11-24   14:36:32             1  ZpYIoDJMcFzVoPFsHGJL     banner   \n",
       "1        2021-11-14   08:21:30             1  MvfHsxITijuriZxsqZqt        cpm   \n",
       "2        2021-12-28   02:42:06             1  ZpYIoDJMcFzVoPFsHGJL     banner   \n",
       "3        2021-05-29   05:00:00             1  kjsLglQLzykiRbcDiGcD        cpc   \n",
       "4        2021-05-29   05:00:00             2  kjsLglQLzykiRbcDiGcD        cpc   \n",
       "...             ...        ...           ...                   ...        ...   \n",
       "1860037  2021-12-22   10:48:25             1  BHcvLfOaCWvWTykYqHVe        cpc   \n",
       "1860038  2021-05-26   08:00:00             1  fDLlAcSmythWSCVMvqvL     (none)   \n",
       "1860039  2021-11-15   15:31:55             1  fDLlAcSmythWSCVMvqvL     (none)   \n",
       "1860040  2021-11-29   15:36:44             1  ZpYIoDJMcFzVoPFsHGJL     banner   \n",
       "1860041  2021-12-31   19:39:02             1  fgymSoTvjKPEgaIJqsiH        cpm   \n",
       "\n",
       "                 utm_campaign         utm_adcontent           utm_keyword  \\\n",
       "0        LEoPHuyFvzoNfnzGgfcd  vCIpmpaGBnIQhyYNkXqp  puhZPIYqKXeFPaUviSjo   \n",
       "1        FTjNLDyTrXaWYgZymFkV  xhoenQgDQsgfEPYNPwKO  IGUCNvHlhfHpROGclCit   \n",
       "2        LEoPHuyFvzoNfnzGgfcd  vCIpmpaGBnIQhyYNkXqp  puhZPIYqKXeFPaUviSjo   \n",
       "3                         NaN  NOBKLgtuvqYWkXQHeYWM                   NaN   \n",
       "4                         NaN                   NaN                   NaN   \n",
       "...                       ...                   ...                   ...   \n",
       "1860037                   NaN                   NaN  VlqBmecIOXWjCWUmQkLd   \n",
       "1860038  LTuZkdKfxRGVceoWkVyg  JNHcPlZPxEMWDnRiyoBf                   NaN   \n",
       "1860039  LTuZkdKfxRGVceoWkVyg  JNHcPlZPxEMWDnRiyoBf  puhZPIYqKXeFPaUviSjo   \n",
       "1860040  LEoPHuyFvzoNfnzGgfcd  JNHcPlZPxEMWDnRiyoBf  puhZPIYqKXeFPaUviSjo   \n",
       "1860041  FTjNLDyTrXaWYgZymFkV  yYdBRbPmBMUZHXwqGxNx  oKjXDUsycmahkgMhGdAR   \n",
       "\n",
       "        device_category device_os device_brand device_model  \\\n",
       "0                mobile   Android       Huawei          NaN   \n",
       "1                mobile   Android      Samsung          NaN   \n",
       "2                mobile   Android       Huawei          NaN   \n",
       "3                mobile       NaN       Xiaomi          NaN   \n",
       "4                mobile       NaN       Xiaomi          NaN   \n",
       "...                 ...       ...          ...          ...   \n",
       "1860037         desktop   Windows          NaN          NaN   \n",
       "1860038          mobile       NaN        Apple          NaN   \n",
       "1860039          mobile       iOS        Apple          NaN   \n",
       "1860040          mobile   Android       Xiaomi          NaN   \n",
       "1860041         desktop     Linux          NaN          NaN   \n",
       "\n",
       "        device_screen_resolution    device_browser geo_country     geo_city  \n",
       "0                        360x720            Chrome      Russia     Zlatoust  \n",
       "1                        385x854  Samsung Internet      Russia       Moscow  \n",
       "2                        360x720            Chrome      Russia  Krasnoyarsk  \n",
       "3                        393x786            Chrome      Russia       Moscow  \n",
       "4                        393x786            Chrome      Russia       Moscow  \n",
       "...                          ...               ...         ...          ...  \n",
       "1860037                1920x1080            Chrome      Russia       Moscow  \n",
       "1860038                  390x844            Safari      Russia    Stavropol  \n",
       "1860039                  375x667            Safari      Russia       Moscow  \n",
       "1860040                  393x851            Chrome      Russia  Chelyabinsk  \n",
       "1860041                 1366x768            Chrome      Russia       Moscow  \n",
       "\n",
       "[1860042 rows x 18 columns]"
      ]
     },
     "execution_count": 4,
     "metadata": {},
     "output_type": "execute_result"
    }
   ],
   "source": [
    "df_sess = pd.read_csv(\n",
    "    'data/ga_sessions.csv', \n",
    "    dtype={'session_id': str, 'client_id': str}\n",
    ")\n",
    "df_sess"
   ]
  },
  {
   "cell_type": "code",
   "execution_count": 5,
   "id": "9ec27647-2a55-4e13-b5cd-cbabf92cf4d0",
   "metadata": {},
   "outputs": [
    {
     "data": {
      "text/html": [
       "<div>\n",
       "<style scoped>\n",
       "    .dataframe tbody tr th:only-of-type {\n",
       "        vertical-align: middle;\n",
       "    }\n",
       "\n",
       "    .dataframe tbody tr th {\n",
       "        vertical-align: top;\n",
       "    }\n",
       "\n",
       "    .dataframe thead th {\n",
       "        text-align: right;\n",
       "    }\n",
       "</style>\n",
       "<table border=\"1\" class=\"dataframe\">\n",
       "  <thead>\n",
       "    <tr style=\"text-align: right;\">\n",
       "      <th></th>\n",
       "      <th>session_id</th>\n",
       "      <th>event_action</th>\n",
       "    </tr>\n",
       "  </thead>\n",
       "  <tbody>\n",
       "    <tr>\n",
       "      <th>0</th>\n",
       "      <td>5639623078712724064.1640254056.1640254056</td>\n",
       "      <td>quiz_show</td>\n",
       "    </tr>\n",
       "    <tr>\n",
       "      <th>1</th>\n",
       "      <td>7750352294969115059.1640271109.1640271109</td>\n",
       "      <td>quiz_show</td>\n",
       "    </tr>\n",
       "    <tr>\n",
       "      <th>2</th>\n",
       "      <td>885342191847998240.1640235807.1640235807</td>\n",
       "      <td>quiz_show</td>\n",
       "    </tr>\n",
       "    <tr>\n",
       "      <th>3</th>\n",
       "      <td>142526202120934167.1640211014.1640211014</td>\n",
       "      <td>quiz_show</td>\n",
       "    </tr>\n",
       "    <tr>\n",
       "      <th>4</th>\n",
       "      <td>3450086108837475701.1640265078.1640265078</td>\n",
       "      <td>quiz_show</td>\n",
       "    </tr>\n",
       "    <tr>\n",
       "      <th>...</th>\n",
       "      <td>...</td>\n",
       "      <td>...</td>\n",
       "    </tr>\n",
       "    <tr>\n",
       "      <th>15726465</th>\n",
       "      <td>6866159858916559617.1640270865.1640270865</td>\n",
       "      <td>quiz_show</td>\n",
       "    </tr>\n",
       "    <tr>\n",
       "      <th>15726466</th>\n",
       "      <td>7310304587364460692.1640261783.1640261783</td>\n",
       "      <td>quiz_show</td>\n",
       "    </tr>\n",
       "    <tr>\n",
       "      <th>15726467</th>\n",
       "      <td>8013702685784312179.1640270195.1640270195</td>\n",
       "      <td>quiz_show</td>\n",
       "    </tr>\n",
       "    <tr>\n",
       "      <th>15726468</th>\n",
       "      <td>8021505554734405918.1640257821.1640257821</td>\n",
       "      <td>quiz_show</td>\n",
       "    </tr>\n",
       "    <tr>\n",
       "      <th>15726469</th>\n",
       "      <td>1569014437485249865.1640269129.1640269129</td>\n",
       "      <td>quiz_show</td>\n",
       "    </tr>\n",
       "  </tbody>\n",
       "</table>\n",
       "<p>15726470 rows × 2 columns</p>\n",
       "</div>"
      ],
      "text/plain": [
       "                                         session_id event_action\n",
       "0         5639623078712724064.1640254056.1640254056    quiz_show\n",
       "1         7750352294969115059.1640271109.1640271109    quiz_show\n",
       "2          885342191847998240.1640235807.1640235807    quiz_show\n",
       "3          142526202120934167.1640211014.1640211014    quiz_show\n",
       "4         3450086108837475701.1640265078.1640265078    quiz_show\n",
       "...                                             ...          ...\n",
       "15726465  6866159858916559617.1640270865.1640270865    quiz_show\n",
       "15726466  7310304587364460692.1640261783.1640261783    quiz_show\n",
       "15726467  8013702685784312179.1640270195.1640270195    quiz_show\n",
       "15726468  8021505554734405918.1640257821.1640257821    quiz_show\n",
       "15726469  1569014437485249865.1640269129.1640269129    quiz_show\n",
       "\n",
       "[15726470 rows x 2 columns]"
      ]
     },
     "execution_count": 5,
     "metadata": {},
     "output_type": "execute_result"
    }
   ],
   "source": [
    "# из ga_hits загрузим только необходимые столбцы\n",
    "df_hits = pd.read_csv(\n",
    "    'data/ga_hits-002.csv',\n",
    "    usecols=['session_id', 'event_action'],\n",
    "    dtype={'session_id': str},\n",
    ")\n",
    "df_hits"
   ]
  },
  {
   "cell_type": "markdown",
   "id": "fe497549-e86b-44fc-9f54-8df64c869d7f",
   "metadata": {
    "tags": []
   },
   "source": [
    "# Data cleaning\n",
    "---"
   ]
  },
  {
   "cell_type": "markdown",
   "id": "ef230351-4c5f-4de8-9aec-3cb7ae01c1c7",
   "metadata": {
    "tags": []
   },
   "source": [
    "## Drop useless data"
   ]
  },
  {
   "cell_type": "code",
   "execution_count": 6,
   "id": "5114cddb-72d2-46a4-aa23-0753f067d7af",
   "metadata": {},
   "outputs": [
    {
     "data": {
      "text/plain": [
       "False"
      ]
     },
     "execution_count": 6,
     "metadata": {},
     "output_type": "execute_result"
    }
   ],
   "source": [
    "# проверим, есть ли для всех сессий в ga_sessions сооттвтетствующие записи в ga_hits\n",
    "df_sess.session_id.isin(df_hits.session_id).all()"
   ]
  },
  {
   "cell_type": "code",
   "execution_count": 7,
   "id": "64f5303f-bc40-47d8-ad58-0753bed583bc",
   "metadata": {},
   "outputs": [
    {
     "data": {
      "text/plain": [
       "False"
      ]
     },
     "execution_count": 7,
     "metadata": {},
     "output_type": "execute_result"
    }
   ],
   "source": [
    "# и наоборот\n",
    "df_hits.session_id.isin(df_sess.session_id).all()"
   ]
  },
  {
   "cell_type": "code",
   "execution_count": 8,
   "id": "22f1181f-fea5-455e-a4bc-89c8661aa34c",
   "metadata": {},
   "outputs": [
    {
     "data": {
      "text/plain": [
       "(15685219, 2)"
      ]
     },
     "execution_count": 8,
     "metadata": {},
     "output_type": "execute_result"
    }
   ],
   "source": [
    "# удалим из датасета hits записи, у которых нет соответствия\n",
    "df_hits = df_hits.query(\"session_id.isin(@df_sess.session_id)\")\n",
    "df_hits.shape"
   ]
  },
  {
   "cell_type": "code",
   "execution_count": 9,
   "id": "6edea00f-babe-48e2-88ca-99bf2e0564ac",
   "metadata": {},
   "outputs": [
    {
     "data": {
      "text/plain": [
       "True"
      ]
     },
     "execution_count": 9,
     "metadata": {},
     "output_type": "execute_result"
    }
   ],
   "source": [
    "df_hits.session_id.isin(df_sess.session_id).all()"
   ]
  },
  {
   "cell_type": "code",
   "execution_count": 10,
   "id": "3cb1c88f-a647-4131-8b28-211cde1c4676",
   "metadata": {},
   "outputs": [
    {
     "data": {
      "text/plain": [
       "(127776, 18)"
      ]
     },
     "execution_count": 10,
     "metadata": {},
     "output_type": "execute_result"
    }
   ],
   "source": [
    "# записи в df_sessions, для которых нет данных в ga_hits, сохраним отдельно,\n",
    "# будем использовать их для тестирования api\n",
    "df_for_test = df_sess.query(\"~session_id.isin(@df_hits.session_id)\")\n",
    "df_for_test.shape"
   ]
  },
  {
   "cell_type": "code",
   "execution_count": 11,
   "id": "25675a7a-f033-4f17-9a77-482c15c49718",
   "metadata": {},
   "outputs": [
    {
     "data": {
      "text/plain": [
       "(1732266, 18)"
      ]
     },
     "execution_count": 11,
     "metadata": {},
     "output_type": "execute_result"
    }
   ],
   "source": [
    "df = df_sess.drop(df_for_test.index)\n",
    "df.shape"
   ]
  },
  {
   "cell_type": "code",
   "execution_count": 12,
   "id": "573f3a7c-6d30-4902-9b68-e568aa5ccd1a",
   "metadata": {},
   "outputs": [
    {
     "data": {
      "text/plain": [
       "True"
      ]
     },
     "execution_count": 12,
     "metadata": {},
     "output_type": "execute_result"
    }
   ],
   "source": [
    "df.session_id.isin(df_hits.session_id).all()"
   ]
  },
  {
   "cell_type": "code",
   "execution_count": 13,
   "id": "9f5efd95-0a30-40c7-8fa4-7b33e81929a7",
   "metadata": {},
   "outputs": [
    {
     "data": {
      "text/plain": [
       "(1111, 18)"
      ]
     },
     "execution_count": 13,
     "metadata": {},
     "output_type": "execute_result"
    }
   ],
   "source": [
    "# оставим в тестовом датасете только полностью заполненные записи\n",
    "df_for_test = df_for_test.dropna()\n",
    "df_for_test.shape"
   ]
  },
  {
   "cell_type": "code",
   "execution_count": 14,
   "id": "f71e2bfc-f6d3-4ac2-8856-78768bb3c83a",
   "metadata": {},
   "outputs": [],
   "source": [
    "# сохранение в json\n",
    "df_for_test.to_json('data/data_for_test.json', orient='records')"
   ]
  },
  {
   "cell_type": "markdown",
   "id": "e96b98d9-286b-4fbc-b5db-94f19fa7608f",
   "metadata": {
    "tags": []
   },
   "source": [
    "## Drop duplicates"
   ]
  },
  {
   "cell_type": "code",
   "execution_count": 15,
   "id": "a489bcf0-bba7-4ef2-a398-42584ae7168b",
   "metadata": {},
   "outputs": [
    {
     "data": {
      "text/plain": [
       "(1732266, 18)"
      ]
     },
     "execution_count": 15,
     "metadata": {},
     "output_type": "execute_result"
    }
   ],
   "source": [
    "df.shape"
   ]
  },
  {
   "cell_type": "code",
   "execution_count": 16,
   "id": "3c34248a-27b7-4651-a2e0-fd301f3c7d06",
   "metadata": {
    "tags": []
   },
   "outputs": [
    {
     "data": {
      "text/plain": [
       "(1732266, 18)"
      ]
     },
     "execution_count": 16,
     "metadata": {},
     "output_type": "execute_result"
    }
   ],
   "source": [
    "# проверка на дубликаты\n",
    "df.drop_duplicates().shape"
   ]
  },
  {
   "cell_type": "code",
   "execution_count": 17,
   "id": "40d9483f-b70c-4697-9d92-bba44561a994",
   "metadata": {},
   "outputs": [],
   "source": [
    "# дубликатов нет\n",
    "df_init = df.copy()"
   ]
  },
  {
   "cell_type": "markdown",
   "id": "578111fe-46f0-4417-aefb-77cf5a5a4156",
   "metadata": {
    "tags": []
   },
   "source": [
    "## Imputation"
   ]
  },
  {
   "cell_type": "code",
   "execution_count": 18,
   "id": "9656993d-95f1-4bfa-a301-c08a4535ad3e",
   "metadata": {},
   "outputs": [
    {
     "data": {
      "text/plain": [
       "(1732266, 18)"
      ]
     },
     "execution_count": 18,
     "metadata": {},
     "output_type": "execute_result"
    }
   ],
   "source": [
    "df = df_init.copy()\n",
    "df.shape"
   ]
  },
  {
   "cell_type": "code",
   "execution_count": 19,
   "id": "c281887a-7dbe-4f9a-b177-2a2c09ccc9f6",
   "metadata": {},
   "outputs": [],
   "source": [
    "def count_na(df: pd.DataFrame, zero_vals: bool=False) -> None:\n",
    "    \"\"\"Counts NaN values for each column\"\"\"\n",
    "    na_rows = df[df.isna().any(axis=1)]\n",
    "    na_counts = na_rows.count().apply(lambda x: len(na_rows) - x)\n",
    "    \n",
    "    print('Количество незаполненных значений по столбцам:')\n",
    "    \n",
    "    if zero_vals:\n",
    "        print(na_counts.sort_values(ascending=False))\n",
    "    else:\n",
    "        print(na_counts[na_counts != 0].sort_values(ascending=False))"
   ]
  },
  {
   "cell_type": "code",
   "execution_count": 20,
   "id": "d0eae70f-0bbd-4c91-b056-57a7b38782bb",
   "metadata": {},
   "outputs": [
    {
     "name": "stdout",
     "output_type": "stream",
     "text": [
      "Количество незаполненных значений по столбцам:\n",
      "device_model     1717204\n",
      "utm_keyword      1020752\n",
      "device_os        1013964\n",
      "device_brand      347196\n",
      "utm_adcontent     304137\n",
      "utm_campaign      195287\n",
      "utm_source            76\n",
      "dtype: int64\n"
     ]
    }
   ],
   "source": [
    "count_na(df)"
   ]
  },
  {
   "cell_type": "code",
   "execution_count": 21,
   "id": "6698a2cf-2cda-4e9a-842f-74ae865f0906",
   "metadata": {},
   "outputs": [],
   "source": [
    "# количество пропусков в device_model более 98%, поэтому удалим её полностью\n",
    "df.drop(columns=['device_model'], inplace=True)"
   ]
  },
  {
   "cell_type": "markdown",
   "id": "61c7953a-e5f8-461a-bd35-03df6d57a32f",
   "metadata": {
    "tags": []
   },
   "source": [
    "### functions for filling NaNs"
   ]
  },
  {
   "cell_type": "code",
   "execution_count": 22,
   "id": "ca7e9565-edf2-4ba7-b113-162c574bba84",
   "metadata": {},
   "outputs": [
    {
     "data": {
      "text/plain": [
       "mobile     1368679\n",
       "desktop     346891\n",
       "tablet       16696\n",
       "Name: device_category, dtype: int64"
      ]
     },
     "execution_count": 22,
     "metadata": {},
     "output_type": "execute_result"
    }
   ],
   "source": [
    "df.device_category.value_counts()"
   ]
  },
  {
   "cell_type": "code",
   "execution_count": 23,
   "id": "a1952f6d-230c-4429-9cfd-b872e6311b61",
   "metadata": {},
   "outputs": [],
   "source": [
    "def device_value_counts(data: pd.DataFrame, column: str) -> None:\n",
    "    \"\"\"print top values for each device category\"\"\"\n",
    "    print(f\"{column} top values:\\n---------------------------------\")\n",
    "    for cat in ['mobile', 'desktop', 'tablet']:\n",
    "        print(f\"{cat}:\")\n",
    "        print(data.groupby(by='device_category')[column].value_counts(dropna=False)[cat]. \\\n",
    "              head().to_string(header=False))\n",
    "        print()"
   ]
  },
  {
   "cell_type": "markdown",
   "id": "924b8131-ada1-4a33-b7e6-44b1a11fc7a9",
   "metadata": {},
   "source": [
    "предполагаем, что распределение значений для фич utm_* и device_* зависят от категории устройства (device_category)"
   ]
  },
  {
   "cell_type": "code",
   "execution_count": 24,
   "id": "11be9054-d8ad-4ec3-839d-0a89b9f9ae27",
   "metadata": {},
   "outputs": [
    {
     "name": "stdout",
     "output_type": "stream",
     "text": [
      "utm_campaign top values:\n",
      "---------------------------------\n",
      "mobile:\n",
      "LEoPHuyFvzoNfnzGgfcd    318873\n",
      "LTuZkdKfxRGVceoWkVyg    283561\n",
      "FTjNLDyTrXaWYgZymFkV    172115\n",
      "NaN                     134039\n",
      "gecBYcKZCPMcVYdSSzKP    132181\n",
      "\n",
      "desktop:\n",
      "LTuZkdKfxRGVceoWkVyg    135249\n",
      "FTjNLDyTrXaWYgZymFkV     61359\n",
      "NaN                      58399\n",
      "okTXSMadDkjvntEHzIjp     10126\n",
      "YCKgTzTDywjcWyQudGch      8670\n",
      "\n",
      "tablet:\n",
      "LTuZkdKfxRGVceoWkVyg    4182\n",
      "NaN                     2849\n",
      "LEoPHuyFvzoNfnzGgfcd    1847\n",
      "FTjNLDyTrXaWYgZymFkV    1476\n",
      "gecBYcKZCPMcVYdSSzKP     802\n",
      "\n"
     ]
    }
   ],
   "source": [
    "# проверим для utm_campaign\n",
    "device_value_counts(df, column='utm_campaign')"
   ]
  },
  {
   "cell_type": "code",
   "execution_count": 25,
   "id": "130c522c-9d55-4f86-9427-135293a4c4ee",
   "metadata": {},
   "outputs": [],
   "source": [
    "# функции для построения barplot:\n",
    "def campaign_count():\n",
    "    df_camp = pd.DataFrame()\n",
    "    for cat in ('mobile', 'desktop', 'tablet'):\n",
    "        df_temp = pd.DataFrame()\n",
    "        df_temp[['utm_campaign', 'count']] = df[df.device_category == cat]['utm_campaign'].value_counts(dropna=False)[:10].reset_index()\n",
    "        total_amt = df_temp['count'].sum()\n",
    "        df_temp['perc'] = df_temp['count'].div(total_amt).mul(100)\n",
    "        df_temp['device_category'] = cat\n",
    "        df_camp = pd.concat([df_camp, df_temp.dropna()], ignore_index=True)\n",
    "    return df_camp\n",
    "        \n",
    "df_camp = campaign_count()"
   ]
  },
  {
   "cell_type": "code",
   "execution_count": 26,
   "id": "d4fe6cca-1945-4ba0-a632-a44b1f2e6456",
   "metadata": {},
   "outputs": [
    {
     "data": {
      "image/png": "[encoded data removed]",
      "text/plain": [
       "<Figure size 1000x600 with 1 Axes>"
      ]
     },
     "metadata": {},
     "output_type": "display_data"
    }
   ],
   "source": [
    "def campaign_plot():\n",
    "    colors = ('red', 'green', 'yellow')\n",
    "    os = ('desktop', 'mobile', 'tablet')\n",
    "\n",
    "    plt.style.use('dark_background')\n",
    "    plt.figure(figsize=(10, 6))\n",
    "\n",
    "    for dev_cat, col in zip(os, colors):\n",
    "        plt.bar(df_camp[df_camp.device_category == dev_cat]['utm_campaign'],\n",
    "                df_camp[df_camp.device_category == dev_cat]['perc'],\n",
    "                color=col, alpha=0.7)\n",
    "    plt.xticks(rotation=45, horizontalalignment='right')\n",
    "    # plt.yscale('log')\n",
    "    plt.xlabel('utm_campaign')\n",
    "    plt.ylabel('Частота %')\n",
    "    plt.legend(labels=os)\n",
    "    plt.title('Распределение utm_campaign')\n",
    "    return plt\n",
    "\n",
    "campaign_plot().show();"
   ]
  },
  {
   "cell_type": "code",
   "execution_count": 27,
   "id": "0b68e75e-90da-41a4-bcdc-34ad914c6150",
   "metadata": {},
   "outputs": [
    {
     "name": "stdout",
     "output_type": "stream",
     "text": [
      "device_os top values:\n",
      "---------------------------------\n",
      "mobile:\n",
      "NaN           766296\n",
      "Android       421358\n",
      "iOS           180907\n",
      "Linux             47\n",
      "BlackBerry        24\n",
      "\n",
      "desktop:\n",
      "NaN          236790\n",
      "Windows       81724\n",
      "Macintosh     23395\n",
      "Linux          4562\n",
      "(not set)       302\n",
      "\n",
      "tablet:\n",
      "NaN          10878\n",
      "Android       4142\n",
      "iOS           1659\n",
      "Macintosh       10\n",
      "Linux            7\n",
      "\n"
     ]
    }
   ],
   "source": [
    "# и для device_os\n",
    "device_value_counts(df, column='device_os')"
   ]
  },
  {
   "cell_type": "code",
   "execution_count": 28,
   "id": "869bd71b-78aa-446f-a08a-44733fa12a22",
   "metadata": {},
   "outputs": [],
   "source": [
    "# функции для построения barplot:\n",
    "def os_count():\n",
    "    df_os = pd.DataFrame()\n",
    "    for cat in ('mobile', 'desktop', 'tablet'):\n",
    "        df_temp = pd.DataFrame()\n",
    "        df_temp[['device_os', 'count']] = df[df.device_category == cat]['device_os'].value_counts(dropna=False).reset_index()\n",
    "        total_amt = df_temp['count'].sum()\n",
    "        df_temp['perc'] = df_temp['count'].div(total_amt).mul(100)\n",
    "        df_temp['device_category'] = cat\n",
    "        df_os = pd.concat([df_os, df_temp.dropna()], ignore_index=True)\n",
    "    return df_os\n",
    "        \n",
    "df_os = os_count()"
   ]
  },
  {
   "cell_type": "code",
   "execution_count": 29,
   "id": "753d3868-474d-40db-b91b-bba3ce4aa365",
   "metadata": {},
   "outputs": [
    {
     "data": {
      "image/png": "[encoded data removed]",
      "text/plain": [
       "<Figure size 1000x600 with 1 Axes>"
      ]
     },
     "metadata": {},
     "output_type": "display_data"
    }
   ],
   "source": [
    "def os_plot():\n",
    "    colors = ('red', 'green', 'yellow')\n",
    "    os = ('desktop', 'mobile', 'tablet')\n",
    "\n",
    "    plt.style.use('dark_background')\n",
    "    plt.figure(figsize=(10, 6))\n",
    "\n",
    "    for dev_cat, col in zip(os, colors):\n",
    "        plt.bar(df_os[df_os.device_category == dev_cat]['device_os'],\n",
    "                df_os[df_os.device_category == dev_cat]['perc'],\n",
    "                color=col, alpha=0.7)\n",
    "    plt.xticks(rotation=45, horizontalalignment='right')\n",
    "    plt.yscale('log')\n",
    "    plt.xlabel('OS')\n",
    "    plt.ylabel('Частота %')\n",
    "    plt.legend(labels=os)\n",
    "    plt.title('Распределение OS')\n",
    "    return plt\n",
    "\n",
    "os_plot().show();"
   ]
  },
  {
   "cell_type": "markdown",
   "id": "c02ed5f8-1fab-4d82-83b0-a961e17647c9",
   "metadata": {},
   "source": [
    "как видно, распределение значений для рассмотренных фич сильно зависят от категории устройства (device_category)"
   ]
  },
  {
   "cell_type": "markdown",
   "id": "96f8e71e-8945-4f4b-b2af-68374f0438e2",
   "metadata": {},
   "source": [
    "определим функцию, которая заполняет пропуски в категориальных фичах, \n",
    "основываясь на частоте распределения значений отдельно для каждой категории устройства (device_category)"
   ]
  },
  {
   "cell_type": "code",
   "execution_count": 32,
   "id": "8c1bfc85-862e-44e3-aa69-99b62fe1c7a9",
   "metadata": {},
   "outputs": [],
   "source": [
    "random.seed(42)\n",
    "\n",
    "def random_value(freq: dict) -> str:\n",
    "    \"\"\"returns random key from freq dict, according weights in dict values\"\"\"    \n",
    "    val = list(freq.keys())\n",
    "    weights = list(freq.values())\n",
    "    while True:\n",
    "        yield random.choices(\n",
    "            val,\n",
    "            weights = weights\n",
    "        )[0]"
   ]
  },
  {
   "cell_type": "code",
   "execution_count": 33,
   "id": "39292988-9de8-48e0-86b0-466a18b70392",
   "metadata": {},
   "outputs": [],
   "source": [
    "def fillna_devicecat(data: pd.DataFrame, column: str):\n",
    "    \"\"\"fill NaNs in selected column with random values, according distibution frequencies for each device category\"\"\"  \n",
    "    \n",
    "    dev_category = ('mobile', 'desktop', 'tablet')\n",
    "    \n",
    "    for dev_cat in dev_category:\n",
    "        df_cat = data.query(\"device_category == @dev_cat\").copy()\n",
    "        column_freq = df_cat[column].value_counts().to_dict()\n",
    "        gen_col = random_value(column_freq)\n",
    "        df_cat[column] = df_cat[column].apply(lambda x: next(gen_col) if x is nan else x)\n",
    "        data.loc[df_cat.index, :] = df_cat\n",
    "        \n",
    "    return data"
   ]
  },
  {
   "cell_type": "markdown",
   "id": "0f341385-4858-4f46-8163-7f6bfc4a1917",
   "metadata": {},
   "source": [
    "### keyword"
   ]
  },
  {
   "cell_type": "code",
   "execution_count": 34,
   "id": "ff2dcac7-35bb-4139-af6d-f4a5b08a2e33",
   "metadata": {},
   "outputs": [
    {
     "data": {
      "text/plain": [
       "NaN                     1020752\n",
       "puhZPIYqKXeFPaUviSjo     465950\n",
       "aXQzDWsJuGXeBXexNHjc      18154\n",
       "ITfrGJNwVsHBGJMAKoct      12395\n",
       "pHqgLcdBQPSLcrTpLkdr      12320\n",
       "                         ...   \n",
       "VBmazutCflYumtDHrQYe          1\n",
       "jWQZKvbKuDnnQLCqeuOF          1\n",
       "WFIDyezrAGnnopAqVVDs          1\n",
       "NLWjXuYiXlKrFJfSWfKt          1\n",
       "fcXWTQaKfxbkBkBnzLhK          1\n",
       "Name: utm_keyword, Length: 1193, dtype: int64"
      ]
     },
     "execution_count": 34,
     "metadata": {},
     "output_type": "execute_result"
    }
   ],
   "source": [
    "df.utm_keyword.value_counts(dropna=False)"
   ]
  },
  {
   "cell_type": "code",
   "execution_count": 35,
   "id": "4cf2c96f-3b0f-4688-89ad-c70bed13d582",
   "metadata": {},
   "outputs": [],
   "source": [
    "# заполним пропуски в завсимости от распределения keyword в каждой категории устройства\n",
    "df2 = fillna_devicecat(df, column='utm_keyword')"
   ]
  },
  {
   "cell_type": "code",
   "execution_count": 36,
   "id": "55215472-2625-4734-9a54-72b0be004ad2",
   "metadata": {},
   "outputs": [
    {
     "data": {
      "text/plain": [
       "puhZPIYqKXeFPaUviSjo    1109138\n",
       "aXQzDWsJuGXeBXexNHjc      50697\n",
       "ITfrGJNwVsHBGJMAKoct      33008\n",
       "pHqgLcdBQPSLcrTpLkdr      28608\n",
       "UKNBOHebRIIsQRsjNKay      28381\n",
       "                         ...   \n",
       "iNaIAFVuZgYukekFQQbX          1\n",
       "vDQgBOvEhnoqevZDGOUT          1\n",
       "zFUXnxOPohSdmGrQzhoq          1\n",
       "SoCnOWJkUDarGowlGDnC          1\n",
       "fcXWTQaKfxbkBkBnzLhK          1\n",
       "Name: utm_keyword, Length: 1192, dtype: int64"
      ]
     },
     "execution_count": 36,
     "metadata": {},
     "output_type": "execute_result"
    }
   ],
   "source": [
    "df2.utm_keyword.value_counts(dropna=False)"
   ]
  },
  {
   "cell_type": "markdown",
   "id": "4d9f1bc5-6319-4647-87cd-f408d2053e33",
   "metadata": {
    "tags": []
   },
   "source": [
    "### OS"
   ]
  },
  {
   "cell_type": "code",
   "execution_count": 37,
   "id": "10bce916-4d1b-4ab4-8de3-ea412f23fbc9",
   "metadata": {},
   "outputs": [
    {
     "data": {
      "text/plain": [
       "NaN              1013964\n",
       "Android           425520\n",
       "iOS               182597\n",
       "Windows            81740\n",
       "Macintosh          23415\n",
       "Linux               4616\n",
       "(not set)            309\n",
       "Chrome OS             65\n",
       "BlackBerry            24\n",
       "Tizen                  7\n",
       "Firefox OS             3\n",
       "Nokia                  2\n",
       "Samsung                2\n",
       "Windows Phone          2\n",
       "Name: device_os, dtype: int64"
      ]
     },
     "execution_count": 37,
     "metadata": {},
     "output_type": "execute_result"
    }
   ],
   "source": [
    "df2.device_os.value_counts(dropna=False)"
   ]
  },
  {
   "cell_type": "code",
   "execution_count": 38,
   "id": "6dd95a7f-7003-47d5-8a49-5a49a449c55d",
   "metadata": {},
   "outputs": [],
   "source": [
    "# заполним пропуски в завсимости от распределения os в каждой категории устройства\n",
    "df3 = fillna_devicecat(df2, 'device_os')"
   ]
  },
  {
   "cell_type": "code",
   "execution_count": 39,
   "id": "3813e48f-b02f-48f4-87fa-c07c3a1ca2b3",
   "metadata": {},
   "outputs": [
    {
     "data": {
      "text/plain": [
       "device_category  device_os    \n",
       "desktop          Windows          257353\n",
       "                 Macintosh         73691\n",
       "                 Linux             14516\n",
       "                 (not set)           967\n",
       "                 Chrome OS           204\n",
       "                 iOS                  97\n",
       "                 Android              60\n",
       "                 Tizen                 3\n",
       "mobile           Android          956953\n",
       "                 iOS              411472\n",
       "                 Linux               105\n",
       "                 BlackBerry           53\n",
       "                 Windows              33\n",
       "                 Macintosh            19\n",
       "                 Tizen                14\n",
       "                 (not set)            12\n",
       "                 Firefox OS           10\n",
       "                 Samsung               3\n",
       "                 Windows Phone         3\n",
       "                 Nokia                 2\n",
       "tablet           Android           11928\n",
       "                 iOS                4713\n",
       "                 Linux                28\n",
       "                 Macintosh            27\n",
       "Name: device_os, dtype: int64"
      ]
     },
     "execution_count": 39,
     "metadata": {},
     "output_type": "execute_result"
    }
   ],
   "source": [
    "df3.groupby(by='device_category').device_os.value_counts(dropna=False)"
   ]
  },
  {
   "cell_type": "markdown",
   "id": "8343ae05-2ac3-448e-827c-e3b0fbfe9d4e",
   "metadata": {
    "tags": []
   },
   "source": [
    "### Device brand"
   ]
  },
  {
   "cell_type": "code",
   "execution_count": 40,
   "id": "0d345e51-70d0-43cc-9503-bd3b5ee9a493",
   "metadata": {},
   "outputs": [
    {
     "name": "stdout",
     "output_type": "stream",
     "text": [
      "device_brand top values:\n",
      "---------------------------------\n",
      "mobile:\n",
      "Apple      497680\n",
      "Samsung    307088\n",
      "Xiaomi     269016\n",
      "Huawei     170591\n",
      "Realme      17917\n",
      "\n",
      "desktop:\n",
      "NaN          346752\n",
      "Apple            70\n",
      "Huawei           19\n",
      "(not set)        10\n",
      "Xiaomi           10\n",
      "\n",
      "tablet:\n",
      "Apple      5783\n",
      "Samsung    4545\n",
      "Huawei     3218\n",
      "Lenovo     1560\n",
      "Google      362\n",
      "\n"
     ]
    }
   ],
   "source": [
    "device_value_counts(df3, 'device_brand')"
   ]
  },
  {
   "cell_type": "code",
   "execution_count": 41,
   "id": "18bf105c-c4e8-43b2-82a7-ec41125fbce4",
   "metadata": {},
   "outputs": [
    {
     "data": {
      "text/plain": [
       "NaN          346752\n",
       "Apple            70\n",
       "Huawei           19\n",
       "Xiaomi           10\n",
       "(not set)        10\n",
       "Name: device_brand, dtype: int64"
      ]
     },
     "execution_count": 41,
     "metadata": {},
     "output_type": "execute_result"
    }
   ],
   "source": [
    "desktop = df3.query(\"device_category == 'desktop'\").copy()\n",
    "desktop.device_brand.value_counts(dropna=False).head()"
   ]
  },
  {
   "cell_type": "code",
   "execution_count": 42,
   "id": "11ce6c7d-9db9-4839-8de6-7b51b46d1968",
   "metadata": {},
   "outputs": [],
   "source": [
    "# про производителя устройст категории desktop почти ничего не изветсно,\n",
    "# скинем все пропуски в (not_set)\n",
    "desktop.device_brand.fillna('(not set)', inplace=True)\n",
    "df4 = df3.copy()\n",
    "df4.loc[desktop.index, :] = desktop"
   ]
  },
  {
   "cell_type": "code",
   "execution_count": 43,
   "id": "c48c798c-086e-4bda-8e3a-8ce54af556b3",
   "metadata": {},
   "outputs": [
    {
     "data": {
      "text/plain": [
       "(not set)    346762\n",
       "Apple            70\n",
       "Huawei           19\n",
       "Xiaomi           10\n",
       "Samsung           8\n",
       "Name: device_brand, dtype: int64"
      ]
     },
     "execution_count": 43,
     "metadata": {},
     "output_type": "execute_result"
    }
   ],
   "source": [
    "df4.query(\"device_category == 'desktop'\").device_brand.value_counts(dropna=False).head()"
   ]
  },
  {
   "cell_type": "code",
   "execution_count": 44,
   "id": "07cb03a5-72df-459f-9ddd-d5f7a7f4795a",
   "metadata": {},
   "outputs": [],
   "source": [
    "# остальное заполними в соответствии с распределенями\n",
    "df4 = fillna_devicecat(df4, 'device_brand')"
   ]
  },
  {
   "cell_type": "code",
   "execution_count": 45,
   "id": "dd0f145e-c618-413f-92b6-d501e0812da6",
   "metadata": {},
   "outputs": [
    {
     "data": {
      "text/plain": [
       "(0, 17)"
      ]
     },
     "execution_count": 45,
     "metadata": {},
     "output_type": "execute_result"
    }
   ],
   "source": [
    "df4.query(\"device_brand.isna()\").shape"
   ]
  },
  {
   "cell_type": "markdown",
   "id": "a698aefa-3be6-4418-a854-e1a5a054927b",
   "metadata": {},
   "source": [
    "### campaign"
   ]
  },
  {
   "cell_type": "code",
   "execution_count": 46,
   "id": "ba8ca14c-6d9e-4628-bb12-e408cfe82cb6",
   "metadata": {},
   "outputs": [
    {
     "data": {
      "text/plain": [
       "LTuZkdKfxRGVceoWkVyg    422992\n",
       "LEoPHuyFvzoNfnzGgfcd    321286\n",
       "FTjNLDyTrXaWYgZymFkV    234950\n",
       "NaN                     195287\n",
       "gecBYcKZCPMcVYdSSzKP    133247\n",
       "Name: utm_campaign, dtype: int64"
      ]
     },
     "execution_count": 46,
     "metadata": {},
     "output_type": "execute_result"
    }
   ],
   "source": [
    "df4.utm_campaign.value_counts(dropna=False).head()"
   ]
  },
  {
   "cell_type": "code",
   "execution_count": 47,
   "id": "81e85a15-2a4f-4c4c-8e77-19747bdb4072",
   "metadata": {},
   "outputs": [],
   "source": [
    "# заполним пропуски в завсимости от распределения campaign в каждой категории устройства\n",
    "df5 = fillna_devicecat(df4, 'utm_campaign')"
   ]
  },
  {
   "cell_type": "code",
   "execution_count": 48,
   "id": "e2fc97df-8890-4618-be1c-44d2c33c3dc8",
   "metadata": {},
   "outputs": [
    {
     "data": {
      "text/plain": [
       "LTuZkdKfxRGVceoWkVyg    481929\n",
       "LEoPHuyFvzoNfnzGgfcd    356270\n",
       "FTjNLDyTrXaWYgZymFkV    266512\n",
       "gecBYcKZCPMcVYdSSzKP    147925\n",
       "XHNUiSKKGTEpSAlaVMFQ     27006\n",
       "Name: utm_campaign, dtype: int64"
      ]
     },
     "execution_count": 48,
     "metadata": {},
     "output_type": "execute_result"
    }
   ],
   "source": [
    "df5.utm_campaign.value_counts(dropna=False).head()"
   ]
  },
  {
   "cell_type": "code",
   "execution_count": 49,
   "id": "873a640c-f065-42a3-bc5a-72474e90bc26",
   "metadata": {},
   "outputs": [
    {
     "data": {
      "text/plain": [
       "(0, 17)"
      ]
     },
     "execution_count": 49,
     "metadata": {},
     "output_type": "execute_result"
    }
   ],
   "source": [
    "df5.query(\"utm_campaign.isna()\").shape"
   ]
  },
  {
   "cell_type": "markdown",
   "id": "21f09fe1-1493-4e99-bc9b-4a3130792cf8",
   "metadata": {
    "tags": []
   },
   "source": [
    "### Adcontent"
   ]
  },
  {
   "cell_type": "code",
   "execution_count": 50,
   "id": "d8f69667-6d1b-4b2d-a836-db20824bfdfb",
   "metadata": {},
   "outputs": [
    {
     "data": {
      "text/plain": [
       "JNHcPlZPxEMWDnRiyoBf    935408\n",
       "NaN                     304137\n",
       "vCIpmpaGBnIQhyYNkXqp    179438\n",
       "xhoenQgDQsgfEPYNPwKO    104381\n",
       "PkybGvWbaqORmxjNunqZ     59038\n",
       "Name: utm_adcontent, dtype: int64"
      ]
     },
     "execution_count": 50,
     "metadata": {},
     "output_type": "execute_result"
    }
   ],
   "source": [
    "df5.utm_adcontent.value_counts(dropna=False).head()"
   ]
  },
  {
   "cell_type": "code",
   "execution_count": 51,
   "id": "47efec0d-2a52-420c-b569-0d2b7e7022ca",
   "metadata": {},
   "outputs": [
    {
     "name": "stdout",
     "output_type": "stream",
     "text": [
      "utm_campaign          utm_adcontent       \n",
      "AdtHYglxfCpTpwZeTAuW  JNHcPlZPxEMWDnRiyoBf         1\n",
      "AqudXfUnmXWSDWVGYaXr  JNHcPlZPxEMWDnRiyoBf        20\n",
      "                      XKsYZiUFcdkUXQpoLKyS         2\n",
      "                      aYAcKhelKzYpXrRYknSP         2\n",
      "                      vIKILzdGQEEbEpgPefxF         2\n",
      "BAZCuyHZnaPrMGOMrcCQ  JNHcPlZPxEMWDnRiyoBf       470\n",
      "                      XKsYZiUFcdkUXQpoLKyS         1\n",
      "BHcvLfOaCWvWTykYqHVe  eCPVFTOzrcBYtbtWCUpF        20\n",
      "                      jMNfDMEvJFVnXWOpECtJ        10\n",
      "                      JNHcPlZPxEMWDnRiyoBf         1\n",
      "BKeImrJuRDZcHiSSTdzm  ODLcVlzKCdodjHQNkIoL        38\n",
      "                      guyNoEvzgofQvvwExGOq        24\n",
      "                      UkMhhhbZmYgIctIeIFcd        17\n",
      "                      JJRVNKFvKSInZxhrcjHK        12\n",
      "                      GVUsmTlgLwSaIkbKDGtP         6\n",
      "                      rcPTSYUkeyIdANHAzyqt         5\n",
      "                      JNHcPlZPxEMWDnRiyoBf         1\n",
      "                      QMmfrhgnqNOwSTPaqlLK         1\n",
      "BTR\n"
     ]
    }
   ],
   "source": [
    "print(df5.groupby(by='utm_campaign').utm_adcontent.value_counts().to_string()[:1000])"
   ]
  },
  {
   "cell_type": "markdown",
   "id": "25a8456b-38e9-4db4-a3fc-480de449c285",
   "metadata": {},
   "source": [
    "видим, что для каждогой кампании есть свой набор utm_adcontent"
   ]
  },
  {
   "cell_type": "code",
   "execution_count": 52,
   "id": "256078aa-bdca-4c23-8ccf-4a3c8d6c14e4",
   "metadata": {},
   "outputs": [],
   "source": [
    "# создадим словарь с парами кампания - самый популярный adcontent\n",
    "campaigns = dict()\n",
    "for camp in df5.utm_campaign.unique():\n",
    "    ad_count = df5[df5.utm_campaign == camp].utm_adcontent.value_counts()\n",
    "    if len(ad_count) != 0:\n",
    "        campaigns[camp] = ad_count.idxmax()\n",
    "    else:\n",
    "        campaigns[camp] = nan"
   ]
  },
  {
   "cell_type": "code",
   "execution_count": 53,
   "id": "65cf8d77-0944-4fb2-b936-3a1f13abf71c",
   "metadata": {
    "tags": []
   },
   "outputs": [
    {
     "data": {
      "text/plain": [
       "{'yCnTwlCLkqZHwAglrEll': 'OJiWyBKOyDITzXCZRSMH',\n",
       " 'FrZxVhBshHjYZTtbPhxK': 'JNHcPlZPxEMWDnRiyoBf',\n",
       " 'jvsVVQVKRfBIqBDBuCkq': 'JNHcPlZPxEMWDnRiyoBf',\n",
       " 'HEimDfYZIzuQXDZAAcEW': 'XSkXBCPfnJjvxbfeewtd',\n",
       " 'lDZWtjMawBaqetnVFboy': nan,\n",
       " 'DnEUulZAecfGPvdtZBYS': 'JNHcPlZPxEMWDnRiyoBf',\n",
       " 'qTERPbkOaRvjtQXXEwdb': 'JNHcPlZPxEMWDnRiyoBf',\n",
       " 'WZxCpdfLzrgIfGUqxGpE': 'JNHcPlZPxEMWDnRiyoBf',\n",
       " 'ZWwGecvpGmryAHpoosvq': nan,\n",
       " 'QejVLgNgzFMqjZPsnfxa': 'JNHcPlZPxEMWDnRiyoBf'}"
      ]
     },
     "execution_count": 53,
     "metadata": {},
     "output_type": "execute_result"
    }
   ],
   "source": [
    "{k: v for k, v in list(campaigns.items())[70:80]}"
   ]
  },
  {
   "cell_type": "code",
   "execution_count": 54,
   "id": "37dd5df7-c569-4822-b35b-09dca2590d89",
   "metadata": {},
   "outputs": [],
   "source": [
    "# заполняем пропуски в adcontent, которые можно заполнить, \n",
    "# самыми популярными значениями из campaign\n",
    "nan_ad = df5[df5.utm_adcontent.isna() & ~df5.utm_campaign.isna()].copy()\n",
    "nan_ad['utm_adcontent'] = nan_ad.utm_campaign.apply(lambda x: campaigns[x])"
   ]
  },
  {
   "cell_type": "code",
   "execution_count": 55,
   "id": "d7bae21a-252e-4846-9053-c509b58bbbbe",
   "metadata": {},
   "outputs": [
    {
     "data": {
      "text/html": [
       "<div>\n",
       "<style scoped>\n",
       "    .dataframe tbody tr th:only-of-type {\n",
       "        vertical-align: middle;\n",
       "    }\n",
       "\n",
       "    .dataframe tbody tr th {\n",
       "        vertical-align: top;\n",
       "    }\n",
       "\n",
       "    .dataframe thead th {\n",
       "        text-align: right;\n",
       "    }\n",
       "</style>\n",
       "<table border=\"1\" class=\"dataframe\">\n",
       "  <thead>\n",
       "    <tr style=\"text-align: right;\">\n",
       "      <th></th>\n",
       "      <th>session_id</th>\n",
       "      <th>client_id</th>\n",
       "      <th>visit_date</th>\n",
       "      <th>visit_time</th>\n",
       "      <th>visit_number</th>\n",
       "      <th>utm_source</th>\n",
       "      <th>utm_medium</th>\n",
       "      <th>utm_campaign</th>\n",
       "      <th>utm_adcontent</th>\n",
       "      <th>utm_keyword</th>\n",
       "      <th>device_category</th>\n",
       "      <th>device_os</th>\n",
       "      <th>device_brand</th>\n",
       "      <th>device_screen_resolution</th>\n",
       "      <th>device_browser</th>\n",
       "      <th>geo_country</th>\n",
       "      <th>geo_city</th>\n",
       "    </tr>\n",
       "  </thead>\n",
       "  <tbody>\n",
       "    <tr>\n",
       "      <th>4</th>\n",
       "      <td>9055447046360770272.1622255345.1622255345</td>\n",
       "      <td>2108385564.1622255328</td>\n",
       "      <td>2021-05-29</td>\n",
       "      <td>05:00:00</td>\n",
       "      <td>2</td>\n",
       "      <td>kjsLglQLzykiRbcDiGcD</td>\n",
       "      <td>cpc</td>\n",
       "      <td>FTjNLDyTrXaWYgZymFkV</td>\n",
       "      <td>xhoenQgDQsgfEPYNPwKO</td>\n",
       "      <td>puhZPIYqKXeFPaUviSjo</td>\n",
       "      <td>mobile</td>\n",
       "      <td>Android</td>\n",
       "      <td>Xiaomi</td>\n",
       "      <td>393x786</td>\n",
       "      <td>Chrome</td>\n",
       "      <td>Russia</td>\n",
       "      <td>Moscow</td>\n",
       "    </tr>\n",
       "    <tr>\n",
       "      <th>14</th>\n",
       "      <td>9055469620715506713.1636559415.1636559415</td>\n",
       "      <td>2108390820.1628883993</td>\n",
       "      <td>2021-11-10</td>\n",
       "      <td>18:50:15</td>\n",
       "      <td>4</td>\n",
       "      <td>SzZERoLMmrEUEhDaYcyN</td>\n",
       "      <td>cpc</td>\n",
       "      <td>LTuZkdKfxRGVceoWkVyg</td>\n",
       "      <td>JNHcPlZPxEMWDnRiyoBf</td>\n",
       "      <td>puhZPIYqKXeFPaUviSjo</td>\n",
       "      <td>mobile</td>\n",
       "      <td>Android</td>\n",
       "      <td>Samsung</td>\n",
       "      <td>412x869</td>\n",
       "      <td>Android Webview</td>\n",
       "      <td>Russia</td>\n",
       "      <td>Saint Petersburg</td>\n",
       "    </tr>\n",
       "    <tr>\n",
       "      <th>27</th>\n",
       "      <td>9055504865227535872.1639282176.1639282176</td>\n",
       "      <td>2108399026.1639282176</td>\n",
       "      <td>2021-12-12</td>\n",
       "      <td>07:09:36</td>\n",
       "      <td>1</td>\n",
       "      <td>BHcvLfOaCWvWTykYqHVe</td>\n",
       "      <td>cpc</td>\n",
       "      <td>sbJRYgVfvcnqKJNDDYIr</td>\n",
       "      <td>JNHcPlZPxEMWDnRiyoBf</td>\n",
       "      <td>okTXSMadDkjvntEHzIjp</td>\n",
       "      <td>mobile</td>\n",
       "      <td>Android</td>\n",
       "      <td>Samsung</td>\n",
       "      <td>385x854</td>\n",
       "      <td>Chrome</td>\n",
       "      <td>Russia</td>\n",
       "      <td>Moscow</td>\n",
       "    </tr>\n",
       "    <tr>\n",
       "      <th>37</th>\n",
       "      <td>905553874150070422.1639028885.1639028885</td>\n",
       "      <td>210840691.1639028886</td>\n",
       "      <td>2021-12-09</td>\n",
       "      <td>08:48:05</td>\n",
       "      <td>1</td>\n",
       "      <td>kjsLglQLzykiRbcDiGcD</td>\n",
       "      <td>cpc</td>\n",
       "      <td>LwJZxKuWmvOhPsaCeRjG</td>\n",
       "      <td>JNHcPlZPxEMWDnRiyoBf</td>\n",
       "      <td>cdPAGAvKeBGoqAkQBuGR</td>\n",
       "      <td>mobile</td>\n",
       "      <td>iOS</td>\n",
       "      <td>Apple</td>\n",
       "      <td>375x812</td>\n",
       "      <td>Safari</td>\n",
       "      <td>Russia</td>\n",
       "      <td>Moscow</td>\n",
       "    </tr>\n",
       "    <tr>\n",
       "      <th>39</th>\n",
       "      <td>905553874150070422.1639041598.1639041598</td>\n",
       "      <td>210840691.1639028886</td>\n",
       "      <td>2021-12-09</td>\n",
       "      <td>12:19:58</td>\n",
       "      <td>4</td>\n",
       "      <td>kjsLglQLzykiRbcDiGcD</td>\n",
       "      <td>cpc</td>\n",
       "      <td>LwJZxKuWmvOhPsaCeRjG</td>\n",
       "      <td>JNHcPlZPxEMWDnRiyoBf</td>\n",
       "      <td>cdPAGAvKeBGoqAkQBuGR</td>\n",
       "      <td>mobile</td>\n",
       "      <td>iOS</td>\n",
       "      <td>Apple</td>\n",
       "      <td>375x812</td>\n",
       "      <td>Safari</td>\n",
       "      <td>Russia</td>\n",
       "      <td>Moscow</td>\n",
       "    </tr>\n",
       "  </tbody>\n",
       "</table>\n",
       "</div>"
      ],
      "text/plain": [
       "                                   session_id              client_id  \\\n",
       "4   9055447046360770272.1622255345.1622255345  2108385564.1622255328   \n",
       "14  9055469620715506713.1636559415.1636559415  2108390820.1628883993   \n",
       "27  9055504865227535872.1639282176.1639282176  2108399026.1639282176   \n",
       "37   905553874150070422.1639028885.1639028885   210840691.1639028886   \n",
       "39   905553874150070422.1639041598.1639041598   210840691.1639028886   \n",
       "\n",
       "    visit_date visit_time  visit_number            utm_source utm_medium  \\\n",
       "4   2021-05-29   05:00:00             2  kjsLglQLzykiRbcDiGcD        cpc   \n",
       "14  2021-11-10   18:50:15             4  SzZERoLMmrEUEhDaYcyN        cpc   \n",
       "27  2021-12-12   07:09:36             1  BHcvLfOaCWvWTykYqHVe        cpc   \n",
       "37  2021-12-09   08:48:05             1  kjsLglQLzykiRbcDiGcD        cpc   \n",
       "39  2021-12-09   12:19:58             4  kjsLglQLzykiRbcDiGcD        cpc   \n",
       "\n",
       "            utm_campaign         utm_adcontent           utm_keyword  \\\n",
       "4   FTjNLDyTrXaWYgZymFkV  xhoenQgDQsgfEPYNPwKO  puhZPIYqKXeFPaUviSjo   \n",
       "14  LTuZkdKfxRGVceoWkVyg  JNHcPlZPxEMWDnRiyoBf  puhZPIYqKXeFPaUviSjo   \n",
       "27  sbJRYgVfvcnqKJNDDYIr  JNHcPlZPxEMWDnRiyoBf  okTXSMadDkjvntEHzIjp   \n",
       "37  LwJZxKuWmvOhPsaCeRjG  JNHcPlZPxEMWDnRiyoBf  cdPAGAvKeBGoqAkQBuGR   \n",
       "39  LwJZxKuWmvOhPsaCeRjG  JNHcPlZPxEMWDnRiyoBf  cdPAGAvKeBGoqAkQBuGR   \n",
       "\n",
       "   device_category device_os device_brand device_screen_resolution  \\\n",
       "4           mobile   Android       Xiaomi                  393x786   \n",
       "14          mobile   Android      Samsung                  412x869   \n",
       "27          mobile   Android      Samsung                  385x854   \n",
       "37          mobile       iOS        Apple                  375x812   \n",
       "39          mobile       iOS        Apple                  375x812   \n",
       "\n",
       "     device_browser geo_country          geo_city  \n",
       "4            Chrome      Russia            Moscow  \n",
       "14  Android Webview      Russia  Saint Petersburg  \n",
       "27           Chrome      Russia            Moscow  \n",
       "37           Safari      Russia            Moscow  \n",
       "39           Safari      Russia            Moscow  "
      ]
     },
     "execution_count": 55,
     "metadata": {},
     "output_type": "execute_result"
    }
   ],
   "source": [
    "nan_ad.head()"
   ]
  },
  {
   "cell_type": "code",
   "execution_count": 56,
   "id": "5664052d-cc5e-40a4-92e4-9d2887e61eb8",
   "metadata": {},
   "outputs": [],
   "source": [
    "df6 = df5.copy()"
   ]
  },
  {
   "cell_type": "code",
   "execution_count": 57,
   "id": "2ef84e1a-189e-4f46-9e06-ff0bd7f43246",
   "metadata": {},
   "outputs": [],
   "source": [
    "df6.loc[nan_ad.index, :] = nan_ad"
   ]
  },
  {
   "cell_type": "code",
   "execution_count": 58,
   "id": "505d66d5-7e6d-4231-8901-e1090d8d89fd",
   "metadata": {},
   "outputs": [
    {
     "data": {
      "text/html": [
       "<div>\n",
       "<style scoped>\n",
       "    .dataframe tbody tr th:only-of-type {\n",
       "        vertical-align: middle;\n",
       "    }\n",
       "\n",
       "    .dataframe tbody tr th {\n",
       "        vertical-align: top;\n",
       "    }\n",
       "\n",
       "    .dataframe thead th {\n",
       "        text-align: right;\n",
       "    }\n",
       "</style>\n",
       "<table border=\"1\" class=\"dataframe\">\n",
       "  <thead>\n",
       "    <tr style=\"text-align: right;\">\n",
       "      <th></th>\n",
       "      <th>session_id</th>\n",
       "      <th>client_id</th>\n",
       "      <th>visit_date</th>\n",
       "      <th>visit_time</th>\n",
       "      <th>visit_number</th>\n",
       "      <th>utm_source</th>\n",
       "      <th>utm_medium</th>\n",
       "      <th>utm_campaign</th>\n",
       "      <th>utm_adcontent</th>\n",
       "      <th>utm_keyword</th>\n",
       "      <th>device_category</th>\n",
       "      <th>device_os</th>\n",
       "      <th>device_brand</th>\n",
       "      <th>device_screen_resolution</th>\n",
       "      <th>device_browser</th>\n",
       "      <th>geo_country</th>\n",
       "      <th>geo_city</th>\n",
       "    </tr>\n",
       "  </thead>\n",
       "  <tbody>\n",
       "    <tr>\n",
       "      <th>4</th>\n",
       "      <td>9055447046360770272.1622255345.1622255345</td>\n",
       "      <td>2108385564.1622255328</td>\n",
       "      <td>2021-05-29</td>\n",
       "      <td>05:00:00</td>\n",
       "      <td>2</td>\n",
       "      <td>kjsLglQLzykiRbcDiGcD</td>\n",
       "      <td>cpc</td>\n",
       "      <td>FTjNLDyTrXaWYgZymFkV</td>\n",
       "      <td>xhoenQgDQsgfEPYNPwKO</td>\n",
       "      <td>puhZPIYqKXeFPaUviSjo</td>\n",
       "      <td>mobile</td>\n",
       "      <td>Android</td>\n",
       "      <td>Xiaomi</td>\n",
       "      <td>393x786</td>\n",
       "      <td>Chrome</td>\n",
       "      <td>Russia</td>\n",
       "      <td>Moscow</td>\n",
       "    </tr>\n",
       "    <tr>\n",
       "      <th>14</th>\n",
       "      <td>9055469620715506713.1636559415.1636559415</td>\n",
       "      <td>2108390820.1628883993</td>\n",
       "      <td>2021-11-10</td>\n",
       "      <td>18:50:15</td>\n",
       "      <td>4</td>\n",
       "      <td>SzZERoLMmrEUEhDaYcyN</td>\n",
       "      <td>cpc</td>\n",
       "      <td>LTuZkdKfxRGVceoWkVyg</td>\n",
       "      <td>JNHcPlZPxEMWDnRiyoBf</td>\n",
       "      <td>puhZPIYqKXeFPaUviSjo</td>\n",
       "      <td>mobile</td>\n",
       "      <td>Android</td>\n",
       "      <td>Samsung</td>\n",
       "      <td>412x869</td>\n",
       "      <td>Android Webview</td>\n",
       "      <td>Russia</td>\n",
       "      <td>Saint Petersburg</td>\n",
       "    </tr>\n",
       "    <tr>\n",
       "      <th>27</th>\n",
       "      <td>9055504865227535872.1639282176.1639282176</td>\n",
       "      <td>2108399026.1639282176</td>\n",
       "      <td>2021-12-12</td>\n",
       "      <td>07:09:36</td>\n",
       "      <td>1</td>\n",
       "      <td>BHcvLfOaCWvWTykYqHVe</td>\n",
       "      <td>cpc</td>\n",
       "      <td>sbJRYgVfvcnqKJNDDYIr</td>\n",
       "      <td>JNHcPlZPxEMWDnRiyoBf</td>\n",
       "      <td>okTXSMadDkjvntEHzIjp</td>\n",
       "      <td>mobile</td>\n",
       "      <td>Android</td>\n",
       "      <td>Samsung</td>\n",
       "      <td>385x854</td>\n",
       "      <td>Chrome</td>\n",
       "      <td>Russia</td>\n",
       "      <td>Moscow</td>\n",
       "    </tr>\n",
       "    <tr>\n",
       "      <th>37</th>\n",
       "      <td>905553874150070422.1639028885.1639028885</td>\n",
       "      <td>210840691.1639028886</td>\n",
       "      <td>2021-12-09</td>\n",
       "      <td>08:48:05</td>\n",
       "      <td>1</td>\n",
       "      <td>kjsLglQLzykiRbcDiGcD</td>\n",
       "      <td>cpc</td>\n",
       "      <td>LwJZxKuWmvOhPsaCeRjG</td>\n",
       "      <td>JNHcPlZPxEMWDnRiyoBf</td>\n",
       "      <td>cdPAGAvKeBGoqAkQBuGR</td>\n",
       "      <td>mobile</td>\n",
       "      <td>iOS</td>\n",
       "      <td>Apple</td>\n",
       "      <td>375x812</td>\n",
       "      <td>Safari</td>\n",
       "      <td>Russia</td>\n",
       "      <td>Moscow</td>\n",
       "    </tr>\n",
       "    <tr>\n",
       "      <th>39</th>\n",
       "      <td>905553874150070422.1639041598.1639041598</td>\n",
       "      <td>210840691.1639028886</td>\n",
       "      <td>2021-12-09</td>\n",
       "      <td>12:19:58</td>\n",
       "      <td>4</td>\n",
       "      <td>kjsLglQLzykiRbcDiGcD</td>\n",
       "      <td>cpc</td>\n",
       "      <td>LwJZxKuWmvOhPsaCeRjG</td>\n",
       "      <td>JNHcPlZPxEMWDnRiyoBf</td>\n",
       "      <td>cdPAGAvKeBGoqAkQBuGR</td>\n",
       "      <td>mobile</td>\n",
       "      <td>iOS</td>\n",
       "      <td>Apple</td>\n",
       "      <td>375x812</td>\n",
       "      <td>Safari</td>\n",
       "      <td>Russia</td>\n",
       "      <td>Moscow</td>\n",
       "    </tr>\n",
       "  </tbody>\n",
       "</table>\n",
       "</div>"
      ],
      "text/plain": [
       "                                   session_id              client_id  \\\n",
       "4   9055447046360770272.1622255345.1622255345  2108385564.1622255328   \n",
       "14  9055469620715506713.1636559415.1636559415  2108390820.1628883993   \n",
       "27  9055504865227535872.1639282176.1639282176  2108399026.1639282176   \n",
       "37   905553874150070422.1639028885.1639028885   210840691.1639028886   \n",
       "39   905553874150070422.1639041598.1639041598   210840691.1639028886   \n",
       "\n",
       "    visit_date visit_time  visit_number            utm_source utm_medium  \\\n",
       "4   2021-05-29   05:00:00             2  kjsLglQLzykiRbcDiGcD        cpc   \n",
       "14  2021-11-10   18:50:15             4  SzZERoLMmrEUEhDaYcyN        cpc   \n",
       "27  2021-12-12   07:09:36             1  BHcvLfOaCWvWTykYqHVe        cpc   \n",
       "37  2021-12-09   08:48:05             1  kjsLglQLzykiRbcDiGcD        cpc   \n",
       "39  2021-12-09   12:19:58             4  kjsLglQLzykiRbcDiGcD        cpc   \n",
       "\n",
       "            utm_campaign         utm_adcontent           utm_keyword  \\\n",
       "4   FTjNLDyTrXaWYgZymFkV  xhoenQgDQsgfEPYNPwKO  puhZPIYqKXeFPaUviSjo   \n",
       "14  LTuZkdKfxRGVceoWkVyg  JNHcPlZPxEMWDnRiyoBf  puhZPIYqKXeFPaUviSjo   \n",
       "27  sbJRYgVfvcnqKJNDDYIr  JNHcPlZPxEMWDnRiyoBf  okTXSMadDkjvntEHzIjp   \n",
       "37  LwJZxKuWmvOhPsaCeRjG  JNHcPlZPxEMWDnRiyoBf  cdPAGAvKeBGoqAkQBuGR   \n",
       "39  LwJZxKuWmvOhPsaCeRjG  JNHcPlZPxEMWDnRiyoBf  cdPAGAvKeBGoqAkQBuGR   \n",
       "\n",
       "   device_category device_os device_brand device_screen_resolution  \\\n",
       "4           mobile   Android       Xiaomi                  393x786   \n",
       "14          mobile   Android      Samsung                  412x869   \n",
       "27          mobile   Android      Samsung                  385x854   \n",
       "37          mobile       iOS        Apple                  375x812   \n",
       "39          mobile       iOS        Apple                  375x812   \n",
       "\n",
       "     device_browser geo_country          geo_city  \n",
       "4            Chrome      Russia            Moscow  \n",
       "14  Android Webview      Russia  Saint Petersburg  \n",
       "27           Chrome      Russia            Moscow  \n",
       "37           Safari      Russia            Moscow  \n",
       "39           Safari      Russia            Moscow  "
      ]
     },
     "execution_count": 58,
     "metadata": {},
     "output_type": "execute_result"
    }
   ],
   "source": [
    "df6.loc[nan_ad.index, :].head()"
   ]
  },
  {
   "cell_type": "code",
   "execution_count": 59,
   "id": "d05c4336-c5e5-407f-b3f8-cf8e2f5e43f6",
   "metadata": {},
   "outputs": [
    {
     "name": "stdout",
     "output_type": "stream",
     "text": [
      "Количество незаполненных значений по столбцам:\n",
      "utm_adcontent    3909\n",
      "utm_source         76\n",
      "dtype: int64\n"
     ]
    }
   ],
   "source": [
    "count_na(df6)"
   ]
  },
  {
   "cell_type": "code",
   "execution_count": 60,
   "id": "2ea56054-7b7c-4ed5-a341-f264617d9d21",
   "metadata": {},
   "outputs": [],
   "source": [
    "# оставшиеся пропуски в adcontent заполним в соответствии с распределением по категории девайса\n",
    "df6 = fillna_devicecat(df6, 'utm_adcontent')"
   ]
  },
  {
   "cell_type": "markdown",
   "id": "d21fa57f-7d49-4732-acde-62c9e9ed75c6",
   "metadata": {
    "tags": []
   },
   "source": [
    "### Source"
   ]
  },
  {
   "cell_type": "code",
   "execution_count": 61,
   "id": "43a515e4-5846-4c6b-b958-c123362a450a",
   "metadata": {},
   "outputs": [],
   "source": [
    "df7 = fillna_devicecat(df6, 'utm_source')"
   ]
  },
  {
   "cell_type": "code",
   "execution_count": 62,
   "id": "971ab0ba-ed4c-4b14-8b79-fd9a3c9e5eed",
   "metadata": {},
   "outputs": [
    {
     "name": "stdout",
     "output_type": "stream",
     "text": [
      "Количество незаполненных значений по столбцам:\n",
      "Series([], dtype: int64)\n"
     ]
    }
   ],
   "source": [
    "count_na(df7)"
   ]
  },
  {
   "cell_type": "code",
   "execution_count": 63,
   "id": "c8ebe695-59c8-46a2-b843-baae8053e135",
   "metadata": {},
   "outputs": [],
   "source": [
    "df_imp = df7.copy()"
   ]
  },
  {
   "cell_type": "code",
   "execution_count": 64,
   "id": "bbe06387-9058-4a94-b20c-54f90c99a3b1",
   "metadata": {},
   "outputs": [
    {
     "data": {
      "text/plain": [
       "(1732266, 17)"
      ]
     },
     "execution_count": 64,
     "metadata": {},
     "output_type": "execute_result"
    }
   ],
   "source": [
    "df_imp.shape"
   ]
  },
  {
   "cell_type": "markdown",
   "id": "b5afd956-17cd-40ae-aa42-eef1893f4fb7",
   "metadata": {
    "tags": []
   },
   "source": [
    "## Types"
   ]
  },
  {
   "cell_type": "code",
   "execution_count": 65,
   "id": "9d814ce9-6d42-4e3a-ba15-2a956c20c11c",
   "metadata": {},
   "outputs": [],
   "source": [
    "df = df_imp.copy()"
   ]
  },
  {
   "cell_type": "code",
   "execution_count": 66,
   "id": "31251b0d-9151-419a-abce-4f132ee93440",
   "metadata": {},
   "outputs": [
    {
     "data": {
      "text/plain": [
       "session_id                  object\n",
       "client_id                   object\n",
       "visit_date                  object\n",
       "visit_time                  object\n",
       "visit_number                 int64\n",
       "utm_source                  object\n",
       "utm_medium                  object\n",
       "utm_campaign                object\n",
       "utm_adcontent               object\n",
       "utm_keyword                 object\n",
       "device_category             object\n",
       "device_os                   object\n",
       "device_brand                object\n",
       "device_screen_resolution    object\n",
       "device_browser              object\n",
       "geo_country                 object\n",
       "geo_city                    object\n",
       "dtype: object"
      ]
     },
     "execution_count": 66,
     "metadata": {},
     "output_type": "execute_result"
    }
   ],
   "source": [
    "df.dtypes"
   ]
  },
  {
   "cell_type": "markdown",
   "id": "24ad25d9-148d-4ddb-a13c-013edbd5d351",
   "metadata": {},
   "source": [
    "### Parse Datetime"
   ]
  },
  {
   "cell_type": "code",
   "execution_count": 67,
   "id": "5323189c-4627-4284-9430-5d9aad39d006",
   "metadata": {},
   "outputs": [],
   "source": [
    "# переведём два столбца с датой и временем в один типа datetime\n",
    "df['visit_dt'] = pd.to_datetime(df['visit_date'] + ' ' + df['visit_time'])"
   ]
  },
  {
   "cell_type": "code",
   "execution_count": 68,
   "id": "6d86f57d-0ac1-4e5f-b8d0-ed6a3399ba6f",
   "metadata": {},
   "outputs": [
    {
     "data": {
      "text/plain": [
       "0         2021-11-24 14:36:32\n",
       "1         2021-11-14 08:21:30\n",
       "2         2021-12-28 02:42:06\n",
       "3         2021-05-29 05:00:00\n",
       "4         2021-05-29 05:00:00\n",
       "                  ...        \n",
       "1860037   2021-12-22 10:48:25\n",
       "1860038   2021-05-26 08:00:00\n",
       "1860039   2021-11-15 15:31:55\n",
       "1860040   2021-11-29 15:36:44\n",
       "1860041   2021-12-31 19:39:02\n",
       "Name: visit_dt, Length: 1732266, dtype: datetime64[ns]"
      ]
     },
     "execution_count": 68,
     "metadata": {},
     "output_type": "execute_result"
    }
   ],
   "source": [
    "df['visit_dt']"
   ]
  },
  {
   "cell_type": "code",
   "execution_count": 69,
   "id": "6cf96d8e-4f11-494e-bd8c-0ebd21aa4b1b",
   "metadata": {
    "tags": []
   },
   "outputs": [
    {
     "data": {
      "text/plain": [
       "(1732266, 16)"
      ]
     },
     "execution_count": 69,
     "metadata": {},
     "output_type": "execute_result"
    }
   ],
   "source": [
    "df.drop(columns=['visit_date', 'visit_time'], inplace=True)\n",
    "df.shape"
   ]
  },
  {
   "cell_type": "code",
   "execution_count": 70,
   "id": "841c563b-a746-464f-959b-0451254c02fc",
   "metadata": {},
   "outputs": [
    {
     "data": {
      "text/plain": [
       "session_id                          object\n",
       "client_id                           object\n",
       "visit_number                         int64\n",
       "utm_source                          object\n",
       "utm_medium                          object\n",
       "utm_campaign                        object\n",
       "utm_adcontent                       object\n",
       "utm_keyword                         object\n",
       "device_category                     object\n",
       "device_os                           object\n",
       "device_brand                        object\n",
       "device_screen_resolution            object\n",
       "device_browser                      object\n",
       "geo_country                         object\n",
       "geo_city                            object\n",
       "visit_dt                    datetime64[ns]\n",
       "dtype: object"
      ]
     },
     "execution_count": 70,
     "metadata": {},
     "output_type": "execute_result"
    }
   ],
   "source": [
    "df.dtypes"
   ]
  },
  {
   "cell_type": "markdown",
   "id": "54fdd6b8-75f2-4598-bde7-1c5a46f6e9fa",
   "metadata": {
    "tags": []
   },
   "source": [
    "## Аномалии и выбросы"
   ]
  },
  {
   "cell_type": "code",
   "execution_count": 71,
   "id": "311da55d-59ab-41da-afc9-649694ec2a35",
   "metadata": {},
   "outputs": [],
   "source": [
    "def quantile_bondaries(data: pd.Series) -> tuple[float]:\n",
    "    \"\"\"Определение границ интерквартильного размаха\"\"\"\n",
    "    q25 = data.quantile(0.25)\n",
    "    q75 = data.quantile(0.75)\n",
    "    iqr = q75 - q25\n",
    "    return q25 - 1.5 * iqr, q75 + 1.5 * iqr"
   ]
  },
  {
   "cell_type": "code",
   "execution_count": 72,
   "id": "f297886f-596a-4555-807a-71b8f8c0bed4",
   "metadata": {},
   "outputs": [],
   "source": [
    "def sigma_bondaries(data: pd.Series) -> tuple[float]:\n",
    "    low = data.mean() - 3 * data.std()\n",
    "    hi = data.mean() + 3 * data.std()    \n",
    "    return low, hi"
   ]
  },
  {
   "cell_type": "markdown",
   "id": "a2c48d26-4933-4f03-a926-f381649ab45e",
   "metadata": {
    "tags": []
   },
   "source": [
    "#### visit_number"
   ]
  },
  {
   "cell_type": "code",
   "execution_count": 73,
   "id": "febd4e34-56a1-4e1f-953b-e2a3fb028b89",
   "metadata": {},
   "outputs": [
    {
     "data": {
      "text/plain": [
       "count    1732266.00\n",
       "mean           2.63\n",
       "std           11.64\n",
       "min            1.00\n",
       "25%            1.00\n",
       "50%            1.00\n",
       "75%            1.00\n",
       "max          564.00\n",
       "Name: visit_number, dtype: object"
      ]
     },
     "execution_count": 73,
     "metadata": {},
     "output_type": "execute_result"
    }
   ],
   "source": [
    "df.visit_number.describe().apply(lambda x: f\"{x :.2f}\")"
   ]
  },
  {
   "cell_type": "code",
   "execution_count": 74,
   "id": "6752e0e8-732f-4638-863a-65d821125375",
   "metadata": {},
   "outputs": [
    {
     "data": {
      "text/plain": [
       "(-32.29996379427241, 37.55563353552461)"
      ]
     },
     "execution_count": 74,
     "metadata": {},
     "output_type": "execute_result"
    }
   ],
   "source": [
    "visit_bond = sigma_bondaries(df.visit_number)\n",
    "visit_bond"
   ]
  },
  {
   "cell_type": "markdown",
   "id": "0b9cedc5-2808-4d21-b9a6-afdf7b1e8174",
   "metadata": {},
   "source": [
    "выбросы заменим значением верхней границы"
   ]
  },
  {
   "cell_type": "code",
   "execution_count": 76,
   "id": "63d982e9-a714-4ba0-9d29-ded9ebff853d",
   "metadata": {},
   "outputs": [],
   "source": [
    "df.visit_number.mask(df.visit_number > visit_bond[1], int(visit_bond[1]), inplace=True)"
   ]
  },
  {
   "cell_type": "code",
   "execution_count": 77,
   "id": "b3217b25-c203-4b53-b2f4-0010d2eb7527",
   "metadata": {},
   "outputs": [
    {
     "data": {
      "text/plain": [
       "count    1732266.00\n",
       "mean           2.09\n",
       "std            4.21\n",
       "min            1.00\n",
       "25%            1.00\n",
       "50%            1.00\n",
       "75%            1.00\n",
       "max           37.00\n",
       "Name: visit_number, dtype: object"
      ]
     },
     "execution_count": 77,
     "metadata": {},
     "output_type": "execute_result"
    }
   ],
   "source": [
    "df.visit_number.describe().apply(lambda x: f\"{x :.2f}\")"
   ]
  },
  {
   "cell_type": "code",
   "execution_count": 78,
   "id": "d1d9c418-1943-42da-abcf-627072a865d4",
   "metadata": {},
   "outputs": [
    {
     "data": {
      "text/plain": [
       "(1732266, 16)"
      ]
     },
     "execution_count": 78,
     "metadata": {},
     "output_type": "execute_result"
    }
   ],
   "source": [
    "df.shape"
   ]
  },
  {
   "cell_type": "code",
   "execution_count": 79,
   "id": "b080f57d-e1fd-4b28-bdc5-d271aed36af0",
   "metadata": {},
   "outputs": [
    {
     "data": {
      "image/png": "[encoded data removed]",
      "text/plain": [
       "<Figure size 800x500 with 1 Axes>"
      ]
     },
     "metadata": {},
     "output_type": "display_data"
    }
   ],
   "source": [
    "plt.style.use('dark_background')\n",
    "plt.figure(figsize=(8, 5))\n",
    "plt.hist(df.visit_number, bins=11, color='lightgreen')\n",
    "plt.xlabel('Номер посещения')\n",
    "plt.ylabel('Частота')\n",
    "plt.yscale('log')\n",
    "plt.title('Распределение количества посещений');"
   ]
  },
  {
   "cell_type": "code",
   "execution_count": 80,
   "id": "10077071-bc5f-4886-a61c-2c7830581a41",
   "metadata": {},
   "outputs": [],
   "source": [
    "df_out = df.copy()"
   ]
  },
  {
   "cell_type": "markdown",
   "id": "c114006f-c9a8-4beb-be5b-06525e8b3f73",
   "metadata": {
    "tags": []
   },
   "source": [
    "# Feature engineering\n",
    "---"
   ]
  },
  {
   "cell_type": "code",
   "execution_count": 81,
   "id": "8692ac85-fd51-4ab2-b16c-ceb1c9a29b77",
   "metadata": {},
   "outputs": [],
   "source": [
    "df = df_out.copy()"
   ]
  },
  {
   "cell_type": "code",
   "execution_count": 82,
   "id": "382abf2e-548f-406a-8518-0262f4987529",
   "metadata": {},
   "outputs": [
    {
     "data": {
      "text/plain": [
       "(1732266, 16)"
      ]
     },
     "execution_count": 82,
     "metadata": {},
     "output_type": "execute_result"
    }
   ],
   "source": [
    "df.shape"
   ]
  },
  {
   "cell_type": "markdown",
   "id": "e7824fcc-8abd-49fa-b949-b93d83abe66f",
   "metadata": {
    "tags": []
   },
   "source": [
    "## \"target_action\" feature"
   ]
  },
  {
   "cell_type": "code",
   "execution_count": 83,
   "id": "588989a1-8cfb-49f9-9ffa-bc777790238b",
   "metadata": {},
   "outputs": [],
   "source": [
    "# добавим target action - результат действий на сайте из ga_hits\n",
    "target_actions = ('sub_car_claim_click', 'sub_car_claim_submit_click', 'sub_open_dialog_click',\n",
    "                  'sub_custom_question_submit_click', 'sub_call_number_click', 'sub_callback_submit_click', \n",
    "                  'sub_submit_success', 'sub_car_request_submit_click')"
   ]
  },
  {
   "cell_type": "code",
   "execution_count": 84,
   "id": "b3872725-3ed1-461a-bdd9-b5b958dc7837",
   "metadata": {},
   "outputs": [
    {
     "data": {
      "text/html": [
       "<div>\n",
       "<style scoped>\n",
       "    .dataframe tbody tr th:only-of-type {\n",
       "        vertical-align: middle;\n",
       "    }\n",
       "\n",
       "    .dataframe tbody tr th {\n",
       "        vertical-align: top;\n",
       "    }\n",
       "\n",
       "    .dataframe thead th {\n",
       "        text-align: right;\n",
       "    }\n",
       "</style>\n",
       "<table border=\"1\" class=\"dataframe\">\n",
       "  <thead>\n",
       "    <tr style=\"text-align: right;\">\n",
       "      <th></th>\n",
       "      <th>session_id</th>\n",
       "      <th>event_action</th>\n",
       "    </tr>\n",
       "  </thead>\n",
       "  <tbody>\n",
       "    <tr>\n",
       "      <th>4016</th>\n",
       "      <td>2744563715298057088.1640258436.1640258436</td>\n",
       "      <td>sub_submit_success</td>\n",
       "    </tr>\n",
       "    <tr>\n",
       "      <th>4045</th>\n",
       "      <td>3087297479839089634.1640268774.1640268774</td>\n",
       "      <td>sub_submit_success</td>\n",
       "    </tr>\n",
       "    <tr>\n",
       "      <th>4046</th>\n",
       "      <td>3156966333326004302.1640206419.1640206800</td>\n",
       "      <td>sub_submit_success</td>\n",
       "    </tr>\n",
       "    <tr>\n",
       "      <th>4047</th>\n",
       "      <td>3750243879753098158.1640272208.1640272208</td>\n",
       "      <td>sub_submit_success</td>\n",
       "    </tr>\n",
       "    <tr>\n",
       "      <th>4048</th>\n",
       "      <td>7518333712042258254.1640258901.1640258901</td>\n",
       "      <td>sub_submit_success</td>\n",
       "    </tr>\n",
       "    <tr>\n",
       "      <th>...</th>\n",
       "      <td>...</td>\n",
       "      <td>...</td>\n",
       "    </tr>\n",
       "    <tr>\n",
       "      <th>15725025</th>\n",
       "      <td>1277864870843199549.1636773954.1636773954</td>\n",
       "      <td>sub_car_claim_submit_click</td>\n",
       "    </tr>\n",
       "    <tr>\n",
       "      <th>15725133</th>\n",
       "      <td>965861352491898977.1636751459.1636751459</td>\n",
       "      <td>sub_submit_success</td>\n",
       "    </tr>\n",
       "    <tr>\n",
       "      <th>15725134</th>\n",
       "      <td>4727705172767122620.1636818847.1636818847</td>\n",
       "      <td>sub_submit_success</td>\n",
       "    </tr>\n",
       "    <tr>\n",
       "      <th>15725135</th>\n",
       "      <td>4727705172767122620.1636818847.1636818847</td>\n",
       "      <td>sub_open_dialog_click</td>\n",
       "    </tr>\n",
       "    <tr>\n",
       "      <th>15725136</th>\n",
       "      <td>116562085450617659.1636832061.1636832061</td>\n",
       "      <td>sub_car_claim_submit_click</td>\n",
       "    </tr>\n",
       "  </tbody>\n",
       "</table>\n",
       "<p>102842 rows × 2 columns</p>\n",
       "</div>"
      ],
      "text/plain": [
       "                                         session_id  \\\n",
       "4016      2744563715298057088.1640258436.1640258436   \n",
       "4045      3087297479839089634.1640268774.1640268774   \n",
       "4046      3156966333326004302.1640206419.1640206800   \n",
       "4047      3750243879753098158.1640272208.1640272208   \n",
       "4048      7518333712042258254.1640258901.1640258901   \n",
       "...                                             ...   \n",
       "15725025  1277864870843199549.1636773954.1636773954   \n",
       "15725133   965861352491898977.1636751459.1636751459   \n",
       "15725134  4727705172767122620.1636818847.1636818847   \n",
       "15725135  4727705172767122620.1636818847.1636818847   \n",
       "15725136   116562085450617659.1636832061.1636832061   \n",
       "\n",
       "                        event_action  \n",
       "4016              sub_submit_success  \n",
       "4045              sub_submit_success  \n",
       "4046              sub_submit_success  \n",
       "4047              sub_submit_success  \n",
       "4048              sub_submit_success  \n",
       "...                              ...  \n",
       "15725025  sub_car_claim_submit_click  \n",
       "15725133          sub_submit_success  \n",
       "15725134          sub_submit_success  \n",
       "15725135       sub_open_dialog_click  \n",
       "15725136  sub_car_claim_submit_click  \n",
       "\n",
       "[102842 rows x 2 columns]"
      ]
     },
     "execution_count": 84,
     "metadata": {},
     "output_type": "execute_result"
    }
   ],
   "source": [
    "df_hits2 = df_hits.query(\"event_action.isin(@target_actions)\")\n",
    "df_hits2"
   ]
  },
  {
   "cell_type": "code",
   "execution_count": 85,
   "id": "abdcc3f7-7f34-4619-81b2-f16f7f945a3f",
   "metadata": {},
   "outputs": [],
   "source": [
    "# все сессии, которые привели к target action\n",
    "id_set = set(df_hits2.session_id.values)"
   ]
  },
  {
   "cell_type": "code",
   "execution_count": 86,
   "id": "9cc450dd-8270-4bd1-80f2-2abb5b154e89",
   "metadata": {},
   "outputs": [],
   "source": [
    "# добавим 1, если произошло целевое действие, иначе 0\n",
    "df['target_action'] = df.session_id.apply(\n",
    "    lambda id_:\n",
    "    1 if id_ in id_set\n",
    "    else 0\n",
    ")"
   ]
  },
  {
   "cell_type": "code",
   "execution_count": 87,
   "id": "a0476140-39b9-4762-b792-603dbef6a71b",
   "metadata": {},
   "outputs": [
    {
     "data": {
      "text/plain": [
       "0    1681952\n",
       "1      50314\n",
       "Name: target_action, dtype: int64"
      ]
     },
     "execution_count": 87,
     "metadata": {},
     "output_type": "execute_result"
    }
   ],
   "source": [
    "df.target_action.value_counts()"
   ]
  },
  {
   "cell_type": "code",
   "execution_count": 88,
   "id": "66d11087-f77d-41a9-9b78-edcb5843b926",
   "metadata": {},
   "outputs": [
    {
     "data": {
      "text/html": [
       "<div>\n",
       "<style scoped>\n",
       "    .dataframe tbody tr th:only-of-type {\n",
       "        vertical-align: middle;\n",
       "    }\n",
       "\n",
       "    .dataframe tbody tr th {\n",
       "        vertical-align: top;\n",
       "    }\n",
       "\n",
       "    .dataframe thead th {\n",
       "        text-align: right;\n",
       "    }\n",
       "</style>\n",
       "<table border=\"1\" class=\"dataframe\">\n",
       "  <thead>\n",
       "    <tr style=\"text-align: right;\">\n",
       "      <th></th>\n",
       "      <th>session_id</th>\n",
       "      <th>client_id</th>\n",
       "      <th>visit_number</th>\n",
       "      <th>utm_source</th>\n",
       "      <th>utm_medium</th>\n",
       "      <th>utm_campaign</th>\n",
       "      <th>utm_adcontent</th>\n",
       "      <th>utm_keyword</th>\n",
       "      <th>device_category</th>\n",
       "      <th>device_os</th>\n",
       "      <th>device_brand</th>\n",
       "      <th>device_screen_resolution</th>\n",
       "      <th>device_browser</th>\n",
       "      <th>geo_country</th>\n",
       "      <th>geo_city</th>\n",
       "      <th>visit_dt</th>\n",
       "      <th>target_action</th>\n",
       "    </tr>\n",
       "  </thead>\n",
       "  <tbody>\n",
       "    <tr>\n",
       "      <th>0</th>\n",
       "      <td>9055434745589932991.1637753792.1637753792</td>\n",
       "      <td>2108382700.1637753791</td>\n",
       "      <td>1</td>\n",
       "      <td>ZpYIoDJMcFzVoPFsHGJL</td>\n",
       "      <td>banner</td>\n",
       "      <td>LEoPHuyFvzoNfnzGgfcd</td>\n",
       "      <td>vCIpmpaGBnIQhyYNkXqp</td>\n",
       "      <td>puhZPIYqKXeFPaUviSjo</td>\n",
       "      <td>mobile</td>\n",
       "      <td>Android</td>\n",
       "      <td>Huawei</td>\n",
       "      <td>360x720</td>\n",
       "      <td>Chrome</td>\n",
       "      <td>Russia</td>\n",
       "      <td>Zlatoust</td>\n",
       "      <td>2021-11-24 14:36:32</td>\n",
       "      <td>0</td>\n",
       "    </tr>\n",
       "    <tr>\n",
       "      <th>1</th>\n",
       "      <td>905544597018549464.1636867290.1636867290</td>\n",
       "      <td>210838531.1636867288</td>\n",
       "      <td>1</td>\n",
       "      <td>MvfHsxITijuriZxsqZqt</td>\n",
       "      <td>cpm</td>\n",
       "      <td>FTjNLDyTrXaWYgZymFkV</td>\n",
       "      <td>xhoenQgDQsgfEPYNPwKO</td>\n",
       "      <td>IGUCNvHlhfHpROGclCit</td>\n",
       "      <td>mobile</td>\n",
       "      <td>Android</td>\n",
       "      <td>Samsung</td>\n",
       "      <td>385x854</td>\n",
       "      <td>Samsung Internet</td>\n",
       "      <td>Russia</td>\n",
       "      <td>Moscow</td>\n",
       "      <td>2021-11-14 08:21:30</td>\n",
       "      <td>0</td>\n",
       "    </tr>\n",
       "    <tr>\n",
       "      <th>2</th>\n",
       "      <td>9055446045651783499.1640648526.1640648526</td>\n",
       "      <td>2108385331.1640648523</td>\n",
       "      <td>1</td>\n",
       "      <td>ZpYIoDJMcFzVoPFsHGJL</td>\n",
       "      <td>banner</td>\n",
       "      <td>LEoPHuyFvzoNfnzGgfcd</td>\n",
       "      <td>vCIpmpaGBnIQhyYNkXqp</td>\n",
       "      <td>puhZPIYqKXeFPaUviSjo</td>\n",
       "      <td>mobile</td>\n",
       "      <td>Android</td>\n",
       "      <td>Huawei</td>\n",
       "      <td>360x720</td>\n",
       "      <td>Chrome</td>\n",
       "      <td>Russia</td>\n",
       "      <td>Krasnoyarsk</td>\n",
       "      <td>2021-12-28 02:42:06</td>\n",
       "      <td>0</td>\n",
       "    </tr>\n",
       "    <tr>\n",
       "      <th>3</th>\n",
       "      <td>9055447046360770272.1622255328.1622255328</td>\n",
       "      <td>2108385564.1622255328</td>\n",
       "      <td>1</td>\n",
       "      <td>kjsLglQLzykiRbcDiGcD</td>\n",
       "      <td>cpc</td>\n",
       "      <td>UvuMsOSDBWQGOIbDbXfV</td>\n",
       "      <td>NOBKLgtuvqYWkXQHeYWM</td>\n",
       "      <td>puhZPIYqKXeFPaUviSjo</td>\n",
       "      <td>mobile</td>\n",
       "      <td>Android</td>\n",
       "      <td>Xiaomi</td>\n",
       "      <td>393x786</td>\n",
       "      <td>Chrome</td>\n",
       "      <td>Russia</td>\n",
       "      <td>Moscow</td>\n",
       "      <td>2021-05-29 05:00:00</td>\n",
       "      <td>0</td>\n",
       "    </tr>\n",
       "    <tr>\n",
       "      <th>4</th>\n",
       "      <td>9055447046360770272.1622255345.1622255345</td>\n",
       "      <td>2108385564.1622255328</td>\n",
       "      <td>2</td>\n",
       "      <td>kjsLglQLzykiRbcDiGcD</td>\n",
       "      <td>cpc</td>\n",
       "      <td>FTjNLDyTrXaWYgZymFkV</td>\n",
       "      <td>xhoenQgDQsgfEPYNPwKO</td>\n",
       "      <td>puhZPIYqKXeFPaUviSjo</td>\n",
       "      <td>mobile</td>\n",
       "      <td>Android</td>\n",
       "      <td>Xiaomi</td>\n",
       "      <td>393x786</td>\n",
       "      <td>Chrome</td>\n",
       "      <td>Russia</td>\n",
       "      <td>Moscow</td>\n",
       "      <td>2021-05-29 05:00:00</td>\n",
       "      <td>0</td>\n",
       "    </tr>\n",
       "    <tr>\n",
       "      <th>...</th>\n",
       "      <td>...</td>\n",
       "      <td>...</td>\n",
       "      <td>...</td>\n",
       "      <td>...</td>\n",
       "      <td>...</td>\n",
       "      <td>...</td>\n",
       "      <td>...</td>\n",
       "      <td>...</td>\n",
       "      <td>...</td>\n",
       "      <td>...</td>\n",
       "      <td>...</td>\n",
       "      <td>...</td>\n",
       "      <td>...</td>\n",
       "      <td>...</td>\n",
       "      <td>...</td>\n",
       "      <td>...</td>\n",
       "      <td>...</td>\n",
       "    </tr>\n",
       "    <tr>\n",
       "      <th>1860037</th>\n",
       "      <td>9055415581448263752.1640159305.1640159305</td>\n",
       "      <td>2108378238.1640159304</td>\n",
       "      <td>1</td>\n",
       "      <td>BHcvLfOaCWvWTykYqHVe</td>\n",
       "      <td>cpc</td>\n",
       "      <td>LTuZkdKfxRGVceoWkVyg</td>\n",
       "      <td>JNHcPlZPxEMWDnRiyoBf</td>\n",
       "      <td>VlqBmecIOXWjCWUmQkLd</td>\n",
       "      <td>desktop</td>\n",
       "      <td>Windows</td>\n",
       "      <td>(not set)</td>\n",
       "      <td>1920x1080</td>\n",
       "      <td>Chrome</td>\n",
       "      <td>Russia</td>\n",
       "      <td>Moscow</td>\n",
       "      <td>2021-12-22 10:48:25</td>\n",
       "      <td>0</td>\n",
       "    </tr>\n",
       "    <tr>\n",
       "      <th>1860038</th>\n",
       "      <td>9055421130527858185.1622007305.1622007305</td>\n",
       "      <td>2108379530.1622007305</td>\n",
       "      <td>1</td>\n",
       "      <td>fDLlAcSmythWSCVMvqvL</td>\n",
       "      <td>(none)</td>\n",
       "      <td>LTuZkdKfxRGVceoWkVyg</td>\n",
       "      <td>JNHcPlZPxEMWDnRiyoBf</td>\n",
       "      <td>tVtbIKrPSOvrXLCznVVe</td>\n",
       "      <td>mobile</td>\n",
       "      <td>Android</td>\n",
       "      <td>Apple</td>\n",
       "      <td>390x844</td>\n",
       "      <td>Safari</td>\n",
       "      <td>Russia</td>\n",
       "      <td>Stavropol</td>\n",
       "      <td>2021-05-26 08:00:00</td>\n",
       "      <td>0</td>\n",
       "    </tr>\n",
       "    <tr>\n",
       "      <th>1860039</th>\n",
       "      <td>9055422955903931195.1636979515.1636979515</td>\n",
       "      <td>2108379955.1636979515</td>\n",
       "      <td>1</td>\n",
       "      <td>fDLlAcSmythWSCVMvqvL</td>\n",
       "      <td>(none)</td>\n",
       "      <td>LTuZkdKfxRGVceoWkVyg</td>\n",
       "      <td>JNHcPlZPxEMWDnRiyoBf</td>\n",
       "      <td>puhZPIYqKXeFPaUviSjo</td>\n",
       "      <td>mobile</td>\n",
       "      <td>iOS</td>\n",
       "      <td>Apple</td>\n",
       "      <td>375x667</td>\n",
       "      <td>Safari</td>\n",
       "      <td>Russia</td>\n",
       "      <td>Moscow</td>\n",
       "      <td>2021-11-15 15:31:55</td>\n",
       "      <td>0</td>\n",
       "    </tr>\n",
       "    <tr>\n",
       "      <th>1860040</th>\n",
       "      <td>905543020766873816.1638189404.1638189404</td>\n",
       "      <td>210838164.1638189272</td>\n",
       "      <td>1</td>\n",
       "      <td>ZpYIoDJMcFzVoPFsHGJL</td>\n",
       "      <td>banner</td>\n",
       "      <td>LEoPHuyFvzoNfnzGgfcd</td>\n",
       "      <td>JNHcPlZPxEMWDnRiyoBf</td>\n",
       "      <td>puhZPIYqKXeFPaUviSjo</td>\n",
       "      <td>mobile</td>\n",
       "      <td>Android</td>\n",
       "      <td>Xiaomi</td>\n",
       "      <td>393x851</td>\n",
       "      <td>Chrome</td>\n",
       "      <td>Russia</td>\n",
       "      <td>Chelyabinsk</td>\n",
       "      <td>2021-11-29 15:36:44</td>\n",
       "      <td>0</td>\n",
       "    </tr>\n",
       "    <tr>\n",
       "      <th>1860041</th>\n",
       "      <td>9055430416266113553.1640968742.1640968742</td>\n",
       "      <td>2108381692.1640968721</td>\n",
       "      <td>1</td>\n",
       "      <td>fgymSoTvjKPEgaIJqsiH</td>\n",
       "      <td>cpm</td>\n",
       "      <td>FTjNLDyTrXaWYgZymFkV</td>\n",
       "      <td>yYdBRbPmBMUZHXwqGxNx</td>\n",
       "      <td>oKjXDUsycmahkgMhGdAR</td>\n",
       "      <td>desktop</td>\n",
       "      <td>Linux</td>\n",
       "      <td>(not set)</td>\n",
       "      <td>1366x768</td>\n",
       "      <td>Chrome</td>\n",
       "      <td>Russia</td>\n",
       "      <td>Moscow</td>\n",
       "      <td>2021-12-31 19:39:02</td>\n",
       "      <td>0</td>\n",
       "    </tr>\n",
       "  </tbody>\n",
       "</table>\n",
       "<p>1732266 rows × 17 columns</p>\n",
       "</div>"
      ],
      "text/plain": [
       "                                        session_id              client_id  \\\n",
       "0        9055434745589932991.1637753792.1637753792  2108382700.1637753791   \n",
       "1         905544597018549464.1636867290.1636867290   210838531.1636867288   \n",
       "2        9055446045651783499.1640648526.1640648526  2108385331.1640648523   \n",
       "3        9055447046360770272.1622255328.1622255328  2108385564.1622255328   \n",
       "4        9055447046360770272.1622255345.1622255345  2108385564.1622255328   \n",
       "...                                            ...                    ...   \n",
       "1860037  9055415581448263752.1640159305.1640159305  2108378238.1640159304   \n",
       "1860038  9055421130527858185.1622007305.1622007305  2108379530.1622007305   \n",
       "1860039  9055422955903931195.1636979515.1636979515  2108379955.1636979515   \n",
       "1860040   905543020766873816.1638189404.1638189404   210838164.1638189272   \n",
       "1860041  9055430416266113553.1640968742.1640968742  2108381692.1640968721   \n",
       "\n",
       "         visit_number            utm_source utm_medium          utm_campaign  \\\n",
       "0                   1  ZpYIoDJMcFzVoPFsHGJL     banner  LEoPHuyFvzoNfnzGgfcd   \n",
       "1                   1  MvfHsxITijuriZxsqZqt        cpm  FTjNLDyTrXaWYgZymFkV   \n",
       "2                   1  ZpYIoDJMcFzVoPFsHGJL     banner  LEoPHuyFvzoNfnzGgfcd   \n",
       "3                   1  kjsLglQLzykiRbcDiGcD        cpc  UvuMsOSDBWQGOIbDbXfV   \n",
       "4                   2  kjsLglQLzykiRbcDiGcD        cpc  FTjNLDyTrXaWYgZymFkV   \n",
       "...               ...                   ...        ...                   ...   \n",
       "1860037             1  BHcvLfOaCWvWTykYqHVe        cpc  LTuZkdKfxRGVceoWkVyg   \n",
       "1860038             1  fDLlAcSmythWSCVMvqvL     (none)  LTuZkdKfxRGVceoWkVyg   \n",
       "1860039             1  fDLlAcSmythWSCVMvqvL     (none)  LTuZkdKfxRGVceoWkVyg   \n",
       "1860040             1  ZpYIoDJMcFzVoPFsHGJL     banner  LEoPHuyFvzoNfnzGgfcd   \n",
       "1860041             1  fgymSoTvjKPEgaIJqsiH        cpm  FTjNLDyTrXaWYgZymFkV   \n",
       "\n",
       "                utm_adcontent           utm_keyword device_category device_os  \\\n",
       "0        vCIpmpaGBnIQhyYNkXqp  puhZPIYqKXeFPaUviSjo          mobile   Android   \n",
       "1        xhoenQgDQsgfEPYNPwKO  IGUCNvHlhfHpROGclCit          mobile   Android   \n",
       "2        vCIpmpaGBnIQhyYNkXqp  puhZPIYqKXeFPaUviSjo          mobile   Android   \n",
       "3        NOBKLgtuvqYWkXQHeYWM  puhZPIYqKXeFPaUviSjo          mobile   Android   \n",
       "4        xhoenQgDQsgfEPYNPwKO  puhZPIYqKXeFPaUviSjo          mobile   Android   \n",
       "...                       ...                   ...             ...       ...   \n",
       "1860037  JNHcPlZPxEMWDnRiyoBf  VlqBmecIOXWjCWUmQkLd         desktop   Windows   \n",
       "1860038  JNHcPlZPxEMWDnRiyoBf  tVtbIKrPSOvrXLCznVVe          mobile   Android   \n",
       "1860039  JNHcPlZPxEMWDnRiyoBf  puhZPIYqKXeFPaUviSjo          mobile       iOS   \n",
       "1860040  JNHcPlZPxEMWDnRiyoBf  puhZPIYqKXeFPaUviSjo          mobile   Android   \n",
       "1860041  yYdBRbPmBMUZHXwqGxNx  oKjXDUsycmahkgMhGdAR         desktop     Linux   \n",
       "\n",
       "        device_brand device_screen_resolution    device_browser geo_country  \\\n",
       "0             Huawei                  360x720            Chrome      Russia   \n",
       "1            Samsung                  385x854  Samsung Internet      Russia   \n",
       "2             Huawei                  360x720            Chrome      Russia   \n",
       "3             Xiaomi                  393x786            Chrome      Russia   \n",
       "4             Xiaomi                  393x786            Chrome      Russia   \n",
       "...              ...                      ...               ...         ...   \n",
       "1860037    (not set)                1920x1080            Chrome      Russia   \n",
       "1860038        Apple                  390x844            Safari      Russia   \n",
       "1860039        Apple                  375x667            Safari      Russia   \n",
       "1860040       Xiaomi                  393x851            Chrome      Russia   \n",
       "1860041    (not set)                 1366x768            Chrome      Russia   \n",
       "\n",
       "            geo_city            visit_dt  target_action  \n",
       "0           Zlatoust 2021-11-24 14:36:32              0  \n",
       "1             Moscow 2021-11-14 08:21:30              0  \n",
       "2        Krasnoyarsk 2021-12-28 02:42:06              0  \n",
       "3             Moscow 2021-05-29 05:00:00              0  \n",
       "4             Moscow 2021-05-29 05:00:00              0  \n",
       "...              ...                 ...            ...  \n",
       "1860037       Moscow 2021-12-22 10:48:25              0  \n",
       "1860038    Stavropol 2021-05-26 08:00:00              0  \n",
       "1860039       Moscow 2021-11-15 15:31:55              0  \n",
       "1860040  Chelyabinsk 2021-11-29 15:36:44              0  \n",
       "1860041       Moscow 2021-12-31 19:39:02              0  \n",
       "\n",
       "[1732266 rows x 17 columns]"
      ]
     },
     "execution_count": 88,
     "metadata": {},
     "output_type": "execute_result"
    }
   ],
   "source": [
    "df"
   ]
  },
  {
   "cell_type": "code",
   "execution_count": 89,
   "id": "8677dcaf-12c6-4b94-98c2-58daa0de8157",
   "metadata": {},
   "outputs": [],
   "source": [
    "df2 = df.copy()"
   ]
  },
  {
   "cell_type": "markdown",
   "id": "176312fe-20ea-4bf9-b4df-3089b76cd770",
   "metadata": {
    "tags": []
   },
   "source": [
    "## day of week & daytime"
   ]
  },
  {
   "cell_type": "code",
   "execution_count": 97,
   "id": "aca56c18-0044-47e6-b2b3-5b65922706df",
   "metadata": {},
   "outputs": [],
   "source": [
    "# добавим фичу День недели\n",
    "df2['dayofweek'] = df2.visit_dt.dt.day_name()"
   ]
  },
  {
   "cell_type": "code",
   "execution_count": 98,
   "id": "da8da568-7dc9-4aef-bd5c-5dfb7c0ef454",
   "metadata": {},
   "outputs": [],
   "source": [
    "def get_daytime(dt) -> str:\n",
    "    if 0 <= dt.hour < 6: return 'night'\n",
    "    elif 6 <= dt.hour < 12: return 'morning'\n",
    "    elif 12 <= dt.hour < 18: return 'afternoon'\n",
    "    elif 18 <= dt.hour: return 'evening'"
   ]
  },
  {
   "cell_type": "code",
   "execution_count": 99,
   "id": "24c75645-3ac8-4fd5-a128-51cd7e5e83fb",
   "metadata": {},
   "outputs": [],
   "source": [
    "# добавим фичу Время суток\n",
    "df2['daytime'] = df2.visit_dt.apply(get_daytime)"
   ]
  },
  {
   "cell_type": "code",
   "execution_count": 100,
   "id": "1ccf5284-b915-4386-ad14-ed7583494d08",
   "metadata": {},
   "outputs": [
    {
     "data": {
      "text/html": [
       "<div>\n",
       "<style scoped>\n",
       "    .dataframe tbody tr th:only-of-type {\n",
       "        vertical-align: middle;\n",
       "    }\n",
       "\n",
       "    .dataframe tbody tr th {\n",
       "        vertical-align: top;\n",
       "    }\n",
       "\n",
       "    .dataframe thead th {\n",
       "        text-align: right;\n",
       "    }\n",
       "</style>\n",
       "<table border=\"1\" class=\"dataframe\">\n",
       "  <thead>\n",
       "    <tr style=\"text-align: right;\">\n",
       "      <th></th>\n",
       "      <th>session_id</th>\n",
       "      <th>client_id</th>\n",
       "      <th>visit_number</th>\n",
       "      <th>utm_source</th>\n",
       "      <th>utm_medium</th>\n",
       "      <th>utm_campaign</th>\n",
       "      <th>utm_adcontent</th>\n",
       "      <th>utm_keyword</th>\n",
       "      <th>device_category</th>\n",
       "      <th>device_os</th>\n",
       "      <th>device_brand</th>\n",
       "      <th>device_screen_resolution</th>\n",
       "      <th>device_browser</th>\n",
       "      <th>geo_country</th>\n",
       "      <th>geo_city</th>\n",
       "      <th>visit_dt</th>\n",
       "      <th>target_action</th>\n",
       "      <th>dayofweek</th>\n",
       "      <th>daytime</th>\n",
       "    </tr>\n",
       "  </thead>\n",
       "  <tbody>\n",
       "    <tr>\n",
       "      <th>0</th>\n",
       "      <td>9055434745589932991.1637753792.1637753792</td>\n",
       "      <td>2108382700.1637753791</td>\n",
       "      <td>1</td>\n",
       "      <td>ZpYIoDJMcFzVoPFsHGJL</td>\n",
       "      <td>banner</td>\n",
       "      <td>LEoPHuyFvzoNfnzGgfcd</td>\n",
       "      <td>vCIpmpaGBnIQhyYNkXqp</td>\n",
       "      <td>puhZPIYqKXeFPaUviSjo</td>\n",
       "      <td>mobile</td>\n",
       "      <td>Android</td>\n",
       "      <td>Huawei</td>\n",
       "      <td>360x720</td>\n",
       "      <td>Chrome</td>\n",
       "      <td>Russia</td>\n",
       "      <td>Zlatoust</td>\n",
       "      <td>2021-11-24 14:36:32</td>\n",
       "      <td>0</td>\n",
       "      <td>Wednesday</td>\n",
       "      <td>afternoon</td>\n",
       "    </tr>\n",
       "    <tr>\n",
       "      <th>1</th>\n",
       "      <td>905544597018549464.1636867290.1636867290</td>\n",
       "      <td>210838531.1636867288</td>\n",
       "      <td>1</td>\n",
       "      <td>MvfHsxITijuriZxsqZqt</td>\n",
       "      <td>cpm</td>\n",
       "      <td>FTjNLDyTrXaWYgZymFkV</td>\n",
       "      <td>xhoenQgDQsgfEPYNPwKO</td>\n",
       "      <td>IGUCNvHlhfHpROGclCit</td>\n",
       "      <td>mobile</td>\n",
       "      <td>Android</td>\n",
       "      <td>Samsung</td>\n",
       "      <td>385x854</td>\n",
       "      <td>Samsung Internet</td>\n",
       "      <td>Russia</td>\n",
       "      <td>Moscow</td>\n",
       "      <td>2021-11-14 08:21:30</td>\n",
       "      <td>0</td>\n",
       "      <td>Sunday</td>\n",
       "      <td>morning</td>\n",
       "    </tr>\n",
       "    <tr>\n",
       "      <th>2</th>\n",
       "      <td>9055446045651783499.1640648526.1640648526</td>\n",
       "      <td>2108385331.1640648523</td>\n",
       "      <td>1</td>\n",
       "      <td>ZpYIoDJMcFzVoPFsHGJL</td>\n",
       "      <td>banner</td>\n",
       "      <td>LEoPHuyFvzoNfnzGgfcd</td>\n",
       "      <td>vCIpmpaGBnIQhyYNkXqp</td>\n",
       "      <td>puhZPIYqKXeFPaUviSjo</td>\n",
       "      <td>mobile</td>\n",
       "      <td>Android</td>\n",
       "      <td>Huawei</td>\n",
       "      <td>360x720</td>\n",
       "      <td>Chrome</td>\n",
       "      <td>Russia</td>\n",
       "      <td>Krasnoyarsk</td>\n",
       "      <td>2021-12-28 02:42:06</td>\n",
       "      <td>0</td>\n",
       "      <td>Tuesday</td>\n",
       "      <td>night</td>\n",
       "    </tr>\n",
       "    <tr>\n",
       "      <th>3</th>\n",
       "      <td>9055447046360770272.1622255328.1622255328</td>\n",
       "      <td>2108385564.1622255328</td>\n",
       "      <td>1</td>\n",
       "      <td>kjsLglQLzykiRbcDiGcD</td>\n",
       "      <td>cpc</td>\n",
       "      <td>UvuMsOSDBWQGOIbDbXfV</td>\n",
       "      <td>NOBKLgtuvqYWkXQHeYWM</td>\n",
       "      <td>puhZPIYqKXeFPaUviSjo</td>\n",
       "      <td>mobile</td>\n",
       "      <td>Android</td>\n",
       "      <td>Xiaomi</td>\n",
       "      <td>393x786</td>\n",
       "      <td>Chrome</td>\n",
       "      <td>Russia</td>\n",
       "      <td>Moscow</td>\n",
       "      <td>2021-05-29 05:00:00</td>\n",
       "      <td>0</td>\n",
       "      <td>Saturday</td>\n",
       "      <td>night</td>\n",
       "    </tr>\n",
       "    <tr>\n",
       "      <th>4</th>\n",
       "      <td>9055447046360770272.1622255345.1622255345</td>\n",
       "      <td>2108385564.1622255328</td>\n",
       "      <td>2</td>\n",
       "      <td>kjsLglQLzykiRbcDiGcD</td>\n",
       "      <td>cpc</td>\n",
       "      <td>FTjNLDyTrXaWYgZymFkV</td>\n",
       "      <td>xhoenQgDQsgfEPYNPwKO</td>\n",
       "      <td>puhZPIYqKXeFPaUviSjo</td>\n",
       "      <td>mobile</td>\n",
       "      <td>Android</td>\n",
       "      <td>Xiaomi</td>\n",
       "      <td>393x786</td>\n",
       "      <td>Chrome</td>\n",
       "      <td>Russia</td>\n",
       "      <td>Moscow</td>\n",
       "      <td>2021-05-29 05:00:00</td>\n",
       "      <td>0</td>\n",
       "      <td>Saturday</td>\n",
       "      <td>night</td>\n",
       "    </tr>\n",
       "  </tbody>\n",
       "</table>\n",
       "</div>"
      ],
      "text/plain": [
       "                                  session_id              client_id  \\\n",
       "0  9055434745589932991.1637753792.1637753792  2108382700.1637753791   \n",
       "1   905544597018549464.1636867290.1636867290   210838531.1636867288   \n",
       "2  9055446045651783499.1640648526.1640648526  2108385331.1640648523   \n",
       "3  9055447046360770272.1622255328.1622255328  2108385564.1622255328   \n",
       "4  9055447046360770272.1622255345.1622255345  2108385564.1622255328   \n",
       "\n",
       "   visit_number            utm_source utm_medium          utm_campaign  \\\n",
       "0             1  ZpYIoDJMcFzVoPFsHGJL     banner  LEoPHuyFvzoNfnzGgfcd   \n",
       "1             1  MvfHsxITijuriZxsqZqt        cpm  FTjNLDyTrXaWYgZymFkV   \n",
       "2             1  ZpYIoDJMcFzVoPFsHGJL     banner  LEoPHuyFvzoNfnzGgfcd   \n",
       "3             1  kjsLglQLzykiRbcDiGcD        cpc  UvuMsOSDBWQGOIbDbXfV   \n",
       "4             2  kjsLglQLzykiRbcDiGcD        cpc  FTjNLDyTrXaWYgZymFkV   \n",
       "\n",
       "          utm_adcontent           utm_keyword device_category device_os  \\\n",
       "0  vCIpmpaGBnIQhyYNkXqp  puhZPIYqKXeFPaUviSjo          mobile   Android   \n",
       "1  xhoenQgDQsgfEPYNPwKO  IGUCNvHlhfHpROGclCit          mobile   Android   \n",
       "2  vCIpmpaGBnIQhyYNkXqp  puhZPIYqKXeFPaUviSjo          mobile   Android   \n",
       "3  NOBKLgtuvqYWkXQHeYWM  puhZPIYqKXeFPaUviSjo          mobile   Android   \n",
       "4  xhoenQgDQsgfEPYNPwKO  puhZPIYqKXeFPaUviSjo          mobile   Android   \n",
       "\n",
       "  device_brand device_screen_resolution    device_browser geo_country  \\\n",
       "0       Huawei                  360x720            Chrome      Russia   \n",
       "1      Samsung                  385x854  Samsung Internet      Russia   \n",
       "2       Huawei                  360x720            Chrome      Russia   \n",
       "3       Xiaomi                  393x786            Chrome      Russia   \n",
       "4       Xiaomi                  393x786            Chrome      Russia   \n",
       "\n",
       "      geo_city            visit_dt  target_action  dayofweek    daytime  \n",
       "0     Zlatoust 2021-11-24 14:36:32              0  Wednesday  afternoon  \n",
       "1       Moscow 2021-11-14 08:21:30              0     Sunday    morning  \n",
       "2  Krasnoyarsk 2021-12-28 02:42:06              0    Tuesday      night  \n",
       "3       Moscow 2021-05-29 05:00:00              0   Saturday      night  \n",
       "4       Moscow 2021-05-29 05:00:00              0   Saturday      night  "
      ]
     },
     "execution_count": 100,
     "metadata": {},
     "output_type": "execute_result"
    }
   ],
   "source": [
    "df2.head()"
   ]
  },
  {
   "cell_type": "markdown",
   "id": "2f66d25b-539d-45ed-acfe-6a33c0e8196b",
   "metadata": {
    "tags": []
   },
   "source": [
    "## pixels"
   ]
  },
  {
   "cell_type": "code",
   "execution_count": 101,
   "id": "877735be-be10-4f3b-998d-582633cc2ebe",
   "metadata": {},
   "outputs": [
    {
     "data": {
      "text/plain": [
       "count     1732266\n",
       "unique       4947\n",
       "top       414x896\n",
       "freq       155140\n",
       "Name: device_screen_resolution, dtype: object"
      ]
     },
     "execution_count": 101,
     "metadata": {},
     "output_type": "execute_result"
    }
   ],
   "source": [
    "df2.device_screen_resolution.describe()"
   ]
  },
  {
   "cell_type": "code",
   "execution_count": 102,
   "id": "28f5beba-f913-4c26-a774-cda2f3110c52",
   "metadata": {},
   "outputs": [],
   "source": [
    "df3 = df2.copy()"
   ]
  },
  {
   "cell_type": "code",
   "execution_count": 103,
   "id": "8c609b27-ba14-4fbb-a52b-7aa0317d7f8b",
   "metadata": {},
   "outputs": [],
   "source": [
    "# добавим фичу pixels, равную десятичному логарифму общего количества пикселей устройства\n",
    "def get_total_pixels(res: str) -> int:\n",
    "    pixels = int(int.__mul__(*map(int, res.split('x'))))\n",
    "    return math.log(pixels, 10) if pixels else 0"
   ]
  },
  {
   "cell_type": "code",
   "execution_count": 104,
   "id": "54c75920-416c-4806-bfed-1c03942f2bc4",
   "metadata": {},
   "outputs": [],
   "source": [
    "df3['pixels'] = df3.device_screen_resolution.apply(get_total_pixels)"
   ]
  },
  {
   "cell_type": "code",
   "execution_count": 105,
   "id": "2a17348d-ac05-4a6f-ba8f-be623f30097d",
   "metadata": {},
   "outputs": [
    {
     "data": {
      "text/plain": [
       "count    1732266.000\n",
       "mean           5.634\n",
       "std            0.310\n",
       "min            0.000\n",
       "25%            5.448\n",
       "50%            5.524\n",
       "75%            5.576\n",
       "max            7.505\n",
       "Name: pixels, dtype: object"
      ]
     },
     "execution_count": 105,
     "metadata": {},
     "output_type": "execute_result"
    }
   ],
   "source": [
    "df3.pixels.describe().apply(lambda x: f\"{x :.3f}\")"
   ]
  },
  {
   "cell_type": "code",
   "execution_count": 106,
   "id": "d8ffbd62-0374-47bf-ad79-105afe62519a",
   "metadata": {},
   "outputs": [
    {
     "data": {
      "text/html": [
       "<div>\n",
       "<style scoped>\n",
       "    .dataframe tbody tr th:only-of-type {\n",
       "        vertical-align: middle;\n",
       "    }\n",
       "\n",
       "    .dataframe tbody tr th {\n",
       "        vertical-align: top;\n",
       "    }\n",
       "\n",
       "    .dataframe thead th {\n",
       "        text-align: right;\n",
       "    }\n",
       "</style>\n",
       "<table border=\"1\" class=\"dataframe\">\n",
       "  <thead>\n",
       "    <tr style=\"text-align: right;\">\n",
       "      <th></th>\n",
       "      <th>session_id</th>\n",
       "      <th>client_id</th>\n",
       "      <th>visit_number</th>\n",
       "      <th>utm_source</th>\n",
       "      <th>utm_medium</th>\n",
       "      <th>utm_campaign</th>\n",
       "      <th>utm_adcontent</th>\n",
       "      <th>utm_keyword</th>\n",
       "      <th>device_category</th>\n",
       "      <th>device_os</th>\n",
       "      <th>device_brand</th>\n",
       "      <th>device_screen_resolution</th>\n",
       "      <th>device_browser</th>\n",
       "      <th>geo_country</th>\n",
       "      <th>geo_city</th>\n",
       "      <th>visit_dt</th>\n",
       "      <th>target_action</th>\n",
       "      <th>dayofweek</th>\n",
       "      <th>daytime</th>\n",
       "      <th>pixels</th>\n",
       "    </tr>\n",
       "  </thead>\n",
       "  <tbody>\n",
       "    <tr>\n",
       "      <th>44288</th>\n",
       "      <td>950433344634896286.1638285216.1638285216</td>\n",
       "      <td>221290007.1638285214</td>\n",
       "      <td>1</td>\n",
       "      <td>kjsLglQLzykiRbcDiGcD</td>\n",
       "      <td>cpc</td>\n",
       "      <td>LwJZxKuWmvOhPsaCeRjG</td>\n",
       "      <td>JNHcPlZPxEMWDnRiyoBf</td>\n",
       "      <td>KCcEkEaKEtUilBVMoCAi</td>\n",
       "      <td>desktop</td>\n",
       "      <td>Windows</td>\n",
       "      <td>(not set)</td>\n",
       "      <td>0x0</td>\n",
       "      <td>Chrome</td>\n",
       "      <td>Russia</td>\n",
       "      <td>Moscow</td>\n",
       "      <td>2021-11-30 18:13:36</td>\n",
       "      <td>0</td>\n",
       "      <td>Tuesday</td>\n",
       "      <td>evening</td>\n",
       "      <td>0.0</td>\n",
       "    </tr>\n",
       "    <tr>\n",
       "      <th>63108</th>\n",
       "      <td>1034855208904127115.1622241934.1622241934</td>\n",
       "      <td>240946004.1622241931</td>\n",
       "      <td>1</td>\n",
       "      <td>kjsLglQLzykiRbcDiGcD</td>\n",
       "      <td>cpc</td>\n",
       "      <td>LTuZkdKfxRGVceoWkVyg</td>\n",
       "      <td>aYAcKhelKzYpXrRYknSP</td>\n",
       "      <td>puhZPIYqKXeFPaUviSjo</td>\n",
       "      <td>desktop</td>\n",
       "      <td>Windows</td>\n",
       "      <td>(not set)</td>\n",
       "      <td>0x0</td>\n",
       "      <td>Edge</td>\n",
       "      <td>Russia</td>\n",
       "      <td>Saint Petersburg</td>\n",
       "      <td>2021-05-29 01:00:00</td>\n",
       "      <td>0</td>\n",
       "      <td>Saturday</td>\n",
       "      <td>night</td>\n",
       "      <td>0.0</td>\n",
       "    </tr>\n",
       "    <tr>\n",
       "      <th>116630</th>\n",
       "      <td>1275445726215482012.1633495707.1633495707</td>\n",
       "      <td>296962849.1633495708</td>\n",
       "      <td>1</td>\n",
       "      <td>BHcvLfOaCWvWTykYqHVe</td>\n",
       "      <td>cpc</td>\n",
       "      <td>LEoPHuyFvzoNfnzGgfcd</td>\n",
       "      <td>vCIpmpaGBnIQhyYNkXqp</td>\n",
       "      <td>puhZPIYqKXeFPaUviSjo</td>\n",
       "      <td>mobile</td>\n",
       "      <td>iOS</td>\n",
       "      <td>Huawei</td>\n",
       "      <td>0x0</td>\n",
       "      <td>YaBrowser</td>\n",
       "      <td>Russia</td>\n",
       "      <td>Vladivostok</td>\n",
       "      <td>2021-10-06 07:00:00</td>\n",
       "      <td>0</td>\n",
       "      <td>Wednesday</td>\n",
       "      <td>morning</td>\n",
       "      <td>0.0</td>\n",
       "    </tr>\n",
       "    <tr>\n",
       "      <th>268575</th>\n",
       "      <td>1959491500856234812.1626264380.1626264380</td>\n",
       "      <td>456229667.1626264380</td>\n",
       "      <td>1</td>\n",
       "      <td>fDLlAcSmythWSCVMvqvL</td>\n",
       "      <td>(none)</td>\n",
       "      <td>LTuZkdKfxRGVceoWkVyg</td>\n",
       "      <td>JNHcPlZPxEMWDnRiyoBf</td>\n",
       "      <td>qUcotcWimEOQiboVPcCx</td>\n",
       "      <td>desktop</td>\n",
       "      <td>Windows</td>\n",
       "      <td>(not set)</td>\n",
       "      <td>0x0</td>\n",
       "      <td>Chrome</td>\n",
       "      <td>Russia</td>\n",
       "      <td>Saint Petersburg</td>\n",
       "      <td>2021-07-14 15:00:00</td>\n",
       "      <td>0</td>\n",
       "      <td>Wednesday</td>\n",
       "      <td>afternoon</td>\n",
       "      <td>0.0</td>\n",
       "    </tr>\n",
       "    <tr>\n",
       "      <th>466768</th>\n",
       "      <td>2840248306670648388.1627536509.1627536509</td>\n",
       "      <td>661296841.1627536452</td>\n",
       "      <td>1</td>\n",
       "      <td>geDcueAOghDzHkGMmdOq</td>\n",
       "      <td>cpm</td>\n",
       "      <td>FTjNLDyTrXaWYgZymFkV</td>\n",
       "      <td>WYLajZgbUhGimwBKDZUH</td>\n",
       "      <td>puhZPIYqKXeFPaUviSjo</td>\n",
       "      <td>mobile</td>\n",
       "      <td>Android</td>\n",
       "      <td>Samsung</td>\n",
       "      <td>0x0</td>\n",
       "      <td>YaBrowser</td>\n",
       "      <td>Russia</td>\n",
       "      <td>Moscow</td>\n",
       "      <td>2021-07-29 08:00:00</td>\n",
       "      <td>0</td>\n",
       "      <td>Thursday</td>\n",
       "      <td>morning</td>\n",
       "      <td>0.0</td>\n",
       "    </tr>\n",
       "  </tbody>\n",
       "</table>\n",
       "</div>"
      ],
      "text/plain": [
       "                                       session_id             client_id  \\\n",
       "44288    950433344634896286.1638285216.1638285216  221290007.1638285214   \n",
       "63108   1034855208904127115.1622241934.1622241934  240946004.1622241931   \n",
       "116630  1275445726215482012.1633495707.1633495707  296962849.1633495708   \n",
       "268575  1959491500856234812.1626264380.1626264380  456229667.1626264380   \n",
       "466768  2840248306670648388.1627536509.1627536509  661296841.1627536452   \n",
       "\n",
       "        visit_number            utm_source utm_medium          utm_campaign  \\\n",
       "44288              1  kjsLglQLzykiRbcDiGcD        cpc  LwJZxKuWmvOhPsaCeRjG   \n",
       "63108              1  kjsLglQLzykiRbcDiGcD        cpc  LTuZkdKfxRGVceoWkVyg   \n",
       "116630             1  BHcvLfOaCWvWTykYqHVe        cpc  LEoPHuyFvzoNfnzGgfcd   \n",
       "268575             1  fDLlAcSmythWSCVMvqvL     (none)  LTuZkdKfxRGVceoWkVyg   \n",
       "466768             1  geDcueAOghDzHkGMmdOq        cpm  FTjNLDyTrXaWYgZymFkV   \n",
       "\n",
       "               utm_adcontent           utm_keyword device_category device_os  \\\n",
       "44288   JNHcPlZPxEMWDnRiyoBf  KCcEkEaKEtUilBVMoCAi         desktop   Windows   \n",
       "63108   aYAcKhelKzYpXrRYknSP  puhZPIYqKXeFPaUviSjo         desktop   Windows   \n",
       "116630  vCIpmpaGBnIQhyYNkXqp  puhZPIYqKXeFPaUviSjo          mobile       iOS   \n",
       "268575  JNHcPlZPxEMWDnRiyoBf  qUcotcWimEOQiboVPcCx         desktop   Windows   \n",
       "466768  WYLajZgbUhGimwBKDZUH  puhZPIYqKXeFPaUviSjo          mobile   Android   \n",
       "\n",
       "       device_brand device_screen_resolution device_browser geo_country  \\\n",
       "44288     (not set)                      0x0         Chrome      Russia   \n",
       "63108     (not set)                      0x0           Edge      Russia   \n",
       "116630       Huawei                      0x0      YaBrowser      Russia   \n",
       "268575    (not set)                      0x0         Chrome      Russia   \n",
       "466768      Samsung                      0x0      YaBrowser      Russia   \n",
       "\n",
       "                geo_city            visit_dt  target_action  dayofweek  \\\n",
       "44288             Moscow 2021-11-30 18:13:36              0    Tuesday   \n",
       "63108   Saint Petersburg 2021-05-29 01:00:00              0   Saturday   \n",
       "116630       Vladivostok 2021-10-06 07:00:00              0  Wednesday   \n",
       "268575  Saint Petersburg 2021-07-14 15:00:00              0  Wednesday   \n",
       "466768            Moscow 2021-07-29 08:00:00              0   Thursday   \n",
       "\n",
       "          daytime  pixels  \n",
       "44288     evening     0.0  \n",
       "63108       night     0.0  \n",
       "116630    morning     0.0  \n",
       "268575  afternoon     0.0  \n",
       "466768    morning     0.0  "
      ]
     },
     "execution_count": 106,
     "metadata": {},
     "output_type": "execute_result"
    }
   ],
   "source": [
    "# удалим строки со значением pixels 0 и разрешением 0x0, как аномальные\n",
    "df3.query(\"pixels == 0\").head()"
   ]
  },
  {
   "cell_type": "code",
   "execution_count": 107,
   "id": "8c9ed244-8205-4f4d-85f7-835764b7f441",
   "metadata": {},
   "outputs": [],
   "source": [
    "df3.drop(index=df3.query(\"pixels == 0\").index, inplace=True)"
   ]
  },
  {
   "cell_type": "code",
   "execution_count": 108,
   "id": "183ce7d1-cc9b-491e-9381-cf05983dc6ec",
   "metadata": {},
   "outputs": [],
   "source": [
    "# добавим фичу screen_aspect, показывающую отношение сторон экрана\n",
    "def get_screen_aspect(res: str) -> float:\n",
    "    aspect = 1 / int.__truediv__(*map(int, res.split('x')))\n",
    "    return round(aspect, 1)"
   ]
  },
  {
   "cell_type": "code",
   "execution_count": 109,
   "id": "2e2b181a-e747-4e36-9e86-45feaf614381",
   "metadata": {},
   "outputs": [],
   "source": [
    "df3['screen_aspect'] = df3.device_screen_resolution.apply(get_screen_aspect)"
   ]
  },
  {
   "cell_type": "code",
   "execution_count": 110,
   "id": "23dfe308-6f61-4943-9f9e-4e0e03c4a43f",
   "metadata": {},
   "outputs": [
    {
     "data": {
      "text/plain": [
       "count    1732257.000\n",
       "mean           1.773\n",
       "std            0.639\n",
       "min            0.200\n",
       "25%            1.800\n",
       "50%            2.200\n",
       "75%            2.200\n",
       "max           12.500\n",
       "Name: screen_aspect, dtype: object"
      ]
     },
     "execution_count": 110,
     "metadata": {},
     "output_type": "execute_result"
    }
   ],
   "source": [
    "df3.screen_aspect.describe().apply(lambda x: f\"{x :.3f}\")"
   ]
  },
  {
   "cell_type": "code",
   "execution_count": 111,
   "id": "15f979c2-25d5-4062-b794-661ec5a8bd80",
   "metadata": {},
   "outputs": [
    {
     "data": {
      "text/html": [
       "<div>\n",
       "<style scoped>\n",
       "    .dataframe tbody tr th:only-of-type {\n",
       "        vertical-align: middle;\n",
       "    }\n",
       "\n",
       "    .dataframe tbody tr th {\n",
       "        vertical-align: top;\n",
       "    }\n",
       "\n",
       "    .dataframe thead th {\n",
       "        text-align: right;\n",
       "    }\n",
       "</style>\n",
       "<table border=\"1\" class=\"dataframe\">\n",
       "  <thead>\n",
       "    <tr style=\"text-align: right;\">\n",
       "      <th></th>\n",
       "      <th>session_id</th>\n",
       "      <th>client_id</th>\n",
       "      <th>visit_number</th>\n",
       "      <th>utm_source</th>\n",
       "      <th>utm_medium</th>\n",
       "      <th>utm_campaign</th>\n",
       "      <th>utm_adcontent</th>\n",
       "      <th>utm_keyword</th>\n",
       "      <th>device_category</th>\n",
       "      <th>device_os</th>\n",
       "      <th>...</th>\n",
       "      <th>device_screen_resolution</th>\n",
       "      <th>device_browser</th>\n",
       "      <th>geo_country</th>\n",
       "      <th>geo_city</th>\n",
       "      <th>visit_dt</th>\n",
       "      <th>target_action</th>\n",
       "      <th>dayofweek</th>\n",
       "      <th>daytime</th>\n",
       "      <th>pixels</th>\n",
       "      <th>screen_aspect</th>\n",
       "    </tr>\n",
       "  </thead>\n",
       "  <tbody>\n",
       "    <tr>\n",
       "      <th>7690</th>\n",
       "      <td>9089787985673454509.1638794162.1638794162</td>\n",
       "      <td>2116381187.1638794157</td>\n",
       "      <td>1</td>\n",
       "      <td>fDLlAcSmythWSCVMvqvL</td>\n",
       "      <td>(none)</td>\n",
       "      <td>LTuZkdKfxRGVceoWkVyg</td>\n",
       "      <td>JNHcPlZPxEMWDnRiyoBf</td>\n",
       "      <td>puhZPIYqKXeFPaUviSjo</td>\n",
       "      <td>desktop</td>\n",
       "      <td>(not set)</td>\n",
       "      <td>...</td>\n",
       "      <td>1600x20000</td>\n",
       "      <td>Chrome</td>\n",
       "      <td>(not set)</td>\n",
       "      <td>(not set)</td>\n",
       "      <td>2021-12-06 15:36:02</td>\n",
       "      <td>0</td>\n",
       "      <td>Monday</td>\n",
       "      <td>afternoon</td>\n",
       "      <td>7.50515</td>\n",
       "      <td>12.5</td>\n",
       "    </tr>\n",
       "    <tr>\n",
       "      <th>16893</th>\n",
       "      <td>9130259934944875721.1633604811.1633604811</td>\n",
       "      <td>2125804297.1633604809</td>\n",
       "      <td>1</td>\n",
       "      <td>fDLlAcSmythWSCVMvqvL</td>\n",
       "      <td>(none)</td>\n",
       "      <td>LTuZkdKfxRGVceoWkVyg</td>\n",
       "      <td>JNHcPlZPxEMWDnRiyoBf</td>\n",
       "      <td>aXQzDWsJuGXeBXexNHjc</td>\n",
       "      <td>desktop</td>\n",
       "      <td>Windows</td>\n",
       "      <td>...</td>\n",
       "      <td>1600x20000</td>\n",
       "      <td>Chrome</td>\n",
       "      <td>(not set)</td>\n",
       "      <td>(not set)</td>\n",
       "      <td>2021-10-07 14:00:00</td>\n",
       "      <td>0</td>\n",
       "      <td>Thursday</td>\n",
       "      <td>afternoon</td>\n",
       "      <td>7.50515</td>\n",
       "      <td>12.5</td>\n",
       "    </tr>\n",
       "    <tr>\n",
       "      <th>54385</th>\n",
       "      <td>994460654948701315.1632752773.1632752773</td>\n",
       "      <td>231540914.1632752771</td>\n",
       "      <td>1</td>\n",
       "      <td>fDLlAcSmythWSCVMvqvL</td>\n",
       "      <td>(none)</td>\n",
       "      <td>LTuZkdKfxRGVceoWkVyg</td>\n",
       "      <td>JNHcPlZPxEMWDnRiyoBf</td>\n",
       "      <td>zXjuoqEaPElBnwpSHMpx</td>\n",
       "      <td>desktop</td>\n",
       "      <td>Macintosh</td>\n",
       "      <td>...</td>\n",
       "      <td>1600x20000</td>\n",
       "      <td>Chrome</td>\n",
       "      <td>(not set)</td>\n",
       "      <td>(not set)</td>\n",
       "      <td>2021-09-27 17:00:00</td>\n",
       "      <td>0</td>\n",
       "      <td>Monday</td>\n",
       "      <td>afternoon</td>\n",
       "      <td>7.50515</td>\n",
       "      <td>12.5</td>\n",
       "    </tr>\n",
       "    <tr>\n",
       "      <th>112711</th>\n",
       "      <td>1257484293244700670.1635502080.1635502080</td>\n",
       "      <td>292780877.1635502078</td>\n",
       "      <td>1</td>\n",
       "      <td>fDLlAcSmythWSCVMvqvL</td>\n",
       "      <td>(none)</td>\n",
       "      <td>LTuZkdKfxRGVceoWkVyg</td>\n",
       "      <td>JNHcPlZPxEMWDnRiyoBf</td>\n",
       "      <td>puhZPIYqKXeFPaUviSjo</td>\n",
       "      <td>desktop</td>\n",
       "      <td>(not set)</td>\n",
       "      <td>...</td>\n",
       "      <td>1600x20000</td>\n",
       "      <td>Chrome</td>\n",
       "      <td>(not set)</td>\n",
       "      <td>(not set)</td>\n",
       "      <td>2021-10-29 13:08:00</td>\n",
       "      <td>0</td>\n",
       "      <td>Friday</td>\n",
       "      <td>afternoon</td>\n",
       "      <td>7.50515</td>\n",
       "      <td>12.5</td>\n",
       "    </tr>\n",
       "    <tr>\n",
       "      <th>119839</th>\n",
       "      <td>1290093398651180319.1638798624.1638798624</td>\n",
       "      <td>300373276.1638798623</td>\n",
       "      <td>1</td>\n",
       "      <td>fDLlAcSmythWSCVMvqvL</td>\n",
       "      <td>(none)</td>\n",
       "      <td>LTuZkdKfxRGVceoWkVyg</td>\n",
       "      <td>JNHcPlZPxEMWDnRiyoBf</td>\n",
       "      <td>puhZPIYqKXeFPaUviSjo</td>\n",
       "      <td>desktop</td>\n",
       "      <td>(not set)</td>\n",
       "      <td>...</td>\n",
       "      <td>1600x20000</td>\n",
       "      <td>Chrome</td>\n",
       "      <td>(not set)</td>\n",
       "      <td>(not set)</td>\n",
       "      <td>2021-12-06 16:50:24</td>\n",
       "      <td>0</td>\n",
       "      <td>Monday</td>\n",
       "      <td>afternoon</td>\n",
       "      <td>7.50515</td>\n",
       "      <td>12.5</td>\n",
       "    </tr>\n",
       "  </tbody>\n",
       "</table>\n",
       "<p>5 rows × 21 columns</p>\n",
       "</div>"
      ],
      "text/plain": [
       "                                       session_id              client_id  \\\n",
       "7690    9089787985673454509.1638794162.1638794162  2116381187.1638794157   \n",
       "16893   9130259934944875721.1633604811.1633604811  2125804297.1633604809   \n",
       "54385    994460654948701315.1632752773.1632752773   231540914.1632752771   \n",
       "112711  1257484293244700670.1635502080.1635502080   292780877.1635502078   \n",
       "119839  1290093398651180319.1638798624.1638798624   300373276.1638798623   \n",
       "\n",
       "        visit_number            utm_source utm_medium          utm_campaign  \\\n",
       "7690               1  fDLlAcSmythWSCVMvqvL     (none)  LTuZkdKfxRGVceoWkVyg   \n",
       "16893              1  fDLlAcSmythWSCVMvqvL     (none)  LTuZkdKfxRGVceoWkVyg   \n",
       "54385              1  fDLlAcSmythWSCVMvqvL     (none)  LTuZkdKfxRGVceoWkVyg   \n",
       "112711             1  fDLlAcSmythWSCVMvqvL     (none)  LTuZkdKfxRGVceoWkVyg   \n",
       "119839             1  fDLlAcSmythWSCVMvqvL     (none)  LTuZkdKfxRGVceoWkVyg   \n",
       "\n",
       "               utm_adcontent           utm_keyword device_category  device_os  \\\n",
       "7690    JNHcPlZPxEMWDnRiyoBf  puhZPIYqKXeFPaUviSjo         desktop  (not set)   \n",
       "16893   JNHcPlZPxEMWDnRiyoBf  aXQzDWsJuGXeBXexNHjc         desktop    Windows   \n",
       "54385   JNHcPlZPxEMWDnRiyoBf  zXjuoqEaPElBnwpSHMpx         desktop  Macintosh   \n",
       "112711  JNHcPlZPxEMWDnRiyoBf  puhZPIYqKXeFPaUviSjo         desktop  (not set)   \n",
       "119839  JNHcPlZPxEMWDnRiyoBf  puhZPIYqKXeFPaUviSjo         desktop  (not set)   \n",
       "\n",
       "        ... device_screen_resolution device_browser geo_country   geo_city  \\\n",
       "7690    ...               1600x20000         Chrome   (not set)  (not set)   \n",
       "16893   ...               1600x20000         Chrome   (not set)  (not set)   \n",
       "54385   ...               1600x20000         Chrome   (not set)  (not set)   \n",
       "112711  ...               1600x20000         Chrome   (not set)  (not set)   \n",
       "119839  ...               1600x20000         Chrome   (not set)  (not set)   \n",
       "\n",
       "                  visit_dt target_action  dayofweek    daytime   pixels  \\\n",
       "7690   2021-12-06 15:36:02             0     Monday  afternoon  7.50515   \n",
       "16893  2021-10-07 14:00:00             0   Thursday  afternoon  7.50515   \n",
       "54385  2021-09-27 17:00:00             0     Monday  afternoon  7.50515   \n",
       "112711 2021-10-29 13:08:00             0     Friday  afternoon  7.50515   \n",
       "119839 2021-12-06 16:50:24             0     Monday  afternoon  7.50515   \n",
       "\n",
       "        screen_aspect  \n",
       "7690             12.5  \n",
       "16893            12.5  \n",
       "54385            12.5  \n",
       "112711           12.5  \n",
       "119839           12.5  \n",
       "\n",
       "[5 rows x 21 columns]"
      ]
     },
     "execution_count": 111,
     "metadata": {},
     "output_type": "execute_result"
    }
   ],
   "source": [
    "# удалим строки со значением aspect 12.5 и разрешением 1600x20000, как аномальные\n",
    "df3.query(\"screen_aspect == 12.5\").head()"
   ]
  },
  {
   "cell_type": "code",
   "execution_count": 112,
   "id": "9e3402cb-0660-4bfb-a383-db4645fa8523",
   "metadata": {},
   "outputs": [
    {
     "data": {
      "text/plain": [
       "(1732229, 21)"
      ]
     },
     "execution_count": 112,
     "metadata": {},
     "output_type": "execute_result"
    }
   ],
   "source": [
    "df4 = df3.drop(index=df3.query(\"screen_aspect == 12.5\").index)\n",
    "df4.shape"
   ]
  },
  {
   "cell_type": "code",
   "execution_count": 113,
   "id": "250dbf44-6548-4f94-95de-dd655ea1e9a0",
   "metadata": {},
   "outputs": [
    {
     "data": {
      "text/plain": [
       "count    1732229.000\n",
       "mean           1.772\n",
       "std            0.637\n",
       "min            0.200\n",
       "25%            1.800\n",
       "50%            2.200\n",
       "75%            2.200\n",
       "max            3.000\n",
       "Name: screen_aspect, dtype: object"
      ]
     },
     "execution_count": 113,
     "metadata": {},
     "output_type": "execute_result"
    }
   ],
   "source": [
    "df4.screen_aspect.describe().apply(lambda x: f\"{x :.3f}\")"
   ]
  },
  {
   "cell_type": "markdown",
   "id": "57530ffa-2f1e-4322-b0c6-af97051f4048",
   "metadata": {
    "tags": []
   },
   "source": [
    "## Browser"
   ]
  },
  {
   "cell_type": "code",
   "execution_count": 114,
   "id": "edcdde21-18f7-4a38-bb6c-41bc1628c91c",
   "metadata": {
    "tags": []
   },
   "outputs": [
    {
     "data": {
      "text/plain": [
       "Chrome                              951539\n",
       "Safari                              436705\n",
       "YaBrowser                           123763\n",
       "Safari (in-app)                      65952\n",
       "Android Webview                      51919\n",
       "Samsung Internet                     44273\n",
       "Opera                                25094\n",
       "Firefox                              15738\n",
       "Edge                                 15195\n",
       "UC Browser                             815\n",
       "Mozilla Compatible Agent               336\n",
       "Android Runtime                        241\n",
       "[FBAN                                  115\n",
       "Instagram 208.0.0.32.135 Android        72\n",
       "MRCHROME                                72\n",
       "Instagram 209.0.0.21.119 Android        49\n",
       "Android Browser                         47\n",
       "Puffin                                  43\n",
       "Maxthon                                 30\n",
       "Internet Explorer                       24\n",
       "Opera Mini                              23\n",
       "Android                                 19\n",
       "Instagram 202.0.0.23.119                17\n",
       "Mozilla                                 16\n",
       "Instagram 194.0.0.36.172 Android        14\n",
       "Instagram 202.0.0.37.123 Android        12\n",
       "(not set)                               11\n",
       "com.vk.vkclient                          8\n",
       "Instagram 212.0.0.38.119 Android         6\n",
       "Coc Coc                                  6\n",
       "helloworld                               6\n",
       "Instagram 203.0.0.26.117                 6\n",
       "Instagram 192.0.0.37.119                 6\n",
       "Amazon Silk                              6\n",
       "Instagram 201.0.0.23.111                 5\n",
       "Instagram 216.0.0.12.135                 4\n",
       "Instagram 213.0.0.29.120 Android         4\n",
       "Instagram 207.0.0.28.118                 4\n",
       "Instagram 216.1.0.21.137 Android         4\n",
       "SeaMonkey                                3\n",
       "Instagram 213.0.0.19.117                 3\n",
       "Instagram 192.0.0.35.123 Android         3\n",
       "Instagram 158.0.0.30.123 Android         3\n",
       "MyApp                                    2\n",
       "Iron                                     2\n",
       "Instagram 199.0.0.27.120                 2\n",
       "Instagram 208.0.0.26.131                 2\n",
       "Instagram 199.1.0.34.119 Android         2\n",
       "NetFront                                 2\n",
       "MT6735_TD                                1\n",
       "NokiaX2-02                               1\n",
       "Nokia501                                 1\n",
       "com.zhiliaoapp.musically                 1\n",
       "Konqueror                                1\n",
       "Threads 202.0.0.23.119                   1\n",
       "Name: device_browser, dtype: int64"
      ]
     },
     "execution_count": 114,
     "metadata": {},
     "output_type": "execute_result"
    }
   ],
   "source": [
    "df4.device_browser.value_counts()"
   ]
  },
  {
   "cell_type": "code",
   "execution_count": 115,
   "id": "cb9eb4b4-49e0-45dc-b1ed-a945938c2696",
   "metadata": {
    "tags": []
   },
   "outputs": [],
   "source": [
    "# оставим только первое слово от названия браузера\n",
    "df4['device_browser'] = df4.device_browser.apply(lambda x: x.split()[0])"
   ]
  },
  {
   "cell_type": "code",
   "execution_count": 116,
   "id": "1bc469e7-ad9f-47cf-ab58-7c3ca0ac3694",
   "metadata": {},
   "outputs": [
    {
     "data": {
      "text/plain": [
       "Chrome                      951539\n",
       "Safari                      502657\n",
       "YaBrowser                   123763\n",
       "Android                      52226\n",
       "Samsung                      44273\n",
       "Opera                        25117\n",
       "Firefox                      15738\n",
       "Edge                         15195\n",
       "UC                             815\n",
       "Mozilla                        352\n",
       "Instagram                      218\n",
       "[FBAN                          115\n",
       "MRCHROME                        72\n",
       "Puffin                          43\n",
       "Maxthon                         30\n",
       "Internet                        24\n",
       "(not                            11\n",
       "com.vk.vkclient                  8\n",
       "Coc                              6\n",
       "helloworld                       6\n",
       "Amazon                           6\n",
       "SeaMonkey                        3\n",
       "MyApp                            2\n",
       "NetFront                         2\n",
       "Iron                             2\n",
       "MT6735_TD                        1\n",
       "NokiaX2-02                       1\n",
       "Nokia501                         1\n",
       "com.zhiliaoapp.musically         1\n",
       "Konqueror                        1\n",
       "Threads                          1\n",
       "Name: device_browser, dtype: int64"
      ]
     },
     "execution_count": 116,
     "metadata": {},
     "output_type": "execute_result"
    }
   ],
   "source": [
    "df4.device_browser.value_counts()"
   ]
  },
  {
   "cell_type": "code",
   "execution_count": 117,
   "id": "37ce2156-525a-4f3b-aa41-62ac5b438adf",
   "metadata": {},
   "outputs": [
    {
     "name": "stdout",
     "output_type": "stream",
     "text": [
      "('Chrome', 'Safari', 'YaBrowser', 'Android', 'Samsung', 'Opera', 'Firefox', 'Edge')\n"
     ]
    }
   ],
   "source": [
    "# оставим только 8 популярных браузеров, остальные заменем на \"other\"\n",
    "browsers = tuple(df4.device_browser.value_counts()[:8].index)\n",
    "print(browsers)"
   ]
  },
  {
   "cell_type": "code",
   "execution_count": 118,
   "id": "86cfbba9-fa2d-47aa-8b19-b304aad30fc9",
   "metadata": {},
   "outputs": [],
   "source": [
    "df4['device_browser'] = df4.device_browser.apply(\n",
    "    lambda x: \n",
    "    x if x in browsers\n",
    "    else 'other'\n",
    ")"
   ]
  },
  {
   "cell_type": "code",
   "execution_count": 119,
   "id": "bf99156f-b2ef-4211-a722-28a18f859040",
   "metadata": {
    "tags": []
   },
   "outputs": [
    {
     "data": {
      "text/plain": [
       "Chrome       951539\n",
       "Safari       502657\n",
       "YaBrowser    123763\n",
       "Android       52226\n",
       "Samsung       44273\n",
       "Opera         25117\n",
       "Firefox       15738\n",
       "Edge          15195\n",
       "other          1721\n",
       "Name: device_browser, dtype: int64"
      ]
     },
     "execution_count": 119,
     "metadata": {},
     "output_type": "execute_result"
    }
   ],
   "source": [
    "df4.device_browser.value_counts(dropna=False)"
   ]
  },
  {
   "cell_type": "code",
   "execution_count": 120,
   "id": "10da86a5-862d-4ed5-8b75-b2916f0cf09f",
   "metadata": {},
   "outputs": [],
   "source": [
    "df5 = df4.copy()"
   ]
  },
  {
   "cell_type": "markdown",
   "id": "96a63a97-85e5-4c60-815b-34f9a99e0fe0",
   "metadata": {
    "tags": []
   },
   "source": [
    "## Geo"
   ]
  },
  {
   "cell_type": "code",
   "execution_count": 121,
   "id": "a42cb5bf-fba5-42f7-8084-1ddd9d0cb28f",
   "metadata": {},
   "outputs": [
    {
     "data": {
      "text/plain": [
       "geo_country\n",
       "Russia           49156\n",
       "Ukraine            199\n",
       "Germany             78\n",
       "United States       64\n",
       "Belarus             59\n",
       "                 ...  \n",
       "Luxembourg           0\n",
       "Libya                0\n",
       "Lebanon              0\n",
       "Burundi              0\n",
       "Zimbabwe             0\n",
       "Name: target_action, Length: 159, dtype: int64"
      ]
     },
     "execution_count": 121,
     "metadata": {},
     "output_type": "execute_result"
    }
   ],
   "source": [
    "# рассмотрим, какое количество целевых действий было совершено из каждой страны\n",
    "df5.groupby(by='geo_country').target_action.sum().sort_values(ascending=False)"
   ]
  },
  {
   "cell_type": "markdown",
   "id": "18343fc2-1a10-4e85-b3d5-1d6f9ef25c92",
   "metadata": {},
   "source": [
    "подавляющее большинство целевых действий совершалось из России,\n",
    "кроме того, географическая информация содежится также в категории города,\n",
    "поэтому удалим эту фичу (на следующем шаге) "
   ]
  },
  {
   "cell_type": "markdown",
   "id": "1c21ef5e-9f2d-4cdf-b35f-429a347c942c",
   "metadata": {
    "tags": []
   },
   "source": [
    "### Distance to Moscow"
   ]
  },
  {
   "cell_type": "code",
   "execution_count": 123,
   "id": "cb9f17b5-2d0e-469c-a855-316d9d4c9e47",
   "metadata": {},
   "outputs": [
    {
     "data": {
      "text/plain": [
       "geo_city\n",
       "Moscow              23629\n",
       "Saint Petersburg     7113\n",
       "(not set)            1588\n",
       "Kazan                1139\n",
       "Krasnodar            1081\n",
       "Yekaterinburg         887\n",
       "Samara                727\n",
       "Ufa                   639\n",
       "Nizhny Novgorod       559\n",
       "Novosibirsk           509\n",
       "Name: target_action, dtype: int64"
      ]
     },
     "execution_count": 123,
     "metadata": {},
     "output_type": "execute_result"
    }
   ],
   "source": [
    "# добавим фичу \"Дистанция до Москвы\"\n",
    "df5.groupby(by='geo_city').target_action.sum().sort_values(ascending=False).head(10)"
   ]
  },
  {
   "cell_type": "code",
   "execution_count": 124,
   "id": "0e614cdb-513b-435a-a798-d5f09f119d5f",
   "metadata": {
    "tags": []
   },
   "outputs": [
    {
     "data": {
      "text/plain": [
       "2389"
      ]
     },
     "execution_count": 124,
     "metadata": {},
     "output_type": "execute_result"
    }
   ],
   "source": [
    "# множество всех городов\n",
    "all_cities = {c for c in df5.geo_city}\n",
    "len(all_cities)"
   ]
  },
  {
   "cell_type": "code",
   "execution_count": 125,
   "id": "be13b416-03ab-4ece-b64e-2d3e32c05b72",
   "metadata": {
    "tags": []
   },
   "outputs": [],
   "source": [
    "# получим координаты городов при помощи стороннего api:\n",
    "# coords = {k: get_coords(k) for k in all_cities}\n",
    "\n",
    "# при по повторном запуске будем использовать уже сформированный словарь координат городов\n",
    "coords = joblib.load('data/coords.pkl')"
   ]
  },
  {
   "cell_type": "code",
   "execution_count": 126,
   "id": "a17c56ce-53d1-4f12-b470-dd84f91b358d",
   "metadata": {},
   "outputs": [
    {
     "name": "stdout",
     "output_type": "stream",
     "text": [
      "Fletcher\t\t(39.72943, -104.83192)\n",
      "Krasnohvardiis'ke\t\t(45.4023, 34.25464)\n",
      "Aarhus\t\t(56.15674, 10.21076)\n",
      "Debrecen\t\t(47.53167, 21.62444)\n",
      "Pyatigorsk\t\t(44.04861, 43.05944)\n",
      "Kozyatyn\t\t(49.71431, 28.83385)\n",
      "Kemerovo\t\t(55.33333, 86.08333)\n",
      "Ibiza\t\t(38.90883, 1.43296)\n",
      "Doha\t\t(25.28545, 51.53096)\n",
      "Berkel en Rodenrijs\t\t(51.99313, 4.47865)\n"
     ]
    }
   ],
   "source": [
    "print(*[f\"{k}\\t\\t{v}\" for k, v in coords.items()][:10], sep='\\n')"
   ]
  },
  {
   "cell_type": "code",
   "execution_count": 127,
   "id": "76f2b7d9-b891-465d-8f59-f4b3d95596b3",
   "metadata": {},
   "outputs": [
    {
     "data": {
      "text/html": [
       "<div>\n",
       "<style scoped>\n",
       "    .dataframe tbody tr th:only-of-type {\n",
       "        vertical-align: middle;\n",
       "    }\n",
       "\n",
       "    .dataframe tbody tr th {\n",
       "        vertical-align: top;\n",
       "    }\n",
       "\n",
       "    .dataframe thead th {\n",
       "        text-align: right;\n",
       "    }\n",
       "</style>\n",
       "<table border=\"1\" class=\"dataframe\">\n",
       "  <thead>\n",
       "    <tr style=\"text-align: right;\">\n",
       "      <th></th>\n",
       "      <th>geo_city</th>\n",
       "      <th>dist_to_msk</th>\n",
       "    </tr>\n",
       "  </thead>\n",
       "  <tbody>\n",
       "    <tr>\n",
       "      <th>0</th>\n",
       "      <td>Zlatoust</td>\n",
       "      <td>22.042931</td>\n",
       "    </tr>\n",
       "    <tr>\n",
       "      <th>1</th>\n",
       "      <td>Moscow</td>\n",
       "      <td>0.000000</td>\n",
       "    </tr>\n",
       "    <tr>\n",
       "      <th>2</th>\n",
       "      <td>Krasnoyarsk</td>\n",
       "      <td>55.252251</td>\n",
       "    </tr>\n",
       "    <tr>\n",
       "      <th>3</th>\n",
       "      <td>Moscow</td>\n",
       "      <td>0.000000</td>\n",
       "    </tr>\n",
       "    <tr>\n",
       "      <th>4</th>\n",
       "      <td>Moscow</td>\n",
       "      <td>0.000000</td>\n",
       "    </tr>\n",
       "    <tr>\n",
       "      <th>...</th>\n",
       "      <td>...</td>\n",
       "      <td>...</td>\n",
       "    </tr>\n",
       "    <tr>\n",
       "      <th>1860037</th>\n",
       "      <td>Moscow</td>\n",
       "      <td>0.000000</td>\n",
       "    </tr>\n",
       "    <tr>\n",
       "      <th>1860038</th>\n",
       "      <td>Stavropol</td>\n",
       "      <td>11.562113</td>\n",
       "    </tr>\n",
       "    <tr>\n",
       "      <th>1860039</th>\n",
       "      <td>Moscow</td>\n",
       "      <td>0.000000</td>\n",
       "    </tr>\n",
       "    <tr>\n",
       "      <th>1860040</th>\n",
       "      <td>Chelyabinsk</td>\n",
       "      <td>23.821102</td>\n",
       "    </tr>\n",
       "    <tr>\n",
       "      <th>1860041</th>\n",
       "      <td>Moscow</td>\n",
       "      <td>0.000000</td>\n",
       "    </tr>\n",
       "  </tbody>\n",
       "</table>\n",
       "<p>1732229 rows × 2 columns</p>\n",
       "</div>"
      ],
      "text/plain": [
       "            geo_city  dist_to_msk\n",
       "0           Zlatoust    22.042931\n",
       "1             Moscow     0.000000\n",
       "2        Krasnoyarsk    55.252251\n",
       "3             Moscow     0.000000\n",
       "4             Moscow     0.000000\n",
       "...              ...          ...\n",
       "1860037       Moscow     0.000000\n",
       "1860038    Stavropol    11.562113\n",
       "1860039       Moscow     0.000000\n",
       "1860040  Chelyabinsk    23.821102\n",
       "1860041       Moscow     0.000000\n",
       "\n",
       "[1732229 rows x 2 columns]"
      ]
     },
     "execution_count": 127,
     "metadata": {},
     "output_type": "execute_result"
    }
   ],
   "source": [
    "# координаты Москвы:\n",
    "moscow = coords['Moscow']\n",
    "\n",
    "# добавим расстояние до Москвы (градусы по прямой в евклидовой метрике)\n",
    "df5['dist_to_msk'] = df5.geo_city.apply(\n",
    "    lambda x: math.sqrt((coords[x][0] - moscow[0]) ** 2 + (coords[x][1] - moscow[1]) ** 2))\n",
    "df5[['geo_city', 'dist_to_msk']]"
   ]
  },
  {
   "cell_type": "code",
   "execution_count": 128,
   "id": "30dc3b01-d64f-4683-b517-5110d3a9d55f",
   "metadata": {},
   "outputs": [
    {
     "data": {
      "text/plain": [
       "count    1732229.000\n",
       "mean          15.574\n",
       "std           35.440\n",
       "min            0.000\n",
       "25%            0.000\n",
       "50%            1.814\n",
       "75%           10.793\n",
       "max          204.158\n",
       "Name: dist_to_msk, dtype: object"
      ]
     },
     "execution_count": 128,
     "metadata": {},
     "output_type": "execute_result"
    }
   ],
   "source": [
    "df5.dist_to_msk.describe().apply(lambda x: f\"{x :.3f}\")"
   ]
  },
  {
   "cell_type": "code",
   "execution_count": 129,
   "id": "cb032525-8f47-4ed6-8f81-ee0cec10ef4f",
   "metadata": {},
   "outputs": [
    {
     "data": {
      "image/png": "[encoded data removed]",
      "text/plain": [
       "<Figure size 800x500 with 1 Axes>"
      ]
     },
     "metadata": {},
     "output_type": "display_data"
    }
   ],
   "source": [
    "plt.style.use('dark_background')\n",
    "plt.figure(figsize=(8, 5))\n",
    "plt.hist(df5.dist_to_msk, bins=100, color='cyan')\n",
    "plt.xlabel('Дистанция от Москвы')\n",
    "plt.ylabel('Частота')\n",
    "plt.yscale('log')\n",
    "plt.title('Распределение расстояний');"
   ]
  },
  {
   "cell_type": "code",
   "execution_count": 130,
   "id": "f6d1ddc1-0b04-475c-9234-90b07b717173",
   "metadata": {},
   "outputs": [
    {
     "data": {
      "text/plain": [
       "['data/coords.pkl']"
      ]
     },
     "execution_count": 130,
     "metadata": {},
     "output_type": "execute_result"
    }
   ],
   "source": [
    "# сохраним словарь координат для повторного использования\n",
    "joblib.dump(coords, 'data/coords.pkl')"
   ]
  },
  {
   "cell_type": "markdown",
   "id": "0829df43-3899-4d6f-b1ac-69d9c3d17b91",
   "metadata": {
    "jp-MarkdownHeadingCollapsed": true,
    "tags": []
   },
   "source": [
    "## Delete features"
   ]
  },
  {
   "cell_type": "code",
   "execution_count": 131,
   "id": "78b42306-1267-48cc-871d-f0a4350014f2",
   "metadata": {},
   "outputs": [
    {
     "data": {
      "text/plain": [
       "Index(['session_id', 'client_id', 'visit_number', 'utm_source', 'utm_medium',\n",
       "       'utm_campaign', 'utm_adcontent', 'utm_keyword', 'device_category',\n",
       "       'device_os', 'device_brand', 'device_screen_resolution',\n",
       "       'device_browser', 'geo_country', 'geo_city', 'visit_dt',\n",
       "       'target_action', 'dayofweek', 'daytime', 'pixels', 'screen_aspect',\n",
       "       'dist_to_msk'],\n",
       "      dtype='object')"
      ]
     },
     "execution_count": 131,
     "metadata": {},
     "output_type": "execute_result"
    }
   ],
   "source": [
    "df5.columns"
   ]
  },
  {
   "cell_type": "code",
   "execution_count": 132,
   "id": "890ca29c-8eb4-47ad-9f10-9965eb201e4f",
   "metadata": {},
   "outputs": [],
   "source": [
    "df_feat = df5.drop(columns=['visit_dt', 'session_id', 'client_id', 'geo_country', \n",
    "                            'device_screen_resolution'])"
   ]
  },
  {
   "cell_type": "code",
   "execution_count": 133,
   "id": "2ee2a49e-5319-4d2c-831a-1ffe174c8edd",
   "metadata": {},
   "outputs": [
    {
     "data": {
      "text/html": [
       "<div>\n",
       "<style scoped>\n",
       "    .dataframe tbody tr th:only-of-type {\n",
       "        vertical-align: middle;\n",
       "    }\n",
       "\n",
       "    .dataframe tbody tr th {\n",
       "        vertical-align: top;\n",
       "    }\n",
       "\n",
       "    .dataframe thead th {\n",
       "        text-align: right;\n",
       "    }\n",
       "</style>\n",
       "<table border=\"1\" class=\"dataframe\">\n",
       "  <thead>\n",
       "    <tr style=\"text-align: right;\">\n",
       "      <th></th>\n",
       "      <th>visit_number</th>\n",
       "      <th>utm_source</th>\n",
       "      <th>utm_medium</th>\n",
       "      <th>utm_campaign</th>\n",
       "      <th>utm_adcontent</th>\n",
       "      <th>utm_keyword</th>\n",
       "      <th>device_category</th>\n",
       "      <th>device_os</th>\n",
       "      <th>device_brand</th>\n",
       "      <th>device_browser</th>\n",
       "      <th>geo_city</th>\n",
       "      <th>target_action</th>\n",
       "      <th>dayofweek</th>\n",
       "      <th>daytime</th>\n",
       "      <th>pixels</th>\n",
       "      <th>screen_aspect</th>\n",
       "      <th>dist_to_msk</th>\n",
       "    </tr>\n",
       "  </thead>\n",
       "  <tbody>\n",
       "    <tr>\n",
       "      <th>0</th>\n",
       "      <td>1</td>\n",
       "      <td>ZpYIoDJMcFzVoPFsHGJL</td>\n",
       "      <td>banner</td>\n",
       "      <td>LEoPHuyFvzoNfnzGgfcd</td>\n",
       "      <td>vCIpmpaGBnIQhyYNkXqp</td>\n",
       "      <td>puhZPIYqKXeFPaUviSjo</td>\n",
       "      <td>mobile</td>\n",
       "      <td>Android</td>\n",
       "      <td>Huawei</td>\n",
       "      <td>Chrome</td>\n",
       "      <td>Zlatoust</td>\n",
       "      <td>0</td>\n",
       "      <td>Wednesday</td>\n",
       "      <td>afternoon</td>\n",
       "      <td>5.413635</td>\n",
       "      <td>2.0</td>\n",
       "      <td>22.042931</td>\n",
       "    </tr>\n",
       "    <tr>\n",
       "      <th>1</th>\n",
       "      <td>1</td>\n",
       "      <td>MvfHsxITijuriZxsqZqt</td>\n",
       "      <td>cpm</td>\n",
       "      <td>FTjNLDyTrXaWYgZymFkV</td>\n",
       "      <td>xhoenQgDQsgfEPYNPwKO</td>\n",
       "      <td>IGUCNvHlhfHpROGclCit</td>\n",
       "      <td>mobile</td>\n",
       "      <td>Android</td>\n",
       "      <td>Samsung</td>\n",
       "      <td>Samsung</td>\n",
       "      <td>Moscow</td>\n",
       "      <td>0</td>\n",
       "      <td>Sunday</td>\n",
       "      <td>morning</td>\n",
       "      <td>5.516919</td>\n",
       "      <td>2.2</td>\n",
       "      <td>0.000000</td>\n",
       "    </tr>\n",
       "    <tr>\n",
       "      <th>2</th>\n",
       "      <td>1</td>\n",
       "      <td>ZpYIoDJMcFzVoPFsHGJL</td>\n",
       "      <td>banner</td>\n",
       "      <td>LEoPHuyFvzoNfnzGgfcd</td>\n",
       "      <td>vCIpmpaGBnIQhyYNkXqp</td>\n",
       "      <td>puhZPIYqKXeFPaUviSjo</td>\n",
       "      <td>mobile</td>\n",
       "      <td>Android</td>\n",
       "      <td>Huawei</td>\n",
       "      <td>Chrome</td>\n",
       "      <td>Krasnoyarsk</td>\n",
       "      <td>0</td>\n",
       "      <td>Tuesday</td>\n",
       "      <td>night</td>\n",
       "      <td>5.413635</td>\n",
       "      <td>2.0</td>\n",
       "      <td>55.252251</td>\n",
       "    </tr>\n",
       "    <tr>\n",
       "      <th>3</th>\n",
       "      <td>1</td>\n",
       "      <td>kjsLglQLzykiRbcDiGcD</td>\n",
       "      <td>cpc</td>\n",
       "      <td>UvuMsOSDBWQGOIbDbXfV</td>\n",
       "      <td>NOBKLgtuvqYWkXQHeYWM</td>\n",
       "      <td>puhZPIYqKXeFPaUviSjo</td>\n",
       "      <td>mobile</td>\n",
       "      <td>Android</td>\n",
       "      <td>Xiaomi</td>\n",
       "      <td>Chrome</td>\n",
       "      <td>Moscow</td>\n",
       "      <td>0</td>\n",
       "      <td>Saturday</td>\n",
       "      <td>night</td>\n",
       "      <td>5.489815</td>\n",
       "      <td>2.0</td>\n",
       "      <td>0.000000</td>\n",
       "    </tr>\n",
       "    <tr>\n",
       "      <th>4</th>\n",
       "      <td>2</td>\n",
       "      <td>kjsLglQLzykiRbcDiGcD</td>\n",
       "      <td>cpc</td>\n",
       "      <td>FTjNLDyTrXaWYgZymFkV</td>\n",
       "      <td>xhoenQgDQsgfEPYNPwKO</td>\n",
       "      <td>puhZPIYqKXeFPaUviSjo</td>\n",
       "      <td>mobile</td>\n",
       "      <td>Android</td>\n",
       "      <td>Xiaomi</td>\n",
       "      <td>Chrome</td>\n",
       "      <td>Moscow</td>\n",
       "      <td>0</td>\n",
       "      <td>Saturday</td>\n",
       "      <td>night</td>\n",
       "      <td>5.489815</td>\n",
       "      <td>2.0</td>\n",
       "      <td>0.000000</td>\n",
       "    </tr>\n",
       "    <tr>\n",
       "      <th>...</th>\n",
       "      <td>...</td>\n",
       "      <td>...</td>\n",
       "      <td>...</td>\n",
       "      <td>...</td>\n",
       "      <td>...</td>\n",
       "      <td>...</td>\n",
       "      <td>...</td>\n",
       "      <td>...</td>\n",
       "      <td>...</td>\n",
       "      <td>...</td>\n",
       "      <td>...</td>\n",
       "      <td>...</td>\n",
       "      <td>...</td>\n",
       "      <td>...</td>\n",
       "      <td>...</td>\n",
       "      <td>...</td>\n",
       "      <td>...</td>\n",
       "    </tr>\n",
       "    <tr>\n",
       "      <th>1860037</th>\n",
       "      <td>1</td>\n",
       "      <td>BHcvLfOaCWvWTykYqHVe</td>\n",
       "      <td>cpc</td>\n",
       "      <td>LTuZkdKfxRGVceoWkVyg</td>\n",
       "      <td>JNHcPlZPxEMWDnRiyoBf</td>\n",
       "      <td>VlqBmecIOXWjCWUmQkLd</td>\n",
       "      <td>desktop</td>\n",
       "      <td>Windows</td>\n",
       "      <td>(not set)</td>\n",
       "      <td>Chrome</td>\n",
       "      <td>Moscow</td>\n",
       "      <td>0</td>\n",
       "      <td>Wednesday</td>\n",
       "      <td>morning</td>\n",
       "      <td>6.316725</td>\n",
       "      <td>0.6</td>\n",
       "      <td>0.000000</td>\n",
       "    </tr>\n",
       "    <tr>\n",
       "      <th>1860038</th>\n",
       "      <td>1</td>\n",
       "      <td>fDLlAcSmythWSCVMvqvL</td>\n",
       "      <td>(none)</td>\n",
       "      <td>LTuZkdKfxRGVceoWkVyg</td>\n",
       "      <td>JNHcPlZPxEMWDnRiyoBf</td>\n",
       "      <td>tVtbIKrPSOvrXLCznVVe</td>\n",
       "      <td>mobile</td>\n",
       "      <td>Android</td>\n",
       "      <td>Apple</td>\n",
       "      <td>Safari</td>\n",
       "      <td>Stavropol</td>\n",
       "      <td>0</td>\n",
       "      <td>Wednesday</td>\n",
       "      <td>morning</td>\n",
       "      <td>5.517407</td>\n",
       "      <td>2.2</td>\n",
       "      <td>11.562113</td>\n",
       "    </tr>\n",
       "    <tr>\n",
       "      <th>1860039</th>\n",
       "      <td>1</td>\n",
       "      <td>fDLlAcSmythWSCVMvqvL</td>\n",
       "      <td>(none)</td>\n",
       "      <td>LTuZkdKfxRGVceoWkVyg</td>\n",
       "      <td>JNHcPlZPxEMWDnRiyoBf</td>\n",
       "      <td>puhZPIYqKXeFPaUviSjo</td>\n",
       "      <td>mobile</td>\n",
       "      <td>iOS</td>\n",
       "      <td>Apple</td>\n",
       "      <td>Safari</td>\n",
       "      <td>Moscow</td>\n",
       "      <td>0</td>\n",
       "      <td>Monday</td>\n",
       "      <td>afternoon</td>\n",
       "      <td>5.398157</td>\n",
       "      <td>1.8</td>\n",
       "      <td>0.000000</td>\n",
       "    </tr>\n",
       "    <tr>\n",
       "      <th>1860040</th>\n",
       "      <td>1</td>\n",
       "      <td>ZpYIoDJMcFzVoPFsHGJL</td>\n",
       "      <td>banner</td>\n",
       "      <td>LEoPHuyFvzoNfnzGgfcd</td>\n",
       "      <td>JNHcPlZPxEMWDnRiyoBf</td>\n",
       "      <td>puhZPIYqKXeFPaUviSjo</td>\n",
       "      <td>mobile</td>\n",
       "      <td>Android</td>\n",
       "      <td>Xiaomi</td>\n",
       "      <td>Chrome</td>\n",
       "      <td>Chelyabinsk</td>\n",
       "      <td>0</td>\n",
       "      <td>Monday</td>\n",
       "      <td>afternoon</td>\n",
       "      <td>5.524322</td>\n",
       "      <td>2.2</td>\n",
       "      <td>23.821102</td>\n",
       "    </tr>\n",
       "    <tr>\n",
       "      <th>1860041</th>\n",
       "      <td>1</td>\n",
       "      <td>fgymSoTvjKPEgaIJqsiH</td>\n",
       "      <td>cpm</td>\n",
       "      <td>FTjNLDyTrXaWYgZymFkV</td>\n",
       "      <td>yYdBRbPmBMUZHXwqGxNx</td>\n",
       "      <td>oKjXDUsycmahkgMhGdAR</td>\n",
       "      <td>desktop</td>\n",
       "      <td>Linux</td>\n",
       "      <td>(not set)</td>\n",
       "      <td>Chrome</td>\n",
       "      <td>Moscow</td>\n",
       "      <td>0</td>\n",
       "      <td>Friday</td>\n",
       "      <td>evening</td>\n",
       "      <td>6.020812</td>\n",
       "      <td>0.6</td>\n",
       "      <td>0.000000</td>\n",
       "    </tr>\n",
       "  </tbody>\n",
       "</table>\n",
       "<p>1732229 rows × 17 columns</p>\n",
       "</div>"
      ],
      "text/plain": [
       "         visit_number            utm_source utm_medium          utm_campaign  \\\n",
       "0                   1  ZpYIoDJMcFzVoPFsHGJL     banner  LEoPHuyFvzoNfnzGgfcd   \n",
       "1                   1  MvfHsxITijuriZxsqZqt        cpm  FTjNLDyTrXaWYgZymFkV   \n",
       "2                   1  ZpYIoDJMcFzVoPFsHGJL     banner  LEoPHuyFvzoNfnzGgfcd   \n",
       "3                   1  kjsLglQLzykiRbcDiGcD        cpc  UvuMsOSDBWQGOIbDbXfV   \n",
       "4                   2  kjsLglQLzykiRbcDiGcD        cpc  FTjNLDyTrXaWYgZymFkV   \n",
       "...               ...                   ...        ...                   ...   \n",
       "1860037             1  BHcvLfOaCWvWTykYqHVe        cpc  LTuZkdKfxRGVceoWkVyg   \n",
       "1860038             1  fDLlAcSmythWSCVMvqvL     (none)  LTuZkdKfxRGVceoWkVyg   \n",
       "1860039             1  fDLlAcSmythWSCVMvqvL     (none)  LTuZkdKfxRGVceoWkVyg   \n",
       "1860040             1  ZpYIoDJMcFzVoPFsHGJL     banner  LEoPHuyFvzoNfnzGgfcd   \n",
       "1860041             1  fgymSoTvjKPEgaIJqsiH        cpm  FTjNLDyTrXaWYgZymFkV   \n",
       "\n",
       "                utm_adcontent           utm_keyword device_category device_os  \\\n",
       "0        vCIpmpaGBnIQhyYNkXqp  puhZPIYqKXeFPaUviSjo          mobile   Android   \n",
       "1        xhoenQgDQsgfEPYNPwKO  IGUCNvHlhfHpROGclCit          mobile   Android   \n",
       "2        vCIpmpaGBnIQhyYNkXqp  puhZPIYqKXeFPaUviSjo          mobile   Android   \n",
       "3        NOBKLgtuvqYWkXQHeYWM  puhZPIYqKXeFPaUviSjo          mobile   Android   \n",
       "4        xhoenQgDQsgfEPYNPwKO  puhZPIYqKXeFPaUviSjo          mobile   Android   \n",
       "...                       ...                   ...             ...       ...   \n",
       "1860037  JNHcPlZPxEMWDnRiyoBf  VlqBmecIOXWjCWUmQkLd         desktop   Windows   \n",
       "1860038  JNHcPlZPxEMWDnRiyoBf  tVtbIKrPSOvrXLCznVVe          mobile   Android   \n",
       "1860039  JNHcPlZPxEMWDnRiyoBf  puhZPIYqKXeFPaUviSjo          mobile       iOS   \n",
       "1860040  JNHcPlZPxEMWDnRiyoBf  puhZPIYqKXeFPaUviSjo          mobile   Android   \n",
       "1860041  yYdBRbPmBMUZHXwqGxNx  oKjXDUsycmahkgMhGdAR         desktop     Linux   \n",
       "\n",
       "        device_brand device_browser     geo_city  target_action  dayofweek  \\\n",
       "0             Huawei         Chrome     Zlatoust              0  Wednesday   \n",
       "1            Samsung        Samsung       Moscow              0     Sunday   \n",
       "2             Huawei         Chrome  Krasnoyarsk              0    Tuesday   \n",
       "3             Xiaomi         Chrome       Moscow              0   Saturday   \n",
       "4             Xiaomi         Chrome       Moscow              0   Saturday   \n",
       "...              ...            ...          ...            ...        ...   \n",
       "1860037    (not set)         Chrome       Moscow              0  Wednesday   \n",
       "1860038        Apple         Safari    Stavropol              0  Wednesday   \n",
       "1860039        Apple         Safari       Moscow              0     Monday   \n",
       "1860040       Xiaomi         Chrome  Chelyabinsk              0     Monday   \n",
       "1860041    (not set)         Chrome       Moscow              0     Friday   \n",
       "\n",
       "           daytime    pixels  screen_aspect  dist_to_msk  \n",
       "0        afternoon  5.413635            2.0    22.042931  \n",
       "1          morning  5.516919            2.2     0.000000  \n",
       "2            night  5.413635            2.0    55.252251  \n",
       "3            night  5.489815            2.0     0.000000  \n",
       "4            night  5.489815            2.0     0.000000  \n",
       "...            ...       ...            ...          ...  \n",
       "1860037    morning  6.316725            0.6     0.000000  \n",
       "1860038    morning  5.517407            2.2    11.562113  \n",
       "1860039  afternoon  5.398157            1.8     0.000000  \n",
       "1860040  afternoon  5.524322            2.2    23.821102  \n",
       "1860041    evening  6.020812            0.6     0.000000  \n",
       "\n",
       "[1732229 rows x 17 columns]"
      ]
     },
     "execution_count": 133,
     "metadata": {},
     "output_type": "execute_result"
    }
   ],
   "source": [
    "df_feat"
   ]
  },
  {
   "cell_type": "markdown",
   "id": "70365d35-01b5-4e0d-a4c4-32589d309a2c",
   "metadata": {
    "jp-MarkdownHeadingCollapsed": true,
    "tags": []
   },
   "source": [
    "## Normalizing"
   ]
  },
  {
   "cell_type": "code",
   "execution_count": 134,
   "id": "0db287f8-c89f-4fc2-b51d-c5dbc9377c60",
   "metadata": {},
   "outputs": [],
   "source": [
    "df = df_feat.copy()"
   ]
  },
  {
   "cell_type": "code",
   "execution_count": 135,
   "id": "5a3d2ee7-ff6d-44f3-af55-7a20f00698c8",
   "metadata": {},
   "outputs": [
    {
     "data": {
      "text/html": [
       "<div>\n",
       "<style scoped>\n",
       "    .dataframe tbody tr th:only-of-type {\n",
       "        vertical-align: middle;\n",
       "    }\n",
       "\n",
       "    .dataframe tbody tr th {\n",
       "        vertical-align: top;\n",
       "    }\n",
       "\n",
       "    .dataframe thead th {\n",
       "        text-align: right;\n",
       "    }\n",
       "</style>\n",
       "<table border=\"1\" class=\"dataframe\">\n",
       "  <thead>\n",
       "    <tr style=\"text-align: right;\">\n",
       "      <th></th>\n",
       "      <th>visit_number</th>\n",
       "      <th>dist_to_msk</th>\n",
       "      <th>pixels</th>\n",
       "      <th>screen_aspect</th>\n",
       "    </tr>\n",
       "  </thead>\n",
       "  <tbody>\n",
       "    <tr>\n",
       "      <th>0</th>\n",
       "      <td>1</td>\n",
       "      <td>22.042931</td>\n",
       "      <td>5.413635</td>\n",
       "      <td>2.0</td>\n",
       "    </tr>\n",
       "    <tr>\n",
       "      <th>1</th>\n",
       "      <td>1</td>\n",
       "      <td>0.000000</td>\n",
       "      <td>5.516919</td>\n",
       "      <td>2.2</td>\n",
       "    </tr>\n",
       "    <tr>\n",
       "      <th>2</th>\n",
       "      <td>1</td>\n",
       "      <td>55.252251</td>\n",
       "      <td>5.413635</td>\n",
       "      <td>2.0</td>\n",
       "    </tr>\n",
       "    <tr>\n",
       "      <th>3</th>\n",
       "      <td>1</td>\n",
       "      <td>0.000000</td>\n",
       "      <td>5.489815</td>\n",
       "      <td>2.0</td>\n",
       "    </tr>\n",
       "    <tr>\n",
       "      <th>4</th>\n",
       "      <td>2</td>\n",
       "      <td>0.000000</td>\n",
       "      <td>5.489815</td>\n",
       "      <td>2.0</td>\n",
       "    </tr>\n",
       "  </tbody>\n",
       "</table>\n",
       "</div>"
      ],
      "text/plain": [
       "   visit_number  dist_to_msk    pixels  screen_aspect\n",
       "0             1    22.042931  5.413635            2.0\n",
       "1             1     0.000000  5.516919            2.2\n",
       "2             1    55.252251  5.413635            2.0\n",
       "3             1     0.000000  5.489815            2.0\n",
       "4             2     0.000000  5.489815            2.0"
      ]
     },
     "execution_count": 135,
     "metadata": {},
     "output_type": "execute_result"
    }
   ],
   "source": [
    "num_feat = df[['visit_number', 'dist_to_msk', 'pixels', 'screen_aspect']]\n",
    "num_feat.head()"
   ]
  },
  {
   "cell_type": "code",
   "execution_count": 136,
   "id": "17428ef7-2637-4307-98f9-10034854de46",
   "metadata": {},
   "outputs": [
    {
     "data": {
      "text/html": [
       "<style>#sk-container-id-1 {color: black;background-color: white;}#sk-container-id-1 pre{padding: 0;}#sk-container-id-1 div.sk-toggleable {background-color: white;}#sk-container-id-1 label.sk-toggleable__label {cursor: pointer;display: block;width: 100%;margin-bottom: 0;padding: 0.3em;box-sizing: border-box;text-align: center;}#sk-container-id-1 label.sk-toggleable__label-arrow:before {content: \"▸\";float: left;margin-right: 0.25em;color: #696969;}#sk-container-id-1 label.sk-toggleable__label-arrow:hover:before {color: black;}#sk-container-id-1 div.sk-estimator:hover label.sk-toggleable__label-arrow:before {color: black;}#sk-container-id-1 div.sk-toggleable__content {max-height: 0;max-width: 0;overflow: hidden;text-align: left;background-color: #f0f8ff;}#sk-container-id-1 div.sk-toggleable__content pre {margin: 0.2em;color: black;border-radius: 0.25em;background-color: #f0f8ff;}#sk-container-id-1 input.sk-toggleable__control:checked~div.sk-toggleable__content {max-height: 200px;max-width: 100%;overflow: auto;}#sk-container-id-1 input.sk-toggleable__control:checked~label.sk-toggleable__label-arrow:before {content: \"▾\";}#sk-container-id-1 div.sk-estimator input.sk-toggleable__control:checked~label.sk-toggleable__label {background-color: #d4ebff;}#sk-container-id-1 div.sk-label input.sk-toggleable__control:checked~label.sk-toggleable__label {background-color: #d4ebff;}#sk-container-id-1 input.sk-hidden--visually {border: 0;clip: rect(1px 1px 1px 1px);clip: rect(1px, 1px, 1px, 1px);height: 1px;margin: -1px;overflow: hidden;padding: 0;position: absolute;width: 1px;}#sk-container-id-1 div.sk-estimator {font-family: monospace;background-color: #f0f8ff;border: 1px dotted black;border-radius: 0.25em;box-sizing: border-box;margin-bottom: 0.5em;}#sk-container-id-1 div.sk-estimator:hover {background-color: #d4ebff;}#sk-container-id-1 div.sk-parallel-item::after {content: \"\";width: 100%;border-bottom: 1px solid gray;flex-grow: 1;}#sk-container-id-1 div.sk-label:hover label.sk-toggleable__label {background-color: #d4ebff;}#sk-container-id-1 div.sk-serial::before {content: \"\";position: absolute;border-left: 1px solid gray;box-sizing: border-box;top: 0;bottom: 0;left: 50%;z-index: 0;}#sk-container-id-1 div.sk-serial {display: flex;flex-direction: column;align-items: center;background-color: white;padding-right: 0.2em;padding-left: 0.2em;position: relative;}#sk-container-id-1 div.sk-item {position: relative;z-index: 1;}#sk-container-id-1 div.sk-parallel {display: flex;align-items: stretch;justify-content: center;background-color: white;position: relative;}#sk-container-id-1 div.sk-item::before, #sk-container-id-1 div.sk-parallel-item::before {content: \"\";position: absolute;border-left: 1px solid gray;box-sizing: border-box;top: 0;bottom: 0;left: 50%;z-index: -1;}#sk-container-id-1 div.sk-parallel-item {display: flex;flex-direction: column;z-index: 1;position: relative;background-color: white;}#sk-container-id-1 div.sk-parallel-item:first-child::after {align-self: flex-end;width: 50%;}#sk-container-id-1 div.sk-parallel-item:last-child::after {align-self: flex-start;width: 50%;}#sk-container-id-1 div.sk-parallel-item:only-child::after {width: 0;}#sk-container-id-1 div.sk-dashed-wrapped {border: 1px dashed gray;margin: 0 0.4em 0.5em 0.4em;box-sizing: border-box;padding-bottom: 0.4em;background-color: white;}#sk-container-id-1 div.sk-label label {font-family: monospace;font-weight: bold;display: inline-block;line-height: 1.2em;}#sk-container-id-1 div.sk-label-container {text-align: center;}#sk-container-id-1 div.sk-container {/* jupyter's `normalize.less` sets `[hidden] { display: none; }` but bootstrap.min.css set `[hidden] { display: none !important; }` so we also need the `!important` here to be able to override the default hidden behavior on the sphinx rendered scikit-learn.org. See: https://github.com/scikit-learn/scikit-learn/issues/21755 */display: inline-block !important;position: relative;}#sk-container-id-1 div.sk-text-repr-fallback {display: none;}</style><div id=\"sk-container-id-1\" class=\"sk-top-container\"><div class=\"sk-text-repr-fallback\"><pre>StandardScaler()</pre><b>In a Jupyter environment, please rerun this cell to show the HTML representation or trust the notebook. <br />On GitHub, the HTML representation is unable to render, please try loading this page with nbviewer.org.</b></div><div class=\"sk-container\" hidden><div class=\"sk-item\"><div class=\"sk-estimator sk-toggleable\"><input class=\"sk-toggleable__control sk-hidden--visually\" id=\"sk-estimator-id-1\" type=\"checkbox\" checked><label for=\"sk-estimator-id-1\" class=\"sk-toggleable__label sk-toggleable__label-arrow\">StandardScaler</label><div class=\"sk-toggleable__content\"><pre>StandardScaler()</pre></div></div></div></div></div>"
      ],
      "text/plain": [
       "StandardScaler()"
      ]
     },
     "execution_count": 136,
     "metadata": {},
     "output_type": "execute_result"
    }
   ],
   "source": [
    "std_scaler = StandardScaler()\n",
    "std_scaler.fit(num_feat)"
   ]
  },
  {
   "cell_type": "code",
   "execution_count": 137,
   "id": "9da4ecba-cead-48af-adb0-fa54ae71d89e",
   "metadata": {},
   "outputs": [
    {
     "data": {
      "text/plain": [
       "array([[-0.26011958,  0.18253136, -0.71196061,  0.3573443 ],\n",
       "       [-0.26011958, -0.43944661, -0.37894324,  0.67126267],\n",
       "       [-0.26011958,  1.11958756, -0.71196061,  0.3573443 ],\n",
       "       ...,\n",
       "       [-0.26011958, -0.43944661, -0.76186599,  0.04342592],\n",
       "       [-0.26011958,  0.23270542, -0.3550721 ,  0.67126267],\n",
       "       [-0.26011958, -0.43944661,  1.24576022, -1.84008435]])"
      ]
     },
     "execution_count": 137,
     "metadata": {},
     "output_type": "execute_result"
    }
   ],
   "source": [
    "scaled = std_scaler.transform(num_feat)\n",
    "scaled"
   ]
  },
  {
   "cell_type": "code",
   "execution_count": 138,
   "id": "d07072f5-ed3b-46d6-bc56-bfbbd4285eb0",
   "metadata": {},
   "outputs": [],
   "source": [
    "feat_title = [f\"{title}_std\" for title in num_feat.columns]"
   ]
  },
  {
   "cell_type": "code",
   "execution_count": 139,
   "id": "cdd5e987-590d-471a-ae07-a89b5592d2d1",
   "metadata": {},
   "outputs": [
    {
     "data": {
      "text/html": [
       "<div>\n",
       "<style scoped>\n",
       "    .dataframe tbody tr th:only-of-type {\n",
       "        vertical-align: middle;\n",
       "    }\n",
       "\n",
       "    .dataframe tbody tr th {\n",
       "        vertical-align: top;\n",
       "    }\n",
       "\n",
       "    .dataframe thead th {\n",
       "        text-align: right;\n",
       "    }\n",
       "</style>\n",
       "<table border=\"1\" class=\"dataframe\">\n",
       "  <thead>\n",
       "    <tr style=\"text-align: right;\">\n",
       "      <th></th>\n",
       "      <th>utm_source</th>\n",
       "      <th>utm_medium</th>\n",
       "      <th>utm_campaign</th>\n",
       "      <th>utm_adcontent</th>\n",
       "      <th>utm_keyword</th>\n",
       "      <th>device_category</th>\n",
       "      <th>device_os</th>\n",
       "      <th>device_brand</th>\n",
       "      <th>device_browser</th>\n",
       "      <th>geo_city</th>\n",
       "      <th>target_action</th>\n",
       "      <th>dayofweek</th>\n",
       "      <th>daytime</th>\n",
       "      <th>visit_number_std</th>\n",
       "      <th>dist_to_msk_std</th>\n",
       "      <th>pixels_std</th>\n",
       "      <th>screen_aspect_std</th>\n",
       "    </tr>\n",
       "  </thead>\n",
       "  <tbody>\n",
       "    <tr>\n",
       "      <th>0</th>\n",
       "      <td>ZpYIoDJMcFzVoPFsHGJL</td>\n",
       "      <td>banner</td>\n",
       "      <td>LEoPHuyFvzoNfnzGgfcd</td>\n",
       "      <td>vCIpmpaGBnIQhyYNkXqp</td>\n",
       "      <td>puhZPIYqKXeFPaUviSjo</td>\n",
       "      <td>mobile</td>\n",
       "      <td>Android</td>\n",
       "      <td>Huawei</td>\n",
       "      <td>Chrome</td>\n",
       "      <td>Zlatoust</td>\n",
       "      <td>0</td>\n",
       "      <td>Wednesday</td>\n",
       "      <td>afternoon</td>\n",
       "      <td>-0.26012</td>\n",
       "      <td>0.182531</td>\n",
       "      <td>-0.711961</td>\n",
       "      <td>0.357344</td>\n",
       "    </tr>\n",
       "    <tr>\n",
       "      <th>1</th>\n",
       "      <td>MvfHsxITijuriZxsqZqt</td>\n",
       "      <td>cpm</td>\n",
       "      <td>FTjNLDyTrXaWYgZymFkV</td>\n",
       "      <td>xhoenQgDQsgfEPYNPwKO</td>\n",
       "      <td>IGUCNvHlhfHpROGclCit</td>\n",
       "      <td>mobile</td>\n",
       "      <td>Android</td>\n",
       "      <td>Samsung</td>\n",
       "      <td>Samsung</td>\n",
       "      <td>Moscow</td>\n",
       "      <td>0</td>\n",
       "      <td>Sunday</td>\n",
       "      <td>morning</td>\n",
       "      <td>-0.26012</td>\n",
       "      <td>-0.439447</td>\n",
       "      <td>-0.378943</td>\n",
       "      <td>0.671263</td>\n",
       "    </tr>\n",
       "    <tr>\n",
       "      <th>2</th>\n",
       "      <td>ZpYIoDJMcFzVoPFsHGJL</td>\n",
       "      <td>banner</td>\n",
       "      <td>LEoPHuyFvzoNfnzGgfcd</td>\n",
       "      <td>vCIpmpaGBnIQhyYNkXqp</td>\n",
       "      <td>puhZPIYqKXeFPaUviSjo</td>\n",
       "      <td>mobile</td>\n",
       "      <td>Android</td>\n",
       "      <td>Huawei</td>\n",
       "      <td>Chrome</td>\n",
       "      <td>Krasnoyarsk</td>\n",
       "      <td>0</td>\n",
       "      <td>Tuesday</td>\n",
       "      <td>night</td>\n",
       "      <td>-0.26012</td>\n",
       "      <td>1.119588</td>\n",
       "      <td>-0.711961</td>\n",
       "      <td>0.357344</td>\n",
       "    </tr>\n",
       "    <tr>\n",
       "      <th>3</th>\n",
       "      <td>kjsLglQLzykiRbcDiGcD</td>\n",
       "      <td>cpc</td>\n",
       "      <td>UvuMsOSDBWQGOIbDbXfV</td>\n",
       "      <td>NOBKLgtuvqYWkXQHeYWM</td>\n",
       "      <td>puhZPIYqKXeFPaUviSjo</td>\n",
       "      <td>mobile</td>\n",
       "      <td>Android</td>\n",
       "      <td>Xiaomi</td>\n",
       "      <td>Chrome</td>\n",
       "      <td>Moscow</td>\n",
       "      <td>0</td>\n",
       "      <td>Saturday</td>\n",
       "      <td>night</td>\n",
       "      <td>-0.26012</td>\n",
       "      <td>-0.439447</td>\n",
       "      <td>-0.466333</td>\n",
       "      <td>0.357344</td>\n",
       "    </tr>\n",
       "    <tr>\n",
       "      <th>4</th>\n",
       "      <td>kjsLglQLzykiRbcDiGcD</td>\n",
       "      <td>cpc</td>\n",
       "      <td>FTjNLDyTrXaWYgZymFkV</td>\n",
       "      <td>xhoenQgDQsgfEPYNPwKO</td>\n",
       "      <td>puhZPIYqKXeFPaUviSjo</td>\n",
       "      <td>mobile</td>\n",
       "      <td>Android</td>\n",
       "      <td>Xiaomi</td>\n",
       "      <td>Chrome</td>\n",
       "      <td>Moscow</td>\n",
       "      <td>0</td>\n",
       "      <td>Saturday</td>\n",
       "      <td>night</td>\n",
       "      <td>-0.02238</td>\n",
       "      <td>-0.439447</td>\n",
       "      <td>-0.466333</td>\n",
       "      <td>0.357344</td>\n",
       "    </tr>\n",
       "    <tr>\n",
       "      <th>...</th>\n",
       "      <td>...</td>\n",
       "      <td>...</td>\n",
       "      <td>...</td>\n",
       "      <td>...</td>\n",
       "      <td>...</td>\n",
       "      <td>...</td>\n",
       "      <td>...</td>\n",
       "      <td>...</td>\n",
       "      <td>...</td>\n",
       "      <td>...</td>\n",
       "      <td>...</td>\n",
       "      <td>...</td>\n",
       "      <td>...</td>\n",
       "      <td>...</td>\n",
       "      <td>...</td>\n",
       "      <td>...</td>\n",
       "      <td>...</td>\n",
       "    </tr>\n",
       "    <tr>\n",
       "      <th>1860037</th>\n",
       "      <td>BHcvLfOaCWvWTykYqHVe</td>\n",
       "      <td>cpc</td>\n",
       "      <td>LTuZkdKfxRGVceoWkVyg</td>\n",
       "      <td>JNHcPlZPxEMWDnRiyoBf</td>\n",
       "      <td>VlqBmecIOXWjCWUmQkLd</td>\n",
       "      <td>desktop</td>\n",
       "      <td>Windows</td>\n",
       "      <td>(not set)</td>\n",
       "      <td>Chrome</td>\n",
       "      <td>Moscow</td>\n",
       "      <td>0</td>\n",
       "      <td>Wednesday</td>\n",
       "      <td>morning</td>\n",
       "      <td>-0.26012</td>\n",
       "      <td>-0.439447</td>\n",
       "      <td>2.199873</td>\n",
       "      <td>-1.840084</td>\n",
       "    </tr>\n",
       "    <tr>\n",
       "      <th>1860038</th>\n",
       "      <td>fDLlAcSmythWSCVMvqvL</td>\n",
       "      <td>(none)</td>\n",
       "      <td>LTuZkdKfxRGVceoWkVyg</td>\n",
       "      <td>JNHcPlZPxEMWDnRiyoBf</td>\n",
       "      <td>tVtbIKrPSOvrXLCznVVe</td>\n",
       "      <td>mobile</td>\n",
       "      <td>Android</td>\n",
       "      <td>Apple</td>\n",
       "      <td>Safari</td>\n",
       "      <td>Stavropol</td>\n",
       "      <td>0</td>\n",
       "      <td>Wednesday</td>\n",
       "      <td>morning</td>\n",
       "      <td>-0.26012</td>\n",
       "      <td>-0.113202</td>\n",
       "      <td>-0.377368</td>\n",
       "      <td>0.671263</td>\n",
       "    </tr>\n",
       "    <tr>\n",
       "      <th>1860039</th>\n",
       "      <td>fDLlAcSmythWSCVMvqvL</td>\n",
       "      <td>(none)</td>\n",
       "      <td>LTuZkdKfxRGVceoWkVyg</td>\n",
       "      <td>JNHcPlZPxEMWDnRiyoBf</td>\n",
       "      <td>puhZPIYqKXeFPaUviSjo</td>\n",
       "      <td>mobile</td>\n",
       "      <td>iOS</td>\n",
       "      <td>Apple</td>\n",
       "      <td>Safari</td>\n",
       "      <td>Moscow</td>\n",
       "      <td>0</td>\n",
       "      <td>Monday</td>\n",
       "      <td>afternoon</td>\n",
       "      <td>-0.26012</td>\n",
       "      <td>-0.439447</td>\n",
       "      <td>-0.761866</td>\n",
       "      <td>0.043426</td>\n",
       "    </tr>\n",
       "    <tr>\n",
       "      <th>1860040</th>\n",
       "      <td>ZpYIoDJMcFzVoPFsHGJL</td>\n",
       "      <td>banner</td>\n",
       "      <td>LEoPHuyFvzoNfnzGgfcd</td>\n",
       "      <td>JNHcPlZPxEMWDnRiyoBf</td>\n",
       "      <td>puhZPIYqKXeFPaUviSjo</td>\n",
       "      <td>mobile</td>\n",
       "      <td>Android</td>\n",
       "      <td>Xiaomi</td>\n",
       "      <td>Chrome</td>\n",
       "      <td>Chelyabinsk</td>\n",
       "      <td>0</td>\n",
       "      <td>Monday</td>\n",
       "      <td>afternoon</td>\n",
       "      <td>-0.26012</td>\n",
       "      <td>0.232705</td>\n",
       "      <td>-0.355072</td>\n",
       "      <td>0.671263</td>\n",
       "    </tr>\n",
       "    <tr>\n",
       "      <th>1860041</th>\n",
       "      <td>fgymSoTvjKPEgaIJqsiH</td>\n",
       "      <td>cpm</td>\n",
       "      <td>FTjNLDyTrXaWYgZymFkV</td>\n",
       "      <td>yYdBRbPmBMUZHXwqGxNx</td>\n",
       "      <td>oKjXDUsycmahkgMhGdAR</td>\n",
       "      <td>desktop</td>\n",
       "      <td>Linux</td>\n",
       "      <td>(not set)</td>\n",
       "      <td>Chrome</td>\n",
       "      <td>Moscow</td>\n",
       "      <td>0</td>\n",
       "      <td>Friday</td>\n",
       "      <td>evening</td>\n",
       "      <td>-0.26012</td>\n",
       "      <td>-0.439447</td>\n",
       "      <td>1.245760</td>\n",
       "      <td>-1.840084</td>\n",
       "    </tr>\n",
       "  </tbody>\n",
       "</table>\n",
       "<p>1732229 rows × 17 columns</p>\n",
       "</div>"
      ],
      "text/plain": [
       "                   utm_source utm_medium          utm_campaign  \\\n",
       "0        ZpYIoDJMcFzVoPFsHGJL     banner  LEoPHuyFvzoNfnzGgfcd   \n",
       "1        MvfHsxITijuriZxsqZqt        cpm  FTjNLDyTrXaWYgZymFkV   \n",
       "2        ZpYIoDJMcFzVoPFsHGJL     banner  LEoPHuyFvzoNfnzGgfcd   \n",
       "3        kjsLglQLzykiRbcDiGcD        cpc  UvuMsOSDBWQGOIbDbXfV   \n",
       "4        kjsLglQLzykiRbcDiGcD        cpc  FTjNLDyTrXaWYgZymFkV   \n",
       "...                       ...        ...                   ...   \n",
       "1860037  BHcvLfOaCWvWTykYqHVe        cpc  LTuZkdKfxRGVceoWkVyg   \n",
       "1860038  fDLlAcSmythWSCVMvqvL     (none)  LTuZkdKfxRGVceoWkVyg   \n",
       "1860039  fDLlAcSmythWSCVMvqvL     (none)  LTuZkdKfxRGVceoWkVyg   \n",
       "1860040  ZpYIoDJMcFzVoPFsHGJL     banner  LEoPHuyFvzoNfnzGgfcd   \n",
       "1860041  fgymSoTvjKPEgaIJqsiH        cpm  FTjNLDyTrXaWYgZymFkV   \n",
       "\n",
       "                utm_adcontent           utm_keyword device_category device_os  \\\n",
       "0        vCIpmpaGBnIQhyYNkXqp  puhZPIYqKXeFPaUviSjo          mobile   Android   \n",
       "1        xhoenQgDQsgfEPYNPwKO  IGUCNvHlhfHpROGclCit          mobile   Android   \n",
       "2        vCIpmpaGBnIQhyYNkXqp  puhZPIYqKXeFPaUviSjo          mobile   Android   \n",
       "3        NOBKLgtuvqYWkXQHeYWM  puhZPIYqKXeFPaUviSjo          mobile   Android   \n",
       "4        xhoenQgDQsgfEPYNPwKO  puhZPIYqKXeFPaUviSjo          mobile   Android   \n",
       "...                       ...                   ...             ...       ...   \n",
       "1860037  JNHcPlZPxEMWDnRiyoBf  VlqBmecIOXWjCWUmQkLd         desktop   Windows   \n",
       "1860038  JNHcPlZPxEMWDnRiyoBf  tVtbIKrPSOvrXLCznVVe          mobile   Android   \n",
       "1860039  JNHcPlZPxEMWDnRiyoBf  puhZPIYqKXeFPaUviSjo          mobile       iOS   \n",
       "1860040  JNHcPlZPxEMWDnRiyoBf  puhZPIYqKXeFPaUviSjo          mobile   Android   \n",
       "1860041  yYdBRbPmBMUZHXwqGxNx  oKjXDUsycmahkgMhGdAR         desktop     Linux   \n",
       "\n",
       "        device_brand device_browser     geo_city  target_action  dayofweek  \\\n",
       "0             Huawei         Chrome     Zlatoust              0  Wednesday   \n",
       "1            Samsung        Samsung       Moscow              0     Sunday   \n",
       "2             Huawei         Chrome  Krasnoyarsk              0    Tuesday   \n",
       "3             Xiaomi         Chrome       Moscow              0   Saturday   \n",
       "4             Xiaomi         Chrome       Moscow              0   Saturday   \n",
       "...              ...            ...          ...            ...        ...   \n",
       "1860037    (not set)         Chrome       Moscow              0  Wednesday   \n",
       "1860038        Apple         Safari    Stavropol              0  Wednesday   \n",
       "1860039        Apple         Safari       Moscow              0     Monday   \n",
       "1860040       Xiaomi         Chrome  Chelyabinsk              0     Monday   \n",
       "1860041    (not set)         Chrome       Moscow              0     Friday   \n",
       "\n",
       "           daytime  visit_number_std  dist_to_msk_std  pixels_std  \\\n",
       "0        afternoon          -0.26012         0.182531   -0.711961   \n",
       "1          morning          -0.26012        -0.439447   -0.378943   \n",
       "2            night          -0.26012         1.119588   -0.711961   \n",
       "3            night          -0.26012        -0.439447   -0.466333   \n",
       "4            night          -0.02238        -0.439447   -0.466333   \n",
       "...            ...               ...              ...         ...   \n",
       "1860037    morning          -0.26012        -0.439447    2.199873   \n",
       "1860038    morning          -0.26012        -0.113202   -0.377368   \n",
       "1860039  afternoon          -0.26012        -0.439447   -0.761866   \n",
       "1860040  afternoon          -0.26012         0.232705   -0.355072   \n",
       "1860041    evening          -0.26012        -0.439447    1.245760   \n",
       "\n",
       "         screen_aspect_std  \n",
       "0                 0.357344  \n",
       "1                 0.671263  \n",
       "2                 0.357344  \n",
       "3                 0.357344  \n",
       "4                 0.357344  \n",
       "...                    ...  \n",
       "1860037          -1.840084  \n",
       "1860038           0.671263  \n",
       "1860039           0.043426  \n",
       "1860040           0.671263  \n",
       "1860041          -1.840084  \n",
       "\n",
       "[1732229 rows x 17 columns]"
      ]
     },
     "execution_count": 139,
     "metadata": {},
     "output_type": "execute_result"
    }
   ],
   "source": [
    "df[feat_title] = scaled\n",
    "df.drop(columns=num_feat.columns, inplace=True)\n",
    "df"
   ]
  },
  {
   "cell_type": "code",
   "execution_count": 140,
   "id": "afe74059-1842-4a2d-b590-672c90452579",
   "metadata": {},
   "outputs": [],
   "source": [
    "df_norm = df.copy()"
   ]
  },
  {
   "cell_type": "markdown",
   "id": "cc872849-f172-4f46-b513-7ed2a22f8396",
   "metadata": {},
   "source": [
    "Для дальнешего применения в моделях нам понадобится 2 типа кодирования категорий:\n",
    "* Label Encoder\n",
    "* One Hot Encoder"
   ]
  },
  {
   "cell_type": "markdown",
   "id": "68cd4ec7-2811-468f-8938-99f2750480f3",
   "metadata": {
    "tags": []
   },
   "source": [
    "## Categorial encoding - OHE"
   ]
  },
  {
   "cell_type": "code",
   "execution_count": 141,
   "id": "3b5194b9-aa7b-4eaa-adcd-5c4ba3cc44cf",
   "metadata": {},
   "outputs": [],
   "source": [
    "df = df_norm.copy()"
   ]
  },
  {
   "cell_type": "code",
   "execution_count": 142,
   "id": "0b0fef2b-d382-40ae-8803-f2361b0ca9ad",
   "metadata": {},
   "outputs": [
    {
     "data": {
      "text/plain": [
       "Index(['utm_source', 'utm_medium', 'utm_campaign', 'utm_adcontent',\n",
       "       'utm_keyword', 'device_category', 'device_os', 'device_brand',\n",
       "       'device_browser', 'geo_city', 'target_action', 'dayofweek', 'daytime',\n",
       "       'visit_number_std', 'dist_to_msk_std', 'pixels_std',\n",
       "       'screen_aspect_std'],\n",
       "      dtype='object')"
      ]
     },
     "execution_count": 142,
     "metadata": {},
     "output_type": "execute_result"
    }
   ],
   "source": [
    "df.columns"
   ]
  },
  {
   "cell_type": "code",
   "execution_count": 136,
   "id": "1fa7a441-c473-4b0e-8bfb-61cf300b067f",
   "metadata": {},
   "outputs": [],
   "source": [
    "# заменим в категориальных фичах все '(not set)' и '(none)' значением 'other' \n",
    "# for feat in df.columns:\n",
    "#     df[feat] = df[feat].mask(\n",
    "#         lambda x: x.isin(('(not set)', '(none)')),\n",
    "#         'other'\n",
    "#     )"
   ]
  },
  {
   "cell_type": "code",
   "execution_count": 143,
   "id": "99f69cff-eb08-44a6-a5f4-96324b5c58e3",
   "metadata": {},
   "outputs": [],
   "source": [
    "cat_feat = df[['utm_source', 'utm_medium', 'utm_campaign', 'utm_adcontent',\n",
    "       'utm_keyword', 'device_category', 'device_os', 'device_brand',\n",
    "       'device_browser', 'geo_city', 'dayofweek', 'daytime',\n",
    "       ]].astype('category')"
   ]
  },
  {
   "cell_type": "code",
   "execution_count": 144,
   "id": "40dad5f8-aa89-4bf4-9b8f-533e0341b28e",
   "metadata": {},
   "outputs": [
    {
     "name": "stdout",
     "output_type": "stream",
     "text": [
      "Общее кол-во категориальных фичей после OHE:  4838\n"
     ]
    }
   ],
   "source": [
    "print('Общее кол-во категориальных фичей после OHE: ',\n",
    "      sum([len(cat_feat[col].dtype.categories) for col in cat_feat.columns])\n",
    "     )"
   ]
  },
  {
   "cell_type": "raw",
   "id": "54df8123-dee5-4ed0-b2af-947d829d2d9b",
   "metadata": {},
   "source": [
    "Количество категорий слишком большое для доступных вычислительных мощностей.\n",
    "Подготовим функцию, которая заменяет категории на 'other', \n",
    "если кол-во целевых действий для этой категории не превышает пороговое значение (например 2)\n",
    "(способ уменьшить количество категорий)"
   ]
  },
  {
   "cell_type": "code",
   "execution_count": 145,
   "id": "61186ad0-22b7-4317-9462-0378a61821c4",
   "metadata": {},
   "outputs": [],
   "source": [
    "def replace_unimportant(\n",
    "                data: pd.DataFrame, \n",
    "                target: str = 'target_action', \n",
    "                columns: list = None, \n",
    "                trsh: int = 0\n",
    "            ) -> pd.DataFrame:\n",
    "    \"\"\"replace values with 'other', wether values didn't lead to target action\"\"\"\n",
    "    \n",
    "    columns = data.columns if columns is None else columns \n",
    "    for col in columns:\n",
    "        index_set = {k\n",
    "                     for k, v in data.groupby(by=col)[target].sum().items()\n",
    "                     if v > trsh}\n",
    "        data[col] = data[col].where(data[col].isin(index_set), 'other')\n",
    "    return data"
   ]
  },
  {
   "cell_type": "code",
   "execution_count": 146,
   "id": "0afc10f1-eada-4df2-bf27-51e23cc297c6",
   "metadata": {},
   "outputs": [],
   "source": [
    "df2 = replace_unimportant(df, columns=cat_feat.columns, trsh=2)"
   ]
  },
  {
   "cell_type": "code",
   "execution_count": 147,
   "id": "d9cdb8b5-8519-4632-96fb-8fd46d559eb5",
   "metadata": {},
   "outputs": [],
   "source": [
    "cat_feat = df2[['utm_source', 'utm_medium', 'utm_campaign', 'utm_adcontent',\n",
    "       'utm_keyword', 'device_category', 'device_os', 'device_brand',\n",
    "       'device_browser', 'geo_city', 'dayofweek', 'daytime',\n",
    "       ]].astype('category')"
   ]
  },
  {
   "cell_type": "code",
   "execution_count": 148,
   "id": "2d53d899-fad3-4bba-b444-39e59a8eb888",
   "metadata": {},
   "outputs": [
    {
     "name": "stdout",
     "output_type": "stream",
     "text": [
      "Общее кол-во категориальных фичей после OHE:  1107\n"
     ]
    }
   ],
   "source": [
    "print('Общее кол-во категориальных фичей после OHE: ',\n",
    "      sum([len(cat_feat[col].dtype.categories) for col in cat_feat.columns])\n",
    "     )"
   ]
  },
  {
   "cell_type": "code",
   "execution_count": 149,
   "id": "35543fc5-eb5f-413a-a8be-5b5b5ce0085f",
   "metadata": {},
   "outputs": [
    {
     "data": {
      "text/html": [
       "<style>#sk-container-id-2 {color: black;background-color: white;}#sk-container-id-2 pre{padding: 0;}#sk-container-id-2 div.sk-toggleable {background-color: white;}#sk-container-id-2 label.sk-toggleable__label {cursor: pointer;display: block;width: 100%;margin-bottom: 0;padding: 0.3em;box-sizing: border-box;text-align: center;}#sk-container-id-2 label.sk-toggleable__label-arrow:before {content: \"▸\";float: left;margin-right: 0.25em;color: #696969;}#sk-container-id-2 label.sk-toggleable__label-arrow:hover:before {color: black;}#sk-container-id-2 div.sk-estimator:hover label.sk-toggleable__label-arrow:before {color: black;}#sk-container-id-2 div.sk-toggleable__content {max-height: 0;max-width: 0;overflow: hidden;text-align: left;background-color: #f0f8ff;}#sk-container-id-2 div.sk-toggleable__content pre {margin: 0.2em;color: black;border-radius: 0.25em;background-color: #f0f8ff;}#sk-container-id-2 input.sk-toggleable__control:checked~div.sk-toggleable__content {max-height: 200px;max-width: 100%;overflow: auto;}#sk-container-id-2 input.sk-toggleable__control:checked~label.sk-toggleable__label-arrow:before {content: \"▾\";}#sk-container-id-2 div.sk-estimator input.sk-toggleable__control:checked~label.sk-toggleable__label {background-color: #d4ebff;}#sk-container-id-2 div.sk-label input.sk-toggleable__control:checked~label.sk-toggleable__label {background-color: #d4ebff;}#sk-container-id-2 input.sk-hidden--visually {border: 0;clip: rect(1px 1px 1px 1px);clip: rect(1px, 1px, 1px, 1px);height: 1px;margin: -1px;overflow: hidden;padding: 0;position: absolute;width: 1px;}#sk-container-id-2 div.sk-estimator {font-family: monospace;background-color: #f0f8ff;border: 1px dotted black;border-radius: 0.25em;box-sizing: border-box;margin-bottom: 0.5em;}#sk-container-id-2 div.sk-estimator:hover {background-color: #d4ebff;}#sk-container-id-2 div.sk-parallel-item::after {content: \"\";width: 100%;border-bottom: 1px solid gray;flex-grow: 1;}#sk-container-id-2 div.sk-label:hover label.sk-toggleable__label {background-color: #d4ebff;}#sk-container-id-2 div.sk-serial::before {content: \"\";position: absolute;border-left: 1px solid gray;box-sizing: border-box;top: 0;bottom: 0;left: 50%;z-index: 0;}#sk-container-id-2 div.sk-serial {display: flex;flex-direction: column;align-items: center;background-color: white;padding-right: 0.2em;padding-left: 0.2em;position: relative;}#sk-container-id-2 div.sk-item {position: relative;z-index: 1;}#sk-container-id-2 div.sk-parallel {display: flex;align-items: stretch;justify-content: center;background-color: white;position: relative;}#sk-container-id-2 div.sk-item::before, #sk-container-id-2 div.sk-parallel-item::before {content: \"\";position: absolute;border-left: 1px solid gray;box-sizing: border-box;top: 0;bottom: 0;left: 50%;z-index: -1;}#sk-container-id-2 div.sk-parallel-item {display: flex;flex-direction: column;z-index: 1;position: relative;background-color: white;}#sk-container-id-2 div.sk-parallel-item:first-child::after {align-self: flex-end;width: 50%;}#sk-container-id-2 div.sk-parallel-item:last-child::after {align-self: flex-start;width: 50%;}#sk-container-id-2 div.sk-parallel-item:only-child::after {width: 0;}#sk-container-id-2 div.sk-dashed-wrapped {border: 1px dashed gray;margin: 0 0.4em 0.5em 0.4em;box-sizing: border-box;padding-bottom: 0.4em;background-color: white;}#sk-container-id-2 div.sk-label label {font-family: monospace;font-weight: bold;display: inline-block;line-height: 1.2em;}#sk-container-id-2 div.sk-label-container {text-align: center;}#sk-container-id-2 div.sk-container {/* jupyter's `normalize.less` sets `[hidden] { display: none; }` but bootstrap.min.css set `[hidden] { display: none !important; }` so we also need the `!important` here to be able to override the default hidden behavior on the sphinx rendered scikit-learn.org. See: https://github.com/scikit-learn/scikit-learn/issues/21755 */display: inline-block !important;position: relative;}#sk-container-id-2 div.sk-text-repr-fallback {display: none;}</style><div id=\"sk-container-id-2\" class=\"sk-top-container\"><div class=\"sk-text-repr-fallback\"><pre>OneHotEncoder(handle_unknown=&#x27;ignore&#x27;, sparse_output=False)</pre><b>In a Jupyter environment, please rerun this cell to show the HTML representation or trust the notebook. <br />On GitHub, the HTML representation is unable to render, please try loading this page with nbviewer.org.</b></div><div class=\"sk-container\" hidden><div class=\"sk-item\"><div class=\"sk-estimator sk-toggleable\"><input class=\"sk-toggleable__control sk-hidden--visually\" id=\"sk-estimator-id-2\" type=\"checkbox\" checked><label for=\"sk-estimator-id-2\" class=\"sk-toggleable__label sk-toggleable__label-arrow\">OneHotEncoder</label><div class=\"sk-toggleable__content\"><pre>OneHotEncoder(handle_unknown=&#x27;ignore&#x27;, sparse_output=False)</pre></div></div></div></div></div>"
      ],
      "text/plain": [
       "OneHotEncoder(handle_unknown='ignore', sparse_output=False)"
      ]
     },
     "execution_count": 149,
     "metadata": {},
     "output_type": "execute_result"
    }
   ],
   "source": [
    "ohe = OneHotEncoder(sparse_output=False, handle_unknown='ignore')\n",
    "ohe.fit(cat_feat)"
   ]
  },
  {
   "cell_type": "code",
   "execution_count": 150,
   "id": "ada61987-1200-44ed-b975-2e9c5fd2afe2",
   "metadata": {},
   "outputs": [
    {
     "data": {
      "text/plain": [
       "array([[0., 0., 0., ..., 0., 0., 0.],\n",
       "       [0., 0., 0., ..., 0., 1., 0.],\n",
       "       [0., 0., 0., ..., 0., 0., 1.],\n",
       "       ...,\n",
       "       [0., 0., 0., ..., 0., 0., 0.],\n",
       "       [0., 0., 0., ..., 0., 0., 0.],\n",
       "       [0., 0., 0., ..., 1., 0., 0.]])"
      ]
     },
     "execution_count": 150,
     "metadata": {},
     "output_type": "execute_result"
    }
   ],
   "source": [
    "ohe_cat = ohe.transform(cat_feat)\n",
    "ohe_cat"
   ]
  },
  {
   "cell_type": "code",
   "execution_count": 151,
   "id": "d181b113-3f8e-4573-b57a-4e21f3f04d4a",
   "metadata": {},
   "outputs": [
    {
     "data": {
      "text/plain": [
       "array(['utm_source_BHcvLfOaCWvWTykYqHVe',\n",
       "       'utm_source_BKeImrJuRDZcHiSSTdzm',\n",
       "       'utm_source_DlnuGwaJBHGNEKdWfOpe',\n",
       "       'utm_source_DnEUulZAecfGPvdtZBYS',\n",
       "       'utm_source_FTAuYVNoYYxgvKMpKSLW',\n",
       "       'utm_source_GmILPdZyuAVJCPsUBHeN',\n",
       "       'utm_source_GpAkIXsclxDGyILfNlrR',\n",
       "       'utm_source_HFaOtpcChAlcMuxEAlpu',\n",
       "       'utm_source_HbolMJUevblAbkHClEQa',\n",
       "       'utm_source_ISrKoXQCxqqYvAZICvjs'], dtype=object)"
      ]
     },
     "execution_count": 151,
     "metadata": {},
     "output_type": "execute_result"
    }
   ],
   "source": [
    "ohe.get_feature_names_out()[:10]"
   ]
  },
  {
   "cell_type": "code",
   "execution_count": 152,
   "id": "6a7fc14a-64c1-45c6-9be3-4a9231302499",
   "metadata": {},
   "outputs": [
    {
     "data": {
      "text/plain": [
       "['data/ohe.pkl']"
      ]
     },
     "execution_count": 152,
     "metadata": {},
     "output_type": "execute_result"
    }
   ],
   "source": [
    "# сохраним параметры преобразования в pickle\n",
    "joblib.dump(ohe, 'data/ohe.pkl')"
   ]
  },
  {
   "cell_type": "code",
   "execution_count": 153,
   "id": "e4b5d901-fab1-4799-b9be-27d2ce58a793",
   "metadata": {},
   "outputs": [
    {
     "data": {
      "text/plain": [
       "Index(['target_action', 'visit_number_std', 'dist_to_msk_std', 'pixels_std',\n",
       "       'screen_aspect_std', 'utm_source_BHcvLfOaCWvWTykYqHVe',\n",
       "       'utm_source_BKeImrJuRDZcHiSSTdzm', 'utm_source_DlnuGwaJBHGNEKdWfOpe',\n",
       "       'utm_source_DnEUulZAecfGPvdtZBYS', 'utm_source_FTAuYVNoYYxgvKMpKSLW',\n",
       "       ...\n",
       "       'dayofweek_Monday', 'dayofweek_Saturday', 'dayofweek_Sunday',\n",
       "       'dayofweek_Thursday', 'dayofweek_Tuesday', 'dayofweek_Wednesday',\n",
       "       'daytime_afternoon', 'daytime_evening', 'daytime_morning',\n",
       "       'daytime_night'],\n",
       "      dtype='object', length=1112)"
      ]
     },
     "execution_count": 153,
     "metadata": {},
     "output_type": "execute_result"
    }
   ],
   "source": [
    "df_result = pd.concat([df2.drop(columns=cat_feat.columns),\n",
    "                       pd.DataFrame(index=df2.index,\n",
    "                                    data=ohe_cat,\n",
    "                                    columns=ohe.get_feature_names_out()\n",
    "                                   )\n",
    "                      ],\n",
    "                      axis=1\n",
    ")\n",
    "df_result.columns"
   ]
  },
  {
   "cell_type": "code",
   "execution_count": 154,
   "id": "7eb050a5-2b4b-4072-8e4f-31ebdffc5dcf",
   "metadata": {},
   "outputs": [
    {
     "data": {
      "text/html": [
       "<div>\n",
       "<style scoped>\n",
       "    .dataframe tbody tr th:only-of-type {\n",
       "        vertical-align: middle;\n",
       "    }\n",
       "\n",
       "    .dataframe tbody tr th {\n",
       "        vertical-align: top;\n",
       "    }\n",
       "\n",
       "    .dataframe thead th {\n",
       "        text-align: right;\n",
       "    }\n",
       "</style>\n",
       "<table border=\"1\" class=\"dataframe\">\n",
       "  <thead>\n",
       "    <tr style=\"text-align: right;\">\n",
       "      <th></th>\n",
       "      <th>target_action</th>\n",
       "      <th>visit_number_std</th>\n",
       "      <th>dist_to_msk_std</th>\n",
       "      <th>pixels_std</th>\n",
       "      <th>screen_aspect_std</th>\n",
       "      <th>utm_source_BHcvLfOaCWvWTykYqHVe</th>\n",
       "      <th>utm_source_BKeImrJuRDZcHiSSTdzm</th>\n",
       "      <th>utm_source_DlnuGwaJBHGNEKdWfOpe</th>\n",
       "      <th>utm_source_DnEUulZAecfGPvdtZBYS</th>\n",
       "      <th>utm_source_FTAuYVNoYYxgvKMpKSLW</th>\n",
       "      <th>...</th>\n",
       "      <th>dayofweek_Monday</th>\n",
       "      <th>dayofweek_Saturday</th>\n",
       "      <th>dayofweek_Sunday</th>\n",
       "      <th>dayofweek_Thursday</th>\n",
       "      <th>dayofweek_Tuesday</th>\n",
       "      <th>dayofweek_Wednesday</th>\n",
       "      <th>daytime_afternoon</th>\n",
       "      <th>daytime_evening</th>\n",
       "      <th>daytime_morning</th>\n",
       "      <th>daytime_night</th>\n",
       "    </tr>\n",
       "  </thead>\n",
       "  <tbody>\n",
       "    <tr>\n",
       "      <th>0</th>\n",
       "      <td>0</td>\n",
       "      <td>-0.26012</td>\n",
       "      <td>0.182531</td>\n",
       "      <td>-0.711961</td>\n",
       "      <td>0.357344</td>\n",
       "      <td>0.0</td>\n",
       "      <td>0.0</td>\n",
       "      <td>0.0</td>\n",
       "      <td>0.0</td>\n",
       "      <td>0.0</td>\n",
       "      <td>...</td>\n",
       "      <td>0.0</td>\n",
       "      <td>0.0</td>\n",
       "      <td>0.0</td>\n",
       "      <td>0.0</td>\n",
       "      <td>0.0</td>\n",
       "      <td>1.0</td>\n",
       "      <td>1.0</td>\n",
       "      <td>0.0</td>\n",
       "      <td>0.0</td>\n",
       "      <td>0.0</td>\n",
       "    </tr>\n",
       "    <tr>\n",
       "      <th>1</th>\n",
       "      <td>0</td>\n",
       "      <td>-0.26012</td>\n",
       "      <td>-0.439447</td>\n",
       "      <td>-0.378943</td>\n",
       "      <td>0.671263</td>\n",
       "      <td>0.0</td>\n",
       "      <td>0.0</td>\n",
       "      <td>0.0</td>\n",
       "      <td>0.0</td>\n",
       "      <td>0.0</td>\n",
       "      <td>...</td>\n",
       "      <td>0.0</td>\n",
       "      <td>0.0</td>\n",
       "      <td>1.0</td>\n",
       "      <td>0.0</td>\n",
       "      <td>0.0</td>\n",
       "      <td>0.0</td>\n",
       "      <td>0.0</td>\n",
       "      <td>0.0</td>\n",
       "      <td>1.0</td>\n",
       "      <td>0.0</td>\n",
       "    </tr>\n",
       "    <tr>\n",
       "      <th>2</th>\n",
       "      <td>0</td>\n",
       "      <td>-0.26012</td>\n",
       "      <td>1.119588</td>\n",
       "      <td>-0.711961</td>\n",
       "      <td>0.357344</td>\n",
       "      <td>0.0</td>\n",
       "      <td>0.0</td>\n",
       "      <td>0.0</td>\n",
       "      <td>0.0</td>\n",
       "      <td>0.0</td>\n",
       "      <td>...</td>\n",
       "      <td>0.0</td>\n",
       "      <td>0.0</td>\n",
       "      <td>0.0</td>\n",
       "      <td>0.0</td>\n",
       "      <td>1.0</td>\n",
       "      <td>0.0</td>\n",
       "      <td>0.0</td>\n",
       "      <td>0.0</td>\n",
       "      <td>0.0</td>\n",
       "      <td>1.0</td>\n",
       "    </tr>\n",
       "    <tr>\n",
       "      <th>3</th>\n",
       "      <td>0</td>\n",
       "      <td>-0.26012</td>\n",
       "      <td>-0.439447</td>\n",
       "      <td>-0.466333</td>\n",
       "      <td>0.357344</td>\n",
       "      <td>0.0</td>\n",
       "      <td>0.0</td>\n",
       "      <td>0.0</td>\n",
       "      <td>0.0</td>\n",
       "      <td>0.0</td>\n",
       "      <td>...</td>\n",
       "      <td>0.0</td>\n",
       "      <td>1.0</td>\n",
       "      <td>0.0</td>\n",
       "      <td>0.0</td>\n",
       "      <td>0.0</td>\n",
       "      <td>0.0</td>\n",
       "      <td>0.0</td>\n",
       "      <td>0.0</td>\n",
       "      <td>0.0</td>\n",
       "      <td>1.0</td>\n",
       "    </tr>\n",
       "    <tr>\n",
       "      <th>4</th>\n",
       "      <td>0</td>\n",
       "      <td>-0.02238</td>\n",
       "      <td>-0.439447</td>\n",
       "      <td>-0.466333</td>\n",
       "      <td>0.357344</td>\n",
       "      <td>0.0</td>\n",
       "      <td>0.0</td>\n",
       "      <td>0.0</td>\n",
       "      <td>0.0</td>\n",
       "      <td>0.0</td>\n",
       "      <td>...</td>\n",
       "      <td>0.0</td>\n",
       "      <td>1.0</td>\n",
       "      <td>0.0</td>\n",
       "      <td>0.0</td>\n",
       "      <td>0.0</td>\n",
       "      <td>0.0</td>\n",
       "      <td>0.0</td>\n",
       "      <td>0.0</td>\n",
       "      <td>0.0</td>\n",
       "      <td>1.0</td>\n",
       "    </tr>\n",
       "    <tr>\n",
       "      <th>...</th>\n",
       "      <td>...</td>\n",
       "      <td>...</td>\n",
       "      <td>...</td>\n",
       "      <td>...</td>\n",
       "      <td>...</td>\n",
       "      <td>...</td>\n",
       "      <td>...</td>\n",
       "      <td>...</td>\n",
       "      <td>...</td>\n",
       "      <td>...</td>\n",
       "      <td>...</td>\n",
       "      <td>...</td>\n",
       "      <td>...</td>\n",
       "      <td>...</td>\n",
       "      <td>...</td>\n",
       "      <td>...</td>\n",
       "      <td>...</td>\n",
       "      <td>...</td>\n",
       "      <td>...</td>\n",
       "      <td>...</td>\n",
       "      <td>...</td>\n",
       "    </tr>\n",
       "    <tr>\n",
       "      <th>1860037</th>\n",
       "      <td>0</td>\n",
       "      <td>-0.26012</td>\n",
       "      <td>-0.439447</td>\n",
       "      <td>2.199873</td>\n",
       "      <td>-1.840084</td>\n",
       "      <td>1.0</td>\n",
       "      <td>0.0</td>\n",
       "      <td>0.0</td>\n",
       "      <td>0.0</td>\n",
       "      <td>0.0</td>\n",
       "      <td>...</td>\n",
       "      <td>0.0</td>\n",
       "      <td>0.0</td>\n",
       "      <td>0.0</td>\n",
       "      <td>0.0</td>\n",
       "      <td>0.0</td>\n",
       "      <td>1.0</td>\n",
       "      <td>0.0</td>\n",
       "      <td>0.0</td>\n",
       "      <td>1.0</td>\n",
       "      <td>0.0</td>\n",
       "    </tr>\n",
       "    <tr>\n",
       "      <th>1860038</th>\n",
       "      <td>0</td>\n",
       "      <td>-0.26012</td>\n",
       "      <td>-0.113202</td>\n",
       "      <td>-0.377368</td>\n",
       "      <td>0.671263</td>\n",
       "      <td>0.0</td>\n",
       "      <td>0.0</td>\n",
       "      <td>0.0</td>\n",
       "      <td>0.0</td>\n",
       "      <td>0.0</td>\n",
       "      <td>...</td>\n",
       "      <td>0.0</td>\n",
       "      <td>0.0</td>\n",
       "      <td>0.0</td>\n",
       "      <td>0.0</td>\n",
       "      <td>0.0</td>\n",
       "      <td>1.0</td>\n",
       "      <td>0.0</td>\n",
       "      <td>0.0</td>\n",
       "      <td>1.0</td>\n",
       "      <td>0.0</td>\n",
       "    </tr>\n",
       "    <tr>\n",
       "      <th>1860039</th>\n",
       "      <td>0</td>\n",
       "      <td>-0.26012</td>\n",
       "      <td>-0.439447</td>\n",
       "      <td>-0.761866</td>\n",
       "      <td>0.043426</td>\n",
       "      <td>0.0</td>\n",
       "      <td>0.0</td>\n",
       "      <td>0.0</td>\n",
       "      <td>0.0</td>\n",
       "      <td>0.0</td>\n",
       "      <td>...</td>\n",
       "      <td>1.0</td>\n",
       "      <td>0.0</td>\n",
       "      <td>0.0</td>\n",
       "      <td>0.0</td>\n",
       "      <td>0.0</td>\n",
       "      <td>0.0</td>\n",
       "      <td>1.0</td>\n",
       "      <td>0.0</td>\n",
       "      <td>0.0</td>\n",
       "      <td>0.0</td>\n",
       "    </tr>\n",
       "    <tr>\n",
       "      <th>1860040</th>\n",
       "      <td>0</td>\n",
       "      <td>-0.26012</td>\n",
       "      <td>0.232705</td>\n",
       "      <td>-0.355072</td>\n",
       "      <td>0.671263</td>\n",
       "      <td>0.0</td>\n",
       "      <td>0.0</td>\n",
       "      <td>0.0</td>\n",
       "      <td>0.0</td>\n",
       "      <td>0.0</td>\n",
       "      <td>...</td>\n",
       "      <td>1.0</td>\n",
       "      <td>0.0</td>\n",
       "      <td>0.0</td>\n",
       "      <td>0.0</td>\n",
       "      <td>0.0</td>\n",
       "      <td>0.0</td>\n",
       "      <td>1.0</td>\n",
       "      <td>0.0</td>\n",
       "      <td>0.0</td>\n",
       "      <td>0.0</td>\n",
       "    </tr>\n",
       "    <tr>\n",
       "      <th>1860041</th>\n",
       "      <td>0</td>\n",
       "      <td>-0.26012</td>\n",
       "      <td>-0.439447</td>\n",
       "      <td>1.245760</td>\n",
       "      <td>-1.840084</td>\n",
       "      <td>0.0</td>\n",
       "      <td>0.0</td>\n",
       "      <td>0.0</td>\n",
       "      <td>0.0</td>\n",
       "      <td>0.0</td>\n",
       "      <td>...</td>\n",
       "      <td>0.0</td>\n",
       "      <td>0.0</td>\n",
       "      <td>0.0</td>\n",
       "      <td>0.0</td>\n",
       "      <td>0.0</td>\n",
       "      <td>0.0</td>\n",
       "      <td>0.0</td>\n",
       "      <td>1.0</td>\n",
       "      <td>0.0</td>\n",
       "      <td>0.0</td>\n",
       "    </tr>\n",
       "  </tbody>\n",
       "</table>\n",
       "<p>1732229 rows × 1112 columns</p>\n",
       "</div>"
      ],
      "text/plain": [
       "         target_action  visit_number_std  dist_to_msk_std  pixels_std  \\\n",
       "0                    0          -0.26012         0.182531   -0.711961   \n",
       "1                    0          -0.26012        -0.439447   -0.378943   \n",
       "2                    0          -0.26012         1.119588   -0.711961   \n",
       "3                    0          -0.26012        -0.439447   -0.466333   \n",
       "4                    0          -0.02238        -0.439447   -0.466333   \n",
       "...                ...               ...              ...         ...   \n",
       "1860037              0          -0.26012        -0.439447    2.199873   \n",
       "1860038              0          -0.26012        -0.113202   -0.377368   \n",
       "1860039              0          -0.26012        -0.439447   -0.761866   \n",
       "1860040              0          -0.26012         0.232705   -0.355072   \n",
       "1860041              0          -0.26012        -0.439447    1.245760   \n",
       "\n",
       "         screen_aspect_std  utm_source_BHcvLfOaCWvWTykYqHVe  \\\n",
       "0                 0.357344                              0.0   \n",
       "1                 0.671263                              0.0   \n",
       "2                 0.357344                              0.0   \n",
       "3                 0.357344                              0.0   \n",
       "4                 0.357344                              0.0   \n",
       "...                    ...                              ...   \n",
       "1860037          -1.840084                              1.0   \n",
       "1860038           0.671263                              0.0   \n",
       "1860039           0.043426                              0.0   \n",
       "1860040           0.671263                              0.0   \n",
       "1860041          -1.840084                              0.0   \n",
       "\n",
       "         utm_source_BKeImrJuRDZcHiSSTdzm  utm_source_DlnuGwaJBHGNEKdWfOpe  \\\n",
       "0                                    0.0                              0.0   \n",
       "1                                    0.0                              0.0   \n",
       "2                                    0.0                              0.0   \n",
       "3                                    0.0                              0.0   \n",
       "4                                    0.0                              0.0   \n",
       "...                                  ...                              ...   \n",
       "1860037                              0.0                              0.0   \n",
       "1860038                              0.0                              0.0   \n",
       "1860039                              0.0                              0.0   \n",
       "1860040                              0.0                              0.0   \n",
       "1860041                              0.0                              0.0   \n",
       "\n",
       "         utm_source_DnEUulZAecfGPvdtZBYS  utm_source_FTAuYVNoYYxgvKMpKSLW  \\\n",
       "0                                    0.0                              0.0   \n",
       "1                                    0.0                              0.0   \n",
       "2                                    0.0                              0.0   \n",
       "3                                    0.0                              0.0   \n",
       "4                                    0.0                              0.0   \n",
       "...                                  ...                              ...   \n",
       "1860037                              0.0                              0.0   \n",
       "1860038                              0.0                              0.0   \n",
       "1860039                              0.0                              0.0   \n",
       "1860040                              0.0                              0.0   \n",
       "1860041                              0.0                              0.0   \n",
       "\n",
       "         ...  dayofweek_Monday  dayofweek_Saturday  dayofweek_Sunday  \\\n",
       "0        ...               0.0                 0.0               0.0   \n",
       "1        ...               0.0                 0.0               1.0   \n",
       "2        ...               0.0                 0.0               0.0   \n",
       "3        ...               0.0                 1.0               0.0   \n",
       "4        ...               0.0                 1.0               0.0   \n",
       "...      ...               ...                 ...               ...   \n",
       "1860037  ...               0.0                 0.0               0.0   \n",
       "1860038  ...               0.0                 0.0               0.0   \n",
       "1860039  ...               1.0                 0.0               0.0   \n",
       "1860040  ...               1.0                 0.0               0.0   \n",
       "1860041  ...               0.0                 0.0               0.0   \n",
       "\n",
       "         dayofweek_Thursday  dayofweek_Tuesday  dayofweek_Wednesday  \\\n",
       "0                       0.0                0.0                  1.0   \n",
       "1                       0.0                0.0                  0.0   \n",
       "2                       0.0                1.0                  0.0   \n",
       "3                       0.0                0.0                  0.0   \n",
       "4                       0.0                0.0                  0.0   \n",
       "...                     ...                ...                  ...   \n",
       "1860037                 0.0                0.0                  1.0   \n",
       "1860038                 0.0                0.0                  1.0   \n",
       "1860039                 0.0                0.0                  0.0   \n",
       "1860040                 0.0                0.0                  0.0   \n",
       "1860041                 0.0                0.0                  0.0   \n",
       "\n",
       "         daytime_afternoon  daytime_evening  daytime_morning  daytime_night  \n",
       "0                      1.0              0.0              0.0            0.0  \n",
       "1                      0.0              0.0              1.0            0.0  \n",
       "2                      0.0              0.0              0.0            1.0  \n",
       "3                      0.0              0.0              0.0            1.0  \n",
       "4                      0.0              0.0              0.0            1.0  \n",
       "...                    ...              ...              ...            ...  \n",
       "1860037                0.0              0.0              1.0            0.0  \n",
       "1860038                0.0              0.0              1.0            0.0  \n",
       "1860039                1.0              0.0              0.0            0.0  \n",
       "1860040                1.0              0.0              0.0            0.0  \n",
       "1860041                0.0              1.0              0.0            0.0  \n",
       "\n",
       "[1732229 rows x 1112 columns]"
      ]
     },
     "execution_count": 154,
     "metadata": {},
     "output_type": "execute_result"
    }
   ],
   "source": [
    "df_result"
   ]
  },
  {
   "cell_type": "markdown",
   "id": "1ade45c2-153a-49ee-9a90-2ad7e50a2620",
   "metadata": {
    "tags": []
   },
   "source": [
    "# Export result dataframe"
   ]
  },
  {
   "cell_type": "code",
   "execution_count": 155,
   "id": "9ddc834d-aafd-4392-9cf1-7d23f4213f7d",
   "metadata": {},
   "outputs": [],
   "source": [
    "df_result.to_pickle('data/df_result.pkl')"
   ]
  },
  {
   "cell_type": "code",
   "execution_count": 151,
   "id": "8778b309-a9ec-47ff-888f-c46068feacce",
   "metadata": {},
   "outputs": [],
   "source": [
    "df_result.sample(n=300_000, random_state=42).to_pickle('data/df_small.pkl')"
   ]
  },
  {
   "cell_type": "code",
   "execution_count": null,
   "id": "2e0f5ae6-1ce4-44ba-ae5e-845e5d53cd1e",
   "metadata": {},
   "outputs": [],
   "source": []
  }
 ],
 "metadata": {
  "kernelspec": {
   "display_name": "Python 3 (ipykernel)",
   "language": "python",
   "name": "python3"
  },
  "language_info": {
   "codemirror_mode": {
    "name": "ipython",
    "version": 3
   },
   "file_extension": ".py",
   "mimetype": "text/x-python",
   "name": "python",
   "nbconvert_exporter": "python",
   "pygments_lexer": "ipython3",
   "version": "3.9.7"
  }
 },
 "nbformat": 4,
 "nbformat_minor": 5
}
