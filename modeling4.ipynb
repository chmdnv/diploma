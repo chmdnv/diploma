{
 "cells": [
  {
   "cell_type": "code",
   "execution_count": 5,
   "id": "6fda9457-384e-4100-8133-014979ae9565",
   "metadata": {},
   "outputs": [],
   "source": [
    "import pandas as pd\n",
    "import joblib\n",
    "import datetime"
   ]
  },
  {
   "cell_type": "code",
   "execution_count": 6,
   "id": "e3d13544-47e0-4e02-9846-3fc261760f28",
   "metadata": {},
   "outputs": [],
   "source": [
    "from sklearn.metrics import accuracy_score, confusion_matrix\n",
    "from sklearn.metrics import roc_auc_score, roc_curve, RocCurveDisplay\n",
    "from sklearn.model_selection import train_test_split, cross_validate, cross_val_score"
   ]
  },
  {
   "cell_type": "code",
   "execution_count": 7,
   "id": "aeac7b3c-7fb2-4ab4-bf54-ed11a8959c94",
   "metadata": {},
   "outputs": [],
   "source": [
    "from sklearn.linear_model import LogisticRegression\n",
    "from sklearn.ensemble import RandomForestClassifier\n",
    "from sklearn.ensemble import HistGradientBoostingClassifier"
   ]
  },
  {
   "cell_type": "code",
   "execution_count": 8,
   "id": "2b3d450a-75a7-4401-94ed-d4d69bb9312c",
   "metadata": {},
   "outputs": [],
   "source": [
    "df = pd.read_pickle('data/df_result.pkl')"
   ]
  },
  {
   "cell_type": "code",
   "execution_count": 9,
   "id": "db776368-5796-4634-92f2-5ce26cd13841",
   "metadata": {},
   "outputs": [
    {
     "data": {
      "text/html": [
       "<div>\n",
       "<style scoped>\n",
       "    .dataframe tbody tr th:only-of-type {\n",
       "        vertical-align: middle;\n",
       "    }\n",
       "\n",
       "    .dataframe tbody tr th {\n",
       "        vertical-align: top;\n",
       "    }\n",
       "\n",
       "    .dataframe thead th {\n",
       "        text-align: right;\n",
       "    }\n",
       "</style>\n",
       "<table border=\"1\" class=\"dataframe\">\n",
       "  <thead>\n",
       "    <tr style=\"text-align: right;\">\n",
       "      <th></th>\n",
       "      <th>target_action</th>\n",
       "      <th>visit_number_std</th>\n",
       "      <th>dist_to_msk_std</th>\n",
       "      <th>pixels_std</th>\n",
       "      <th>screen_aspect_std</th>\n",
       "      <th>utm_source_BHcvLfOaCWvWTykYqHVe</th>\n",
       "      <th>utm_source_BKeImrJuRDZcHiSSTdzm</th>\n",
       "      <th>utm_source_DlnuGwaJBHGNEKdWfOpe</th>\n",
       "      <th>utm_source_DnEUulZAecfGPvdtZBYS</th>\n",
       "      <th>utm_source_FTAuYVNoYYxgvKMpKSLW</th>\n",
       "      <th>...</th>\n",
       "      <th>dayofweek_Monday</th>\n",
       "      <th>dayofweek_Saturday</th>\n",
       "      <th>dayofweek_Sunday</th>\n",
       "      <th>dayofweek_Thursday</th>\n",
       "      <th>dayofweek_Tuesday</th>\n",
       "      <th>dayofweek_Wednesday</th>\n",
       "      <th>daytime_afternoon</th>\n",
       "      <th>daytime_evening</th>\n",
       "      <th>daytime_morning</th>\n",
       "      <th>daytime_night</th>\n",
       "    </tr>\n",
       "  </thead>\n",
       "  <tbody>\n",
       "    <tr>\n",
       "      <th>0</th>\n",
       "      <td>0</td>\n",
       "      <td>-0.26012</td>\n",
       "      <td>0.182531</td>\n",
       "      <td>-0.711961</td>\n",
       "      <td>0.357344</td>\n",
       "      <td>0.0</td>\n",
       "      <td>0.0</td>\n",
       "      <td>0.0</td>\n",
       "      <td>0.0</td>\n",
       "      <td>0.0</td>\n",
       "      <td>...</td>\n",
       "      <td>0.0</td>\n",
       "      <td>0.0</td>\n",
       "      <td>0.0</td>\n",
       "      <td>0.0</td>\n",
       "      <td>0.0</td>\n",
       "      <td>1.0</td>\n",
       "      <td>1.0</td>\n",
       "      <td>0.0</td>\n",
       "      <td>0.0</td>\n",
       "      <td>0.0</td>\n",
       "    </tr>\n",
       "    <tr>\n",
       "      <th>1</th>\n",
       "      <td>0</td>\n",
       "      <td>-0.26012</td>\n",
       "      <td>-0.439447</td>\n",
       "      <td>-0.378943</td>\n",
       "      <td>0.671263</td>\n",
       "      <td>0.0</td>\n",
       "      <td>0.0</td>\n",
       "      <td>0.0</td>\n",
       "      <td>0.0</td>\n",
       "      <td>0.0</td>\n",
       "      <td>...</td>\n",
       "      <td>0.0</td>\n",
       "      <td>0.0</td>\n",
       "      <td>1.0</td>\n",
       "      <td>0.0</td>\n",
       "      <td>0.0</td>\n",
       "      <td>0.0</td>\n",
       "      <td>0.0</td>\n",
       "      <td>0.0</td>\n",
       "      <td>1.0</td>\n",
       "      <td>0.0</td>\n",
       "    </tr>\n",
       "    <tr>\n",
       "      <th>2</th>\n",
       "      <td>0</td>\n",
       "      <td>-0.26012</td>\n",
       "      <td>1.119588</td>\n",
       "      <td>-0.711961</td>\n",
       "      <td>0.357344</td>\n",
       "      <td>0.0</td>\n",
       "      <td>0.0</td>\n",
       "      <td>0.0</td>\n",
       "      <td>0.0</td>\n",
       "      <td>0.0</td>\n",
       "      <td>...</td>\n",
       "      <td>0.0</td>\n",
       "      <td>0.0</td>\n",
       "      <td>0.0</td>\n",
       "      <td>0.0</td>\n",
       "      <td>1.0</td>\n",
       "      <td>0.0</td>\n",
       "      <td>0.0</td>\n",
       "      <td>0.0</td>\n",
       "      <td>0.0</td>\n",
       "      <td>1.0</td>\n",
       "    </tr>\n",
       "    <tr>\n",
       "      <th>3</th>\n",
       "      <td>0</td>\n",
       "      <td>-0.26012</td>\n",
       "      <td>-0.439447</td>\n",
       "      <td>-0.466333</td>\n",
       "      <td>0.357344</td>\n",
       "      <td>0.0</td>\n",
       "      <td>0.0</td>\n",
       "      <td>0.0</td>\n",
       "      <td>0.0</td>\n",
       "      <td>0.0</td>\n",
       "      <td>...</td>\n",
       "      <td>0.0</td>\n",
       "      <td>1.0</td>\n",
       "      <td>0.0</td>\n",
       "      <td>0.0</td>\n",
       "      <td>0.0</td>\n",
       "      <td>0.0</td>\n",
       "      <td>0.0</td>\n",
       "      <td>0.0</td>\n",
       "      <td>0.0</td>\n",
       "      <td>1.0</td>\n",
       "    </tr>\n",
       "    <tr>\n",
       "      <th>4</th>\n",
       "      <td>0</td>\n",
       "      <td>-0.02238</td>\n",
       "      <td>-0.439447</td>\n",
       "      <td>-0.466333</td>\n",
       "      <td>0.357344</td>\n",
       "      <td>0.0</td>\n",
       "      <td>0.0</td>\n",
       "      <td>0.0</td>\n",
       "      <td>0.0</td>\n",
       "      <td>0.0</td>\n",
       "      <td>...</td>\n",
       "      <td>0.0</td>\n",
       "      <td>1.0</td>\n",
       "      <td>0.0</td>\n",
       "      <td>0.0</td>\n",
       "      <td>0.0</td>\n",
       "      <td>0.0</td>\n",
       "      <td>0.0</td>\n",
       "      <td>0.0</td>\n",
       "      <td>0.0</td>\n",
       "      <td>1.0</td>\n",
       "    </tr>\n",
       "    <tr>\n",
       "      <th>...</th>\n",
       "      <td>...</td>\n",
       "      <td>...</td>\n",
       "      <td>...</td>\n",
       "      <td>...</td>\n",
       "      <td>...</td>\n",
       "      <td>...</td>\n",
       "      <td>...</td>\n",
       "      <td>...</td>\n",
       "      <td>...</td>\n",
       "      <td>...</td>\n",
       "      <td>...</td>\n",
       "      <td>...</td>\n",
       "      <td>...</td>\n",
       "      <td>...</td>\n",
       "      <td>...</td>\n",
       "      <td>...</td>\n",
       "      <td>...</td>\n",
       "      <td>...</td>\n",
       "      <td>...</td>\n",
       "      <td>...</td>\n",
       "      <td>...</td>\n",
       "    </tr>\n",
       "    <tr>\n",
       "      <th>1860037</th>\n",
       "      <td>0</td>\n",
       "      <td>-0.26012</td>\n",
       "      <td>-0.439447</td>\n",
       "      <td>2.199873</td>\n",
       "      <td>-1.840084</td>\n",
       "      <td>1.0</td>\n",
       "      <td>0.0</td>\n",
       "      <td>0.0</td>\n",
       "      <td>0.0</td>\n",
       "      <td>0.0</td>\n",
       "      <td>...</td>\n",
       "      <td>0.0</td>\n",
       "      <td>0.0</td>\n",
       "      <td>0.0</td>\n",
       "      <td>0.0</td>\n",
       "      <td>0.0</td>\n",
       "      <td>1.0</td>\n",
       "      <td>0.0</td>\n",
       "      <td>0.0</td>\n",
       "      <td>1.0</td>\n",
       "      <td>0.0</td>\n",
       "    </tr>\n",
       "    <tr>\n",
       "      <th>1860038</th>\n",
       "      <td>0</td>\n",
       "      <td>-0.26012</td>\n",
       "      <td>-0.113202</td>\n",
       "      <td>-0.377368</td>\n",
       "      <td>0.671263</td>\n",
       "      <td>0.0</td>\n",
       "      <td>0.0</td>\n",
       "      <td>0.0</td>\n",
       "      <td>0.0</td>\n",
       "      <td>0.0</td>\n",
       "      <td>...</td>\n",
       "      <td>0.0</td>\n",
       "      <td>0.0</td>\n",
       "      <td>0.0</td>\n",
       "      <td>0.0</td>\n",
       "      <td>0.0</td>\n",
       "      <td>1.0</td>\n",
       "      <td>0.0</td>\n",
       "      <td>0.0</td>\n",
       "      <td>1.0</td>\n",
       "      <td>0.0</td>\n",
       "    </tr>\n",
       "    <tr>\n",
       "      <th>1860039</th>\n",
       "      <td>0</td>\n",
       "      <td>-0.26012</td>\n",
       "      <td>-0.439447</td>\n",
       "      <td>-0.761866</td>\n",
       "      <td>0.043426</td>\n",
       "      <td>0.0</td>\n",
       "      <td>0.0</td>\n",
       "      <td>0.0</td>\n",
       "      <td>0.0</td>\n",
       "      <td>0.0</td>\n",
       "      <td>...</td>\n",
       "      <td>1.0</td>\n",
       "      <td>0.0</td>\n",
       "      <td>0.0</td>\n",
       "      <td>0.0</td>\n",
       "      <td>0.0</td>\n",
       "      <td>0.0</td>\n",
       "      <td>1.0</td>\n",
       "      <td>0.0</td>\n",
       "      <td>0.0</td>\n",
       "      <td>0.0</td>\n",
       "    </tr>\n",
       "    <tr>\n",
       "      <th>1860040</th>\n",
       "      <td>0</td>\n",
       "      <td>-0.26012</td>\n",
       "      <td>0.232705</td>\n",
       "      <td>-0.355072</td>\n",
       "      <td>0.671263</td>\n",
       "      <td>0.0</td>\n",
       "      <td>0.0</td>\n",
       "      <td>0.0</td>\n",
       "      <td>0.0</td>\n",
       "      <td>0.0</td>\n",
       "      <td>...</td>\n",
       "      <td>1.0</td>\n",
       "      <td>0.0</td>\n",
       "      <td>0.0</td>\n",
       "      <td>0.0</td>\n",
       "      <td>0.0</td>\n",
       "      <td>0.0</td>\n",
       "      <td>1.0</td>\n",
       "      <td>0.0</td>\n",
       "      <td>0.0</td>\n",
       "      <td>0.0</td>\n",
       "    </tr>\n",
       "    <tr>\n",
       "      <th>1860041</th>\n",
       "      <td>0</td>\n",
       "      <td>-0.26012</td>\n",
       "      <td>-0.439447</td>\n",
       "      <td>1.245760</td>\n",
       "      <td>-1.840084</td>\n",
       "      <td>0.0</td>\n",
       "      <td>0.0</td>\n",
       "      <td>0.0</td>\n",
       "      <td>0.0</td>\n",
       "      <td>0.0</td>\n",
       "      <td>...</td>\n",
       "      <td>0.0</td>\n",
       "      <td>0.0</td>\n",
       "      <td>0.0</td>\n",
       "      <td>0.0</td>\n",
       "      <td>0.0</td>\n",
       "      <td>0.0</td>\n",
       "      <td>0.0</td>\n",
       "      <td>1.0</td>\n",
       "      <td>0.0</td>\n",
       "      <td>0.0</td>\n",
       "    </tr>\n",
       "  </tbody>\n",
       "</table>\n",
       "<p>1732229 rows × 1112 columns</p>\n",
       "</div>"
      ],
      "text/plain": [
       "         target_action  visit_number_std  dist_to_msk_std  pixels_std  \\\n",
       "0                    0          -0.26012         0.182531   -0.711961   \n",
       "1                    0          -0.26012        -0.439447   -0.378943   \n",
       "2                    0          -0.26012         1.119588   -0.711961   \n",
       "3                    0          -0.26012        -0.439447   -0.466333   \n",
       "4                    0          -0.02238        -0.439447   -0.466333   \n",
       "...                ...               ...              ...         ...   \n",
       "1860037              0          -0.26012        -0.439447    2.199873   \n",
       "1860038              0          -0.26012        -0.113202   -0.377368   \n",
       "1860039              0          -0.26012        -0.439447   -0.761866   \n",
       "1860040              0          -0.26012         0.232705   -0.355072   \n",
       "1860041              0          -0.26012        -0.439447    1.245760   \n",
       "\n",
       "         screen_aspect_std  utm_source_BHcvLfOaCWvWTykYqHVe  \\\n",
       "0                 0.357344                              0.0   \n",
       "1                 0.671263                              0.0   \n",
       "2                 0.357344                              0.0   \n",
       "3                 0.357344                              0.0   \n",
       "4                 0.357344                              0.0   \n",
       "...                    ...                              ...   \n",
       "1860037          -1.840084                              1.0   \n",
       "1860038           0.671263                              0.0   \n",
       "1860039           0.043426                              0.0   \n",
       "1860040           0.671263                              0.0   \n",
       "1860041          -1.840084                              0.0   \n",
       "\n",
       "         utm_source_BKeImrJuRDZcHiSSTdzm  utm_source_DlnuGwaJBHGNEKdWfOpe  \\\n",
       "0                                    0.0                              0.0   \n",
       "1                                    0.0                              0.0   \n",
       "2                                    0.0                              0.0   \n",
       "3                                    0.0                              0.0   \n",
       "4                                    0.0                              0.0   \n",
       "...                                  ...                              ...   \n",
       "1860037                              0.0                              0.0   \n",
       "1860038                              0.0                              0.0   \n",
       "1860039                              0.0                              0.0   \n",
       "1860040                              0.0                              0.0   \n",
       "1860041                              0.0                              0.0   \n",
       "\n",
       "         utm_source_DnEUulZAecfGPvdtZBYS  utm_source_FTAuYVNoYYxgvKMpKSLW  \\\n",
       "0                                    0.0                              0.0   \n",
       "1                                    0.0                              0.0   \n",
       "2                                    0.0                              0.0   \n",
       "3                                    0.0                              0.0   \n",
       "4                                    0.0                              0.0   \n",
       "...                                  ...                              ...   \n",
       "1860037                              0.0                              0.0   \n",
       "1860038                              0.0                              0.0   \n",
       "1860039                              0.0                              0.0   \n",
       "1860040                              0.0                              0.0   \n",
       "1860041                              0.0                              0.0   \n",
       "\n",
       "         ...  dayofweek_Monday  dayofweek_Saturday  dayofweek_Sunday  \\\n",
       "0        ...               0.0                 0.0               0.0   \n",
       "1        ...               0.0                 0.0               1.0   \n",
       "2        ...               0.0                 0.0               0.0   \n",
       "3        ...               0.0                 1.0               0.0   \n",
       "4        ...               0.0                 1.0               0.0   \n",
       "...      ...               ...                 ...               ...   \n",
       "1860037  ...               0.0                 0.0               0.0   \n",
       "1860038  ...               0.0                 0.0               0.0   \n",
       "1860039  ...               1.0                 0.0               0.0   \n",
       "1860040  ...               1.0                 0.0               0.0   \n",
       "1860041  ...               0.0                 0.0               0.0   \n",
       "\n",
       "         dayofweek_Thursday  dayofweek_Tuesday  dayofweek_Wednesday  \\\n",
       "0                       0.0                0.0                  1.0   \n",
       "1                       0.0                0.0                  0.0   \n",
       "2                       0.0                1.0                  0.0   \n",
       "3                       0.0                0.0                  0.0   \n",
       "4                       0.0                0.0                  0.0   \n",
       "...                     ...                ...                  ...   \n",
       "1860037                 0.0                0.0                  1.0   \n",
       "1860038                 0.0                0.0                  1.0   \n",
       "1860039                 0.0                0.0                  0.0   \n",
       "1860040                 0.0                0.0                  0.0   \n",
       "1860041                 0.0                0.0                  0.0   \n",
       "\n",
       "         daytime_afternoon  daytime_evening  daytime_morning  daytime_night  \n",
       "0                      1.0              0.0              0.0            0.0  \n",
       "1                      0.0              0.0              1.0            0.0  \n",
       "2                      0.0              0.0              0.0            1.0  \n",
       "3                      0.0              0.0              0.0            1.0  \n",
       "4                      0.0              0.0              0.0            1.0  \n",
       "...                    ...              ...              ...            ...  \n",
       "1860037                0.0              0.0              1.0            0.0  \n",
       "1860038                0.0              0.0              1.0            0.0  \n",
       "1860039                1.0              0.0              0.0            0.0  \n",
       "1860040                1.0              0.0              0.0            0.0  \n",
       "1860041                0.0              1.0              0.0            0.0  \n",
       "\n",
       "[1732229 rows x 1112 columns]"
      ]
     },
     "execution_count": 9,
     "metadata": {},
     "output_type": "execute_result"
    }
   ],
   "source": [
    "df"
   ]
  },
  {
   "cell_type": "code",
   "execution_count": 17,
   "id": "929cb478-baf3-4c6d-b2e8-e109baa2ad65",
   "metadata": {},
   "outputs": [],
   "source": [
    "# разделите выборку на треин и тест в отношении 70/30\n",
    "train_x, test_x, train_y, test_y = train_test_split(\n",
    "    df.drop(columns='target_action'), \n",
    "    df['target_action'], \n",
    "    test_size=0.3, \n",
    "    random_state=42)"
   ]
  },
  {
   "cell_type": "markdown",
   "id": "a2132285-20d2-4e7b-b947-f54422f53bec",
   "metadata": {
    "jp-MarkdownHeadingCollapsed": true,
    "tags": []
   },
   "source": [
    "# Случайный лес"
   ]
  },
  {
   "cell_type": "code",
   "execution_count": 7,
   "id": "32ab8e5b-ca96-49fd-b640-b19864ecc4b4",
   "metadata": {},
   "outputs": [
    {
     "data": {
      "text/html": [
       "<style>#sk-container-id-1 {color: black;background-color: white;}#sk-container-id-1 pre{padding: 0;}#sk-container-id-1 div.sk-toggleable {background-color: white;}#sk-container-id-1 label.sk-toggleable__label {cursor: pointer;display: block;width: 100%;margin-bottom: 0;padding: 0.3em;box-sizing: border-box;text-align: center;}#sk-container-id-1 label.sk-toggleable__label-arrow:before {content: \"▸\";float: left;margin-right: 0.25em;color: #696969;}#sk-container-id-1 label.sk-toggleable__label-arrow:hover:before {color: black;}#sk-container-id-1 div.sk-estimator:hover label.sk-toggleable__label-arrow:before {color: black;}#sk-container-id-1 div.sk-toggleable__content {max-height: 0;max-width: 0;overflow: hidden;text-align: left;background-color: #f0f8ff;}#sk-container-id-1 div.sk-toggleable__content pre {margin: 0.2em;color: black;border-radius: 0.25em;background-color: #f0f8ff;}#sk-container-id-1 input.sk-toggleable__control:checked~div.sk-toggleable__content {max-height: 200px;max-width: 100%;overflow: auto;}#sk-container-id-1 input.sk-toggleable__control:checked~label.sk-toggleable__label-arrow:before {content: \"▾\";}#sk-container-id-1 div.sk-estimator input.sk-toggleable__control:checked~label.sk-toggleable__label {background-color: #d4ebff;}#sk-container-id-1 div.sk-label input.sk-toggleable__control:checked~label.sk-toggleable__label {background-color: #d4ebff;}#sk-container-id-1 input.sk-hidden--visually {border: 0;clip: rect(1px 1px 1px 1px);clip: rect(1px, 1px, 1px, 1px);height: 1px;margin: -1px;overflow: hidden;padding: 0;position: absolute;width: 1px;}#sk-container-id-1 div.sk-estimator {font-family: monospace;background-color: #f0f8ff;border: 1px dotted black;border-radius: 0.25em;box-sizing: border-box;margin-bottom: 0.5em;}#sk-container-id-1 div.sk-estimator:hover {background-color: #d4ebff;}#sk-container-id-1 div.sk-parallel-item::after {content: \"\";width: 100%;border-bottom: 1px solid gray;flex-grow: 1;}#sk-container-id-1 div.sk-label:hover label.sk-toggleable__label {background-color: #d4ebff;}#sk-container-id-1 div.sk-serial::before {content: \"\";position: absolute;border-left: 1px solid gray;box-sizing: border-box;top: 0;bottom: 0;left: 50%;z-index: 0;}#sk-container-id-1 div.sk-serial {display: flex;flex-direction: column;align-items: center;background-color: white;padding-right: 0.2em;padding-left: 0.2em;position: relative;}#sk-container-id-1 div.sk-item {position: relative;z-index: 1;}#sk-container-id-1 div.sk-parallel {display: flex;align-items: stretch;justify-content: center;background-color: white;position: relative;}#sk-container-id-1 div.sk-item::before, #sk-container-id-1 div.sk-parallel-item::before {content: \"\";position: absolute;border-left: 1px solid gray;box-sizing: border-box;top: 0;bottom: 0;left: 50%;z-index: -1;}#sk-container-id-1 div.sk-parallel-item {display: flex;flex-direction: column;z-index: 1;position: relative;background-color: white;}#sk-container-id-1 div.sk-parallel-item:first-child::after {align-self: flex-end;width: 50%;}#sk-container-id-1 div.sk-parallel-item:last-child::after {align-self: flex-start;width: 50%;}#sk-container-id-1 div.sk-parallel-item:only-child::after {width: 0;}#sk-container-id-1 div.sk-dashed-wrapped {border: 1px dashed gray;margin: 0 0.4em 0.5em 0.4em;box-sizing: border-box;padding-bottom: 0.4em;background-color: white;}#sk-container-id-1 div.sk-label label {font-family: monospace;font-weight: bold;display: inline-block;line-height: 1.2em;}#sk-container-id-1 div.sk-label-container {text-align: center;}#sk-container-id-1 div.sk-container {/* jupyter's `normalize.less` sets `[hidden] { display: none; }` but bootstrap.min.css set `[hidden] { display: none !important; }` so we also need the `!important` here to be able to override the default hidden behavior on the sphinx rendered scikit-learn.org. See: https://github.com/scikit-learn/scikit-learn/issues/21755 */display: inline-block !important;position: relative;}#sk-container-id-1 div.sk-text-repr-fallback {display: none;}</style><div id=\"sk-container-id-1\" class=\"sk-top-container\"><div class=\"sk-text-repr-fallback\"><pre>RandomForestClassifier(random_state=42)</pre><b>In a Jupyter environment, please rerun this cell to show the HTML representation or trust the notebook. <br />On GitHub, the HTML representation is unable to render, please try loading this page with nbviewer.org.</b></div><div class=\"sk-container\" hidden><div class=\"sk-item\"><div class=\"sk-estimator sk-toggleable\"><input class=\"sk-toggleable__control sk-hidden--visually\" id=\"sk-estimator-id-1\" type=\"checkbox\" checked><label for=\"sk-estimator-id-1\" class=\"sk-toggleable__label sk-toggleable__label-arrow\">RandomForestClassifier</label><div class=\"sk-toggleable__content\"><pre>RandomForestClassifier(random_state=42)</pre></div></div></div></div></div>"
      ],
      "text/plain": [
       "RandomForestClassifier(random_state=42)"
      ]
     },
     "execution_count": 7,
     "metadata": {},
     "output_type": "execute_result"
    }
   ],
   "source": [
    "forest = RandomForestClassifier(random_state=42)\n",
    "forest.fit(train_x, train_y)"
   ]
  },
  {
   "cell_type": "code",
   "execution_count": 8,
   "id": "33edc5a8-c255-49ed-b38c-e979c2b634e5",
   "metadata": {},
   "outputs": [
    {
     "data": {
      "text/plain": [
       "array([0, 0, 0, ..., 0, 0, 0], dtype=int64)"
      ]
     },
     "execution_count": 8,
     "metadata": {},
     "output_type": "execute_result"
    }
   ],
   "source": [
    "pred_rf = forest.predict(test_x)\n",
    "pred_rf"
   ]
  },
  {
   "cell_type": "code",
   "execution_count": 9,
   "id": "d3a55e4c-2f69-4c58-9ec6-77388268ccdf",
   "metadata": {},
   "outputs": [
    {
     "data": {
      "text/plain": [
       "array([[503046,   1629],\n",
       "       [ 14806,    188]], dtype=int64)"
      ]
     },
     "execution_count": 9,
     "metadata": {},
     "output_type": "execute_result"
    }
   ],
   "source": [
    "confusion_matrix(test_y, pred_rf)"
   ]
  },
  {
   "cell_type": "code",
   "execution_count": 10,
   "id": "ad650a82-7d31-41d7-a66a-5e083760d861",
   "metadata": {},
   "outputs": [
    {
     "name": "stdout",
     "output_type": "stream",
     "text": [
      "roc_auc_score для случайного леса:\n",
      " 0.6139738621295185\n"
     ]
    }
   ],
   "source": [
    "print('roc_auc_score для случайного леса:\\n', roc_auc_score(test_y, forest.predict_proba(test_x)[:, 1]))"
   ]
  },
  {
   "cell_type": "code",
   "execution_count": 12,
   "id": "b3832704-37eb-4bbb-9428-14812d524bd9",
   "metadata": {},
   "outputs": [
    {
     "data": {
      "image/png": "[encoded data removed]",
      "text/plain": [
       "<Figure size 640x480 with 1 Axes>"
      ]
     },
     "metadata": {},
     "output_type": "display_data"
    }
   ],
   "source": [
    "y_score = forest.predict_proba(test_x)[:, 1]\n",
    "\n",
    "fpr, tpr, _ = roc_curve(test_y, y_score)\n",
    "roc_display = RocCurveDisplay(fpr=fpr, tpr=tpr).plot()"
   ]
  },
  {
   "cell_type": "markdown",
   "id": "2b22985f-8819-47f6-9fb9-66a8295d9d2b",
   "metadata": {
    "jp-MarkdownHeadingCollapsed": true,
    "tags": []
   },
   "source": [
    "# Логистическая регрессия"
   ]
  },
  {
   "cell_type": "code",
   "execution_count": 13,
   "id": "306b99c3-558d-489b-a9f0-4dbf8a30af67",
   "metadata": {},
   "outputs": [
    {
     "data": {
      "text/html": [
       "<style>#sk-container-id-2 {color: black;background-color: white;}#sk-container-id-2 pre{padding: 0;}#sk-container-id-2 div.sk-toggleable {background-color: white;}#sk-container-id-2 label.sk-toggleable__label {cursor: pointer;display: block;width: 100%;margin-bottom: 0;padding: 0.3em;box-sizing: border-box;text-align: center;}#sk-container-id-2 label.sk-toggleable__label-arrow:before {content: \"▸\";float: left;margin-right: 0.25em;color: #696969;}#sk-container-id-2 label.sk-toggleable__label-arrow:hover:before {color: black;}#sk-container-id-2 div.sk-estimator:hover label.sk-toggleable__label-arrow:before {color: black;}#sk-container-id-2 div.sk-toggleable__content {max-height: 0;max-width: 0;overflow: hidden;text-align: left;background-color: #f0f8ff;}#sk-container-id-2 div.sk-toggleable__content pre {margin: 0.2em;color: black;border-radius: 0.25em;background-color: #f0f8ff;}#sk-container-id-2 input.sk-toggleable__control:checked~div.sk-toggleable__content {max-height: 200px;max-width: 100%;overflow: auto;}#sk-container-id-2 input.sk-toggleable__control:checked~label.sk-toggleable__label-arrow:before {content: \"▾\";}#sk-container-id-2 div.sk-estimator input.sk-toggleable__control:checked~label.sk-toggleable__label {background-color: #d4ebff;}#sk-container-id-2 div.sk-label input.sk-toggleable__control:checked~label.sk-toggleable__label {background-color: #d4ebff;}#sk-container-id-2 input.sk-hidden--visually {border: 0;clip: rect(1px 1px 1px 1px);clip: rect(1px, 1px, 1px, 1px);height: 1px;margin: -1px;overflow: hidden;padding: 0;position: absolute;width: 1px;}#sk-container-id-2 div.sk-estimator {font-family: monospace;background-color: #f0f8ff;border: 1px dotted black;border-radius: 0.25em;box-sizing: border-box;margin-bottom: 0.5em;}#sk-container-id-2 div.sk-estimator:hover {background-color: #d4ebff;}#sk-container-id-2 div.sk-parallel-item::after {content: \"\";width: 100%;border-bottom: 1px solid gray;flex-grow: 1;}#sk-container-id-2 div.sk-label:hover label.sk-toggleable__label {background-color: #d4ebff;}#sk-container-id-2 div.sk-serial::before {content: \"\";position: absolute;border-left: 1px solid gray;box-sizing: border-box;top: 0;bottom: 0;left: 50%;z-index: 0;}#sk-container-id-2 div.sk-serial {display: flex;flex-direction: column;align-items: center;background-color: white;padding-right: 0.2em;padding-left: 0.2em;position: relative;}#sk-container-id-2 div.sk-item {position: relative;z-index: 1;}#sk-container-id-2 div.sk-parallel {display: flex;align-items: stretch;justify-content: center;background-color: white;position: relative;}#sk-container-id-2 div.sk-item::before, #sk-container-id-2 div.sk-parallel-item::before {content: \"\";position: absolute;border-left: 1px solid gray;box-sizing: border-box;top: 0;bottom: 0;left: 50%;z-index: -1;}#sk-container-id-2 div.sk-parallel-item {display: flex;flex-direction: column;z-index: 1;position: relative;background-color: white;}#sk-container-id-2 div.sk-parallel-item:first-child::after {align-self: flex-end;width: 50%;}#sk-container-id-2 div.sk-parallel-item:last-child::after {align-self: flex-start;width: 50%;}#sk-container-id-2 div.sk-parallel-item:only-child::after {width: 0;}#sk-container-id-2 div.sk-dashed-wrapped {border: 1px dashed gray;margin: 0 0.4em 0.5em 0.4em;box-sizing: border-box;padding-bottom: 0.4em;background-color: white;}#sk-container-id-2 div.sk-label label {font-family: monospace;font-weight: bold;display: inline-block;line-height: 1.2em;}#sk-container-id-2 div.sk-label-container {text-align: center;}#sk-container-id-2 div.sk-container {/* jupyter's `normalize.less` sets `[hidden] { display: none; }` but bootstrap.min.css set `[hidden] { display: none !important; }` so we also need the `!important` here to be able to override the default hidden behavior on the sphinx rendered scikit-learn.org. See: https://github.com/scikit-learn/scikit-learn/issues/21755 */display: inline-block !important;position: relative;}#sk-container-id-2 div.sk-text-repr-fallback {display: none;}</style><div id=\"sk-container-id-2\" class=\"sk-top-container\"><div class=\"sk-text-repr-fallback\"><pre>LogisticRegression(max_iter=2000, random_state=42)</pre><b>In a Jupyter environment, please rerun this cell to show the HTML representation or trust the notebook. <br />On GitHub, the HTML representation is unable to render, please try loading this page with nbviewer.org.</b></div><div class=\"sk-container\" hidden><div class=\"sk-item\"><div class=\"sk-estimator sk-toggleable\"><input class=\"sk-toggleable__control sk-hidden--visually\" id=\"sk-estimator-id-2\" type=\"checkbox\" checked><label for=\"sk-estimator-id-2\" class=\"sk-toggleable__label sk-toggleable__label-arrow\">LogisticRegression</label><div class=\"sk-toggleable__content\"><pre>LogisticRegression(max_iter=2000, random_state=42)</pre></div></div></div></div></div>"
      ],
      "text/plain": [
       "LogisticRegression(max_iter=2000, random_state=42)"
      ]
     },
     "execution_count": 13,
     "metadata": {},
     "output_type": "execute_result"
    }
   ],
   "source": [
    "logreg = LogisticRegression(max_iter=2000, random_state=42)\n",
    "logreg.fit(train_x, train_y)"
   ]
  },
  {
   "cell_type": "code",
   "execution_count": 14,
   "id": "9e9b5c73-c829-4f80-9970-0c12bd54e28d",
   "metadata": {},
   "outputs": [
    {
     "data": {
      "text/plain": [
       "array([0, 0, 0, ..., 0, 0, 0], dtype=int64)"
      ]
     },
     "execution_count": 14,
     "metadata": {},
     "output_type": "execute_result"
    }
   ],
   "source": [
    "pred_lr = logreg.predict(test_x)\n",
    "pred_lr"
   ]
  },
  {
   "cell_type": "code",
   "execution_count": 15,
   "id": "95095e5c-0220-4332-8533-13d717033078",
   "metadata": {},
   "outputs": [
    {
     "data": {
      "text/plain": [
       "array([[504672,      3],\n",
       "       [ 14992,      2]], dtype=int64)"
      ]
     },
     "execution_count": 15,
     "metadata": {},
     "output_type": "execute_result"
    }
   ],
   "source": [
    "confusion_matrix(test_y, pred_lr)"
   ]
  },
  {
   "cell_type": "code",
   "execution_count": 16,
   "id": "fdc7d43b-0774-4a34-b087-1a7161a5aebe",
   "metadata": {
    "tags": []
   },
   "outputs": [
    {
     "name": "stdout",
     "output_type": "stream",
     "text": [
      "roc_auc_score для логистической регрессии:\n",
      " 0.6698707588251529\n"
     ]
    }
   ],
   "source": [
    "print('roc_auc_score для логистической регрессии:\\n', roc_auc_score(test_y, logreg.decision_function(test_x)))"
   ]
  },
  {
   "cell_type": "code",
   "execution_count": 17,
   "id": "1e22e2fc-8c82-41d9-8494-3107bed45574",
   "metadata": {},
   "outputs": [
    {
     "data": {
      "image/png": "[encoded data removed]",
      "text/plain": [
       "<Figure size 640x480 with 1 Axes>"
      ]
     },
     "metadata": {},
     "output_type": "display_data"
    }
   ],
   "source": [
    "y_score = logreg.decision_function(test_x)\n",
    "\n",
    "fpr, tpr, _ = roc_curve(test_y, y_score)\n",
    "roc_display = RocCurveDisplay(fpr=fpr, tpr=tpr).plot()"
   ]
  },
  {
   "cell_type": "markdown",
   "id": "73c88239-e3a5-486e-88d3-213fc03c219e",
   "metadata": {
    "tags": []
   },
   "source": [
    "# HistGradientBoosting"
   ]
  },
  {
   "cell_type": "code",
   "execution_count": 22,
   "id": "afb3eac2-9219-491a-b4f6-da3cbb91d988",
   "metadata": {},
   "outputs": [
    {
     "data": {
      "text/html": [
       "<style>#sk-container-id-2 {color: black;background-color: white;}#sk-container-id-2 pre{padding: 0;}#sk-container-id-2 div.sk-toggleable {background-color: white;}#sk-container-id-2 label.sk-toggleable__label {cursor: pointer;display: block;width: 100%;margin-bottom: 0;padding: 0.3em;box-sizing: border-box;text-align: center;}#sk-container-id-2 label.sk-toggleable__label-arrow:before {content: \"▸\";float: left;margin-right: 0.25em;color: #696969;}#sk-container-id-2 label.sk-toggleable__label-arrow:hover:before {color: black;}#sk-container-id-2 div.sk-estimator:hover label.sk-toggleable__label-arrow:before {color: black;}#sk-container-id-2 div.sk-toggleable__content {max-height: 0;max-width: 0;overflow: hidden;text-align: left;background-color: #f0f8ff;}#sk-container-id-2 div.sk-toggleable__content pre {margin: 0.2em;color: black;border-radius: 0.25em;background-color: #f0f8ff;}#sk-container-id-2 input.sk-toggleable__control:checked~div.sk-toggleable__content {max-height: 200px;max-width: 100%;overflow: auto;}#sk-container-id-2 input.sk-toggleable__control:checked~label.sk-toggleable__label-arrow:before {content: \"▾\";}#sk-container-id-2 div.sk-estimator input.sk-toggleable__control:checked~label.sk-toggleable__label {background-color: #d4ebff;}#sk-container-id-2 div.sk-label input.sk-toggleable__control:checked~label.sk-toggleable__label {background-color: #d4ebff;}#sk-container-id-2 input.sk-hidden--visually {border: 0;clip: rect(1px 1px 1px 1px);clip: rect(1px, 1px, 1px, 1px);height: 1px;margin: -1px;overflow: hidden;padding: 0;position: absolute;width: 1px;}#sk-container-id-2 div.sk-estimator {font-family: monospace;background-color: #f0f8ff;border: 1px dotted black;border-radius: 0.25em;box-sizing: border-box;margin-bottom: 0.5em;}#sk-container-id-2 div.sk-estimator:hover {background-color: #d4ebff;}#sk-container-id-2 div.sk-parallel-item::after {content: \"\";width: 100%;border-bottom: 1px solid gray;flex-grow: 1;}#sk-container-id-2 div.sk-label:hover label.sk-toggleable__label {background-color: #d4ebff;}#sk-container-id-2 div.sk-serial::before {content: \"\";position: absolute;border-left: 1px solid gray;box-sizing: border-box;top: 0;bottom: 0;left: 50%;z-index: 0;}#sk-container-id-2 div.sk-serial {display: flex;flex-direction: column;align-items: center;background-color: white;padding-right: 0.2em;padding-left: 0.2em;position: relative;}#sk-container-id-2 div.sk-item {position: relative;z-index: 1;}#sk-container-id-2 div.sk-parallel {display: flex;align-items: stretch;justify-content: center;background-color: white;position: relative;}#sk-container-id-2 div.sk-item::before, #sk-container-id-2 div.sk-parallel-item::before {content: \"\";position: absolute;border-left: 1px solid gray;box-sizing: border-box;top: 0;bottom: 0;left: 50%;z-index: -1;}#sk-container-id-2 div.sk-parallel-item {display: flex;flex-direction: column;z-index: 1;position: relative;background-color: white;}#sk-container-id-2 div.sk-parallel-item:first-child::after {align-self: flex-end;width: 50%;}#sk-container-id-2 div.sk-parallel-item:last-child::after {align-self: flex-start;width: 50%;}#sk-container-id-2 div.sk-parallel-item:only-child::after {width: 0;}#sk-container-id-2 div.sk-dashed-wrapped {border: 1px dashed gray;margin: 0 0.4em 0.5em 0.4em;box-sizing: border-box;padding-bottom: 0.4em;background-color: white;}#sk-container-id-2 div.sk-label label {font-family: monospace;font-weight: bold;display: inline-block;line-height: 1.2em;}#sk-container-id-2 div.sk-label-container {text-align: center;}#sk-container-id-2 div.sk-container {/* jupyter's `normalize.less` sets `[hidden] { display: none; }` but bootstrap.min.css set `[hidden] { display: none !important; }` so we also need the `!important` here to be able to override the default hidden behavior on the sphinx rendered scikit-learn.org. See: https://github.com/scikit-learn/scikit-learn/issues/21755 */display: inline-block !important;position: relative;}#sk-container-id-2 div.sk-text-repr-fallback {display: none;}</style><div id=\"sk-container-id-2\" class=\"sk-top-container\"><div class=\"sk-text-repr-fallback\"><pre>HistGradientBoostingClassifier(random_state=42)</pre><b>In a Jupyter environment, please rerun this cell to show the HTML representation or trust the notebook. <br />On GitHub, the HTML representation is unable to render, please try loading this page with nbviewer.org.</b></div><div class=\"sk-container\" hidden><div class=\"sk-item\"><div class=\"sk-estimator sk-toggleable\"><input class=\"sk-toggleable__control sk-hidden--visually\" id=\"sk-estimator-id-2\" type=\"checkbox\" checked><label for=\"sk-estimator-id-2\" class=\"sk-toggleable__label sk-toggleable__label-arrow\">HistGradientBoostingClassifier</label><div class=\"sk-toggleable__content\"><pre>HistGradientBoostingClassifier(random_state=42)</pre></div></div></div></div></div>"
      ],
      "text/plain": [
       "HistGradientBoostingClassifier(random_state=42)"
      ]
     },
     "execution_count": 22,
     "metadata": {},
     "output_type": "execute_result"
    }
   ],
   "source": [
    "hgb = HistGradientBoostingClassifier(random_state=42)\n",
    "hgb.fit(train_x, train_y)"
   ]
  },
  {
   "cell_type": "code",
   "execution_count": 23,
   "id": "5d84fb86-8175-481e-abb1-0596eec5df4a",
   "metadata": {},
   "outputs": [
    {
     "data": {
      "text/plain": [
       "array([0, 0, 0, ..., 0, 0, 0], dtype=int64)"
      ]
     },
     "execution_count": 23,
     "metadata": {},
     "output_type": "execute_result"
    }
   ],
   "source": [
    "pred_hgb = hgb.predict(test_x)\n",
    "pred_hgb"
   ]
  },
  {
   "cell_type": "code",
   "execution_count": 24,
   "id": "a61dd49e-d484-4c53-97c7-d34769b7c357",
   "metadata": {},
   "outputs": [
    {
     "data": {
      "text/plain": [
       "array([[504664,     11],\n",
       "       [ 14974,     20]], dtype=int64)"
      ]
     },
     "execution_count": 24,
     "metadata": {},
     "output_type": "execute_result"
    }
   ],
   "source": [
    "confusion_matrix(test_y, pred_hgb)"
   ]
  },
  {
   "cell_type": "code",
   "execution_count": 25,
   "id": "eddfe107-a737-44b7-a252-980b01b17134",
   "metadata": {},
   "outputs": [
    {
     "name": "stdout",
     "output_type": "stream",
     "text": [
      "roc_auc_score для HGBoosting:\n",
      " 0.6927111691095751\n"
     ]
    }
   ],
   "source": [
    "print('roc_auc_score для HGBoosting:\\n', roc_auc_score(test_y, hgb.decision_function(test_x)))"
   ]
  },
  {
   "cell_type": "code",
   "execution_count": 26,
   "id": "f8680901-479d-4a1e-96c5-ce3d09f80a2a",
   "metadata": {},
   "outputs": [
    {
     "data": {
      "image/png": "[encoded data removed]",
      "text/plain": [
       "<Figure size 640x480 with 1 Axes>"
      ]
     },
     "metadata": {},
     "output_type": "display_data"
    }
   ],
   "source": [
    "y_score = hgb.decision_function(test_x)\n",
    "\n",
    "fpr, tpr, _ = roc_curve(test_y, y_score)\n",
    "roc_display = RocCurveDisplay(fpr=fpr, tpr=tpr).plot()"
   ]
  },
  {
   "cell_type": "markdown",
   "id": "1852ca19-e6e0-46d2-926d-24832074911f",
   "metadata": {},
   "source": [
    "# HistGradientBoosting (tuning)"
   ]
  },
  {
   "cell_type": "code",
   "execution_count": 27,
   "id": "62cc536a-4b92-4892-aa2c-c18573743f62",
   "metadata": {},
   "outputs": [],
   "source": [
    "hgb = HistGradientBoostingClassifier(l2_regularization=1.0, class_weight={0: 1, 1:5}, random_state=42)\n"
   ]
  },
  {
   "cell_type": "code",
   "execution_count": 28,
   "id": "3c3f9354-47da-4205-91d1-5f9de92fe45c",
   "metadata": {},
   "outputs": [
    {
     "data": {
      "text/html": [
       "<style>#sk-container-id-3 {color: black;background-color: white;}#sk-container-id-3 pre{padding: 0;}#sk-container-id-3 div.sk-toggleable {background-color: white;}#sk-container-id-3 label.sk-toggleable__label {cursor: pointer;display: block;width: 100%;margin-bottom: 0;padding: 0.3em;box-sizing: border-box;text-align: center;}#sk-container-id-3 label.sk-toggleable__label-arrow:before {content: \"▸\";float: left;margin-right: 0.25em;color: #696969;}#sk-container-id-3 label.sk-toggleable__label-arrow:hover:before {color: black;}#sk-container-id-3 div.sk-estimator:hover label.sk-toggleable__label-arrow:before {color: black;}#sk-container-id-3 div.sk-toggleable__content {max-height: 0;max-width: 0;overflow: hidden;text-align: left;background-color: #f0f8ff;}#sk-container-id-3 div.sk-toggleable__content pre {margin: 0.2em;color: black;border-radius: 0.25em;background-color: #f0f8ff;}#sk-container-id-3 input.sk-toggleable__control:checked~div.sk-toggleable__content {max-height: 200px;max-width: 100%;overflow: auto;}#sk-container-id-3 input.sk-toggleable__control:checked~label.sk-toggleable__label-arrow:before {content: \"▾\";}#sk-container-id-3 div.sk-estimator input.sk-toggleable__control:checked~label.sk-toggleable__label {background-color: #d4ebff;}#sk-container-id-3 div.sk-label input.sk-toggleable__control:checked~label.sk-toggleable__label {background-color: #d4ebff;}#sk-container-id-3 input.sk-hidden--visually {border: 0;clip: rect(1px 1px 1px 1px);clip: rect(1px, 1px, 1px, 1px);height: 1px;margin: -1px;overflow: hidden;padding: 0;position: absolute;width: 1px;}#sk-container-id-3 div.sk-estimator {font-family: monospace;background-color: #f0f8ff;border: 1px dotted black;border-radius: 0.25em;box-sizing: border-box;margin-bottom: 0.5em;}#sk-container-id-3 div.sk-estimator:hover {background-color: #d4ebff;}#sk-container-id-3 div.sk-parallel-item::after {content: \"\";width: 100%;border-bottom: 1px solid gray;flex-grow: 1;}#sk-container-id-3 div.sk-label:hover label.sk-toggleable__label {background-color: #d4ebff;}#sk-container-id-3 div.sk-serial::before {content: \"\";position: absolute;border-left: 1px solid gray;box-sizing: border-box;top: 0;bottom: 0;left: 50%;z-index: 0;}#sk-container-id-3 div.sk-serial {display: flex;flex-direction: column;align-items: center;background-color: white;padding-right: 0.2em;padding-left: 0.2em;position: relative;}#sk-container-id-3 div.sk-item {position: relative;z-index: 1;}#sk-container-id-3 div.sk-parallel {display: flex;align-items: stretch;justify-content: center;background-color: white;position: relative;}#sk-container-id-3 div.sk-item::before, #sk-container-id-3 div.sk-parallel-item::before {content: \"\";position: absolute;border-left: 1px solid gray;box-sizing: border-box;top: 0;bottom: 0;left: 50%;z-index: -1;}#sk-container-id-3 div.sk-parallel-item {display: flex;flex-direction: column;z-index: 1;position: relative;background-color: white;}#sk-container-id-3 div.sk-parallel-item:first-child::after {align-self: flex-end;width: 50%;}#sk-container-id-3 div.sk-parallel-item:last-child::after {align-self: flex-start;width: 50%;}#sk-container-id-3 div.sk-parallel-item:only-child::after {width: 0;}#sk-container-id-3 div.sk-dashed-wrapped {border: 1px dashed gray;margin: 0 0.4em 0.5em 0.4em;box-sizing: border-box;padding-bottom: 0.4em;background-color: white;}#sk-container-id-3 div.sk-label label {font-family: monospace;font-weight: bold;display: inline-block;line-height: 1.2em;}#sk-container-id-3 div.sk-label-container {text-align: center;}#sk-container-id-3 div.sk-container {/* jupyter's `normalize.less` sets `[hidden] { display: none; }` but bootstrap.min.css set `[hidden] { display: none !important; }` so we also need the `!important` here to be able to override the default hidden behavior on the sphinx rendered scikit-learn.org. See: https://github.com/scikit-learn/scikit-learn/issues/21755 */display: inline-block !important;position: relative;}#sk-container-id-3 div.sk-text-repr-fallback {display: none;}</style><div id=\"sk-container-id-3\" class=\"sk-top-container\"><div class=\"sk-text-repr-fallback\"><pre>HistGradientBoostingClassifier(class_weight={0: 1, 1: 5}, l2_regularization=1.0,\n",
       "                               random_state=42)</pre><b>In a Jupyter environment, please rerun this cell to show the HTML representation or trust the notebook. <br />On GitHub, the HTML representation is unable to render, please try loading this page with nbviewer.org.</b></div><div class=\"sk-container\" hidden><div class=\"sk-item\"><div class=\"sk-estimator sk-toggleable\"><input class=\"sk-toggleable__control sk-hidden--visually\" id=\"sk-estimator-id-3\" type=\"checkbox\" checked><label for=\"sk-estimator-id-3\" class=\"sk-toggleable__label sk-toggleable__label-arrow\">HistGradientBoostingClassifier</label><div class=\"sk-toggleable__content\"><pre>HistGradientBoostingClassifier(class_weight={0: 1, 1: 5}, l2_regularization=1.0,\n",
       "                               random_state=42)</pre></div></div></div></div></div>"
      ],
      "text/plain": [
       "HistGradientBoostingClassifier(class_weight={0: 1, 1: 5}, l2_regularization=1.0,\n",
       "                               random_state=42)"
      ]
     },
     "execution_count": 28,
     "metadata": {},
     "output_type": "execute_result"
    }
   ],
   "source": [
    "hgb.fit(train_x, train_y)"
   ]
  },
  {
   "cell_type": "code",
   "execution_count": 29,
   "id": "72b1b126-bc43-45e2-a2ff-49eaf30c9093",
   "metadata": {},
   "outputs": [
    {
     "data": {
      "text/plain": [
       "array([0, 0, 0, ..., 0, 0, 0], dtype=int64)"
      ]
     },
     "execution_count": 29,
     "metadata": {},
     "output_type": "execute_result"
    }
   ],
   "source": [
    "pred_hgb = hgb.predict(test_x)\n",
    "pred_hgb"
   ]
  },
  {
   "cell_type": "code",
   "execution_count": 30,
   "id": "431be674-68c4-4337-b452-7559c2e41db2",
   "metadata": {},
   "outputs": [
    {
     "data": {
      "text/plain": [
       "array([[504392,    283],\n",
       "       [ 14881,    113]], dtype=int64)"
      ]
     },
     "execution_count": 30,
     "metadata": {},
     "output_type": "execute_result"
    }
   ],
   "source": [
    "confusion_matrix(test_y, pred_hgb)"
   ]
  },
  {
   "cell_type": "code",
   "execution_count": 31,
   "id": "ac580880-d94f-4a45-b0b0-5c2c94c7d4bd",
   "metadata": {},
   "outputs": [
    {
     "name": "stdout",
     "output_type": "stream",
     "text": [
      "roc_auc_score для HGBoosting (тюнинг):\n",
      " 0.6939650627180083\n"
     ]
    }
   ],
   "source": [
    "print('roc_auc_score для HGBoosting (тюнинг):\\n', roc_auc_score(test_y, hgb.decision_function(test_x)))"
   ]
  },
  {
   "cell_type": "code",
   "execution_count": 32,
   "id": "05248b05-0156-42ce-b002-1bbf58b5c735",
   "metadata": {},
   "outputs": [
    {
     "data": {
      "image/png": "[encoded data removed]",
      "text/plain": [
       "<Figure size 640x480 with 1 Axes>"
      ]
     },
     "metadata": {},
     "output_type": "display_data"
    }
   ],
   "source": [
    "y_score = hgb.decision_function(test_x)\n",
    "\n",
    "fpr, tpr, _ = roc_curve(test_y, y_score)\n",
    "roc_display = RocCurveDisplay(fpr=fpr, tpr=tpr).plot()"
   ]
  },
  {
   "cell_type": "markdown",
   "id": "217ad006-ae60-4206-8526-24c70a7fadfb",
   "metadata": {},
   "source": [
    "# Выводы"
   ]
  },
  {
   "cell_type": "markdown",
   "id": "fdcf5180-b146-44f6-9027-75eab2358255",
   "metadata": {},
   "source": [
    "Лучше всего показала себя модель HistGradientBoosting, c метрикой roc-auc 0.6939\n",
    "\n",
    "Посколько специфика задачи такова, что доля 1 в целевом действии крайне мала, в целях увеличения количества действительноположительных предсказаний, будем использовать пороговое значение для сигмоиды, отличное от 0.5, при этом будет расти и доля ложнопложительных предсказаний"
   ]
  },
  {
   "cell_type": "code",
   "execution_count": 33,
   "id": "96271062-e190-4a8e-a25d-e5e549c596c1",
   "metadata": {},
   "outputs": [],
   "source": [
    "# Определим оптимальное значение порога сигмоиды \n",
    "# по оптимальному соотношению True Positive и Fasle Positive\n",
    "def tprfpr(confm):\n",
    "    tn = confm[0,0]\n",
    "    fp = confm[0,1]\n",
    "    fn = confm[1,0]\n",
    "    tp = confm[1,1]\n",
    "    return tp / (fn + tp),  fp / (tn + fp)"
   ]
  },
  {
   "cell_type": "code",
   "execution_count": 34,
   "id": "b3152a2a-f53a-441d-8a57-eabd99d34d9f",
   "metadata": {},
   "outputs": [],
   "source": [
    "def predict_custom(pred_probs, trsh=0.5):\n",
    "    return [(0 if p1 < trsh else 1) for p0, p1 in pred_probs]"
   ]
  },
  {
   "cell_type": "code",
   "execution_count": 35,
   "id": "3dd7c094-0e48-4996-9ed9-59b30c96bf4f",
   "metadata": {},
   "outputs": [
    {
     "name": "stdout",
     "output_type": "stream",
     "text": [
      "Оптимальное пороговое значение: 0.13720703125\n"
     ]
    }
   ],
   "source": [
    "def optimal_treshold(classif):\n",
    "    \"\"\"finds optimal trashold value for prediction\"\"\"\n",
    "    pred_proba = classif.predict_proba(test_x)\n",
    "\n",
    "    a, b = 0, 1\n",
    "    while abs(a - b) > 1e-3:\n",
    "        m = (a + b) / 2\n",
    "        rate = lambda p: float.__sub__(*tprfpr(confusion_matrix(test_y, p)))\n",
    "        yl = rate(predict_custom(pred_proba, trsh=(a+m)/2)), (a+m)/2\n",
    "        yr = rate(predict_custom(pred_proba, trsh=(m+b)/2)), (m+b)/2\n",
    "        if yl[0] > yr[0]:\n",
    "            b = m\n",
    "        else:\n",
    "            a = m\n",
    "    return max([yl, yr])[1]\n",
    "\n",
    "print(f\"Оптимальное пороговое значение: {optimal_treshold(hgb)}\")"
   ]
  },
  {
   "cell_type": "markdown",
   "id": "1989bbef-b068-40f8-9176-7f1e7f799506",
   "metadata": {},
   "source": [
    "Посмотрим матрицу ошибок для данного значения"
   ]
  },
  {
   "cell_type": "code",
   "execution_count": 36,
   "id": "5f5647d1-111b-4b46-92c0-0995fe8ed538",
   "metadata": {},
   "outputs": [],
   "source": [
    "pred_hgb2 = predict_custom(hgb.predict_proba(test_x), trsh=0.13720703125)"
   ]
  },
  {
   "cell_type": "code",
   "execution_count": 37,
   "id": "45b8c16d-04b9-4aa1-83bc-4eafb2b32c8a",
   "metadata": {},
   "outputs": [
    {
     "data": {
      "text/plain": [
       "array([[308318, 196357],\n",
       "       [  5077,   9917]], dtype=int64)"
      ]
     },
     "execution_count": 37,
     "metadata": {},
     "output_type": "execute_result"
    }
   ],
   "source": [
    "confusion_matrix(test_y, pred_hgb2)"
   ]
  },
  {
   "cell_type": "markdown",
   "id": "bdfd3eb2-1ff4-43e4-90fc-0d38d5294ea5",
   "metadata": {},
   "source": [
    "Посчитаем точность при кросс-валидации:"
   ]
  },
  {
   "cell_type": "code",
   "execution_count": 38,
   "id": "03f8377a-b7ea-4352-8f13-385dd8ecf7dc",
   "metadata": {},
   "outputs": [],
   "source": [
    "cv_score = cross_val_score(\n",
    "    hgb, \n",
    "    df.drop(columns='target_action'), \n",
    "    df['target_action'],\n",
    "    cv=5,\n",
    "    scoring='roc_auc'\n",
    ")"
   ]
  },
  {
   "cell_type": "code",
   "execution_count": 39,
   "id": "014205ad-b301-464a-9f97-85b27c318eb0",
   "metadata": {},
   "outputs": [
    {
     "data": {
      "text/plain": [
       "array([0.6932086 , 0.69304375, 0.68991973, 0.69131743, 0.69738715])"
      ]
     },
     "execution_count": 39,
     "metadata": {},
     "output_type": "execute_result"
    }
   ],
   "source": [
    "cv_score"
   ]
  },
  {
   "cell_type": "code",
   "execution_count": 40,
   "id": "ff2d395c-67a3-427e-b0b5-b2e24bb271d1",
   "metadata": {},
   "outputs": [
    {
     "data": {
      "text/plain": [
       "(0.6929753327578186, 0.0025143025402246193)"
      ]
     },
     "execution_count": 40,
     "metadata": {},
     "output_type": "execute_result"
    }
   ],
   "source": [
    "cv_score.mean(), cv_score.std()"
   ]
  },
  {
   "cell_type": "markdown",
   "id": "c3d16ade-e16a-4c54-90f5-e6c2a85b45f3",
   "metadata": {},
   "source": [
    "Обучим модель на всём датасете, также добавим тюнинг модели"
   ]
  },
  {
   "cell_type": "code",
   "execution_count": 41,
   "id": "d24249c7-cf76-4142-b854-9a00b9beca83",
   "metadata": {},
   "outputs": [
    {
     "data": {
      "text/html": [
       "<style>#sk-container-id-4 {color: black;background-color: white;}#sk-container-id-4 pre{padding: 0;}#sk-container-id-4 div.sk-toggleable {background-color: white;}#sk-container-id-4 label.sk-toggleable__label {cursor: pointer;display: block;width: 100%;margin-bottom: 0;padding: 0.3em;box-sizing: border-box;text-align: center;}#sk-container-id-4 label.sk-toggleable__label-arrow:before {content: \"▸\";float: left;margin-right: 0.25em;color: #696969;}#sk-container-id-4 label.sk-toggleable__label-arrow:hover:before {color: black;}#sk-container-id-4 div.sk-estimator:hover label.sk-toggleable__label-arrow:before {color: black;}#sk-container-id-4 div.sk-toggleable__content {max-height: 0;max-width: 0;overflow: hidden;text-align: left;background-color: #f0f8ff;}#sk-container-id-4 div.sk-toggleable__content pre {margin: 0.2em;color: black;border-radius: 0.25em;background-color: #f0f8ff;}#sk-container-id-4 input.sk-toggleable__control:checked~div.sk-toggleable__content {max-height: 200px;max-width: 100%;overflow: auto;}#sk-container-id-4 input.sk-toggleable__control:checked~label.sk-toggleable__label-arrow:before {content: \"▾\";}#sk-container-id-4 div.sk-estimator input.sk-toggleable__control:checked~label.sk-toggleable__label {background-color: #d4ebff;}#sk-container-id-4 div.sk-label input.sk-toggleable__control:checked~label.sk-toggleable__label {background-color: #d4ebff;}#sk-container-id-4 input.sk-hidden--visually {border: 0;clip: rect(1px 1px 1px 1px);clip: rect(1px, 1px, 1px, 1px);height: 1px;margin: -1px;overflow: hidden;padding: 0;position: absolute;width: 1px;}#sk-container-id-4 div.sk-estimator {font-family: monospace;background-color: #f0f8ff;border: 1px dotted black;border-radius: 0.25em;box-sizing: border-box;margin-bottom: 0.5em;}#sk-container-id-4 div.sk-estimator:hover {background-color: #d4ebff;}#sk-container-id-4 div.sk-parallel-item::after {content: \"\";width: 100%;border-bottom: 1px solid gray;flex-grow: 1;}#sk-container-id-4 div.sk-label:hover label.sk-toggleable__label {background-color: #d4ebff;}#sk-container-id-4 div.sk-serial::before {content: \"\";position: absolute;border-left: 1px solid gray;box-sizing: border-box;top: 0;bottom: 0;left: 50%;z-index: 0;}#sk-container-id-4 div.sk-serial {display: flex;flex-direction: column;align-items: center;background-color: white;padding-right: 0.2em;padding-left: 0.2em;position: relative;}#sk-container-id-4 div.sk-item {position: relative;z-index: 1;}#sk-container-id-4 div.sk-parallel {display: flex;align-items: stretch;justify-content: center;background-color: white;position: relative;}#sk-container-id-4 div.sk-item::before, #sk-container-id-4 div.sk-parallel-item::before {content: \"\";position: absolute;border-left: 1px solid gray;box-sizing: border-box;top: 0;bottom: 0;left: 50%;z-index: -1;}#sk-container-id-4 div.sk-parallel-item {display: flex;flex-direction: column;z-index: 1;position: relative;background-color: white;}#sk-container-id-4 div.sk-parallel-item:first-child::after {align-self: flex-end;width: 50%;}#sk-container-id-4 div.sk-parallel-item:last-child::after {align-self: flex-start;width: 50%;}#sk-container-id-4 div.sk-parallel-item:only-child::after {width: 0;}#sk-container-id-4 div.sk-dashed-wrapped {border: 1px dashed gray;margin: 0 0.4em 0.5em 0.4em;box-sizing: border-box;padding-bottom: 0.4em;background-color: white;}#sk-container-id-4 div.sk-label label {font-family: monospace;font-weight: bold;display: inline-block;line-height: 1.2em;}#sk-container-id-4 div.sk-label-container {text-align: center;}#sk-container-id-4 div.sk-container {/* jupyter's `normalize.less` sets `[hidden] { display: none; }` but bootstrap.min.css set `[hidden] { display: none !important; }` so we also need the `!important` here to be able to override the default hidden behavior on the sphinx rendered scikit-learn.org. See: https://github.com/scikit-learn/scikit-learn/issues/21755 */display: inline-block !important;position: relative;}#sk-container-id-4 div.sk-text-repr-fallback {display: none;}</style><div id=\"sk-container-id-4\" class=\"sk-top-container\"><div class=\"sk-text-repr-fallback\"><pre>HistGradientBoostingClassifier(class_weight={0: 1, 1: 5}, l2_regularization=1.0,\n",
       "                               random_state=42)</pre><b>In a Jupyter environment, please rerun this cell to show the HTML representation or trust the notebook. <br />On GitHub, the HTML representation is unable to render, please try loading this page with nbviewer.org.</b></div><div class=\"sk-container\" hidden><div class=\"sk-item\"><div class=\"sk-estimator sk-toggleable\"><input class=\"sk-toggleable__control sk-hidden--visually\" id=\"sk-estimator-id-4\" type=\"checkbox\" checked><label for=\"sk-estimator-id-4\" class=\"sk-toggleable__label sk-toggleable__label-arrow\">HistGradientBoostingClassifier</label><div class=\"sk-toggleable__content\"><pre>HistGradientBoostingClassifier(class_weight={0: 1, 1: 5}, l2_regularization=1.0,\n",
       "                               random_state=42)</pre></div></div></div></div></div>"
      ],
      "text/plain": [
       "HistGradientBoostingClassifier(class_weight={0: 1, 1: 5}, l2_regularization=1.0,\n",
       "                               random_state=42)"
      ]
     },
     "execution_count": 41,
     "metadata": {},
     "output_type": "execute_result"
    }
   ],
   "source": [
    "hgb_final = HistGradientBoostingClassifier(l2_regularization=1.0, class_weight={0: 1, 1:5}, random_state=42)\n",
    "hgb_final.fit(\n",
    "    df.drop(columns='target_action'),\n",
    "    df['target_action']\n",
    ")"
   ]
  },
  {
   "cell_type": "code",
   "execution_count": 42,
   "id": "afafa93e-05ae-4a4a-97e5-65227301102d",
   "metadata": {},
   "outputs": [
    {
     "name": "stdout",
     "output_type": "stream",
     "text": [
      "roc_auc_score для HGBoosting (весь датасет):\n",
      " 0.7053930953666453\n"
     ]
    }
   ],
   "source": [
    "print('roc_auc_score для HGBoosting (весь датасет):\\n', roc_auc_score(test_y, hgb_final.decision_function(test_x)))"
   ]
  },
  {
   "cell_type": "code",
   "execution_count": 43,
   "id": "ff850598-3631-479a-a6d0-9033ce83dc2f",
   "metadata": {},
   "outputs": [
    {
     "data": {
      "text/plain": [
       "array([[504457,    218],\n",
       "       [ 14876,    118]], dtype=int64)"
      ]
     },
     "execution_count": 43,
     "metadata": {},
     "output_type": "execute_result"
    }
   ],
   "source": [
    "confusion_matrix(test_y, hgb_final.predict(test_x))"
   ]
  },
  {
   "cell_type": "markdown",
   "id": "58c7bd1b-0ee0-432b-a137-78505d0fe38e",
   "metadata": {},
   "source": [
    "Сохраним в pickle"
   ]
  },
  {
   "cell_type": "code",
   "execution_count": 44,
   "id": "fb27c679-cf14-418c-80e3-f40d85493a78",
   "metadata": {},
   "outputs": [
    {
     "data": {
      "text/plain": [
       "['model/hist_230416-190154.pkl']"
      ]
     },
     "execution_count": 44,
     "metadata": {},
     "output_type": "execute_result"
    }
   ],
   "source": [
    "now = datetime.datetime.now()\n",
    "\n",
    "joblib.dump({\n",
    "    'model': hgb_final,\n",
    "    'author': 'Arseniy Kubanov',\n",
    "    'classifier': 'HistGradientBoosting',\n",
    "    'version': 1.2,\n",
    "    'date': now.isoformat(),\n",
    "    'roc_auc_mean': cv_score.mean(),\n",
    "    'optimal_trsh': optimal_treshold(hgb)\n",
    "},\n",
    "    f\"model/hist_{now.strftime('%y%m%d-%H%M%S')}.pkl\"\n",
    ")"
   ]
  },
  {
   "cell_type": "code",
   "execution_count": null,
   "id": "c95c62e1-0683-4142-99ca-97e9ecd52e72",
   "metadata": {},
   "outputs": [],
   "source": []
  },
  {
   "cell_type": "code",
   "execution_count": null,
   "id": "f19e426f-4541-495a-9774-37bf4f7ee0f4",
   "metadata": {},
   "outputs": [],
   "source": []
  }
 ],
 "metadata": {
  "kernelspec": {
   "display_name": "Python 3 (ipykernel)",
   "language": "python",
   "name": "python3"
  },
  "language_info": {
   "codemirror_mode": {
    "name": "ipython",
    "version": 3
   },
   "file_extension": ".py",
   "mimetype": "text/x-python",
   "name": "python",
   "nbconvert_exporter": "python",
   "pygments_lexer": "ipython3",
   "version": "3.9.7"
  }
 },
 "nbformat": 4,
 "nbformat_minor": 5
}
